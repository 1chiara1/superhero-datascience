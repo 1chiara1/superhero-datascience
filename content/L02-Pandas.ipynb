{
 "cells": [
  {
   "cell_type": "markdown",
   "metadata": {
    "header": true
   },
   "source": [
    "<div class=\"header\">\n",
    "D. Malchiodi, Superhero data science. Vol 1: probabilità e statistica: Pandas.\n",
    "</div>\n",
    "<hr style=\"width: 90%;\" align=\"left\" />"
   ]
  },
  {
   "cell_type": "markdown",
   "metadata": {},
   "source": [
    "\n",
    "\n",
    "\n",
    "<div id=\"h-0\"></div>\n",
    "\n",
    "# Pandas\n",
    "Vedremo come la libreria pandas faciliti le operazioni viste finora per caricare dati, organizzarli in opportune strutture e analizzarli. Per poter procedere dobbiamo ricaricare le librerie usate finora, nonché il file `heroes.csv`. Useremo anche la _matplotlib magic_ che ci permette di visualizzare i grafici direttamente nel notebook."
   ]
  },
  {
   "cell_type": "code",
   "execution_count": 1,
   "metadata": {},
   "outputs": [],
   "source": [
    "%matplotlib inline\n",
    "\n",
    "import csv\n",
    "import numpy as np\n",
    "import matplotlib.pyplot as plt\n",
    "import pandas as pd\n",
    "\n",
    "plt.style.use('fivethirtyeight')\n",
    "plt.rc('figure', figsize=(5.0, 2.0))\n",
    "\n",
    "with open('data/heroes.csv', 'r') as heroes_file:\n",
    "  heroes_reader = csv.reader(heroes_file, delimiter=';', quotechar='\"')\n",
    "  heroes = list(heroes_reader)[1:]"
   ]
  },
  {
   "cell_type": "markdown",
   "metadata": {},
   "source": [
    "Va notato come pandas (così come, in generale, gran parte del software open source dedicato all'analisi dei dati) sia caratterizzato da una comunità di sviluppatori molto attiva. Ciò significa che il tempo tra il rilascio di due release successive sia di norma breve: se avete effettuato l'installazione in modo autonomo è quindi possibile che stiate utilizzando una versione più (o meno) recente di quella più aggiornata quando è stato scritto questo documento. Per verificare quale sia la versione installata è sufficiente accedere alla proprietà `pd.__version__`:"
   ]
  },
  {
   "cell_type": "code",
   "execution_count": 57,
   "metadata": {},
   "outputs": [
    {
     "data": {
      "text/plain": [
       "'0.23.0'"
      ]
     },
     "execution_count": 57,
     "metadata": {},
     "output_type": "execute_result"
    }
   ],
   "source": [
    "pd.__version__"
   ]
  },
  {
   "cell_type": "markdown",
   "metadata": {},
   "source": [
    "Utilizzando una versione diversa da questa, può capitare che il risultato ottenuto eseguendo alcune celle sia diverso da quello indicato. Alcune funzionalità potrebbero anche non essere implementate, deprecate o perfino rimosse. Se state invece utilizzando l'ambiente fornito tramite immagine Docker o tramite mybinder non dovreste avere problemi di questo genere."
   ]
  },
  {
   "cell_type": "markdown",
   "metadata": {},
   "source": [
    "\n",
    "\n",
    "\n",
    "<div id=\"h-1\"></div>\n",
    "\n",
    "## Serie\n",
    "Una delle classi principali implementate in pandas è `Series`. Le sue istanze rappresentano serie di osservazioni di un certo carattere fatto su un insieme di individui. La cella seguente recupera dalla lista `heroes` precedentemente creata i nomi dei supereoi e il loro anno di prima apparizione e li utilizza per creare una serie:"
   ]
  },
  {
   "cell_type": "code",
   "execution_count": 2,
   "metadata": {},
   "outputs": [],
   "source": [
    "years = [int(h[7]) if h[7] else None for h in heroes]\n",
    "names = [h[0] for h in heroes]\n",
    "first_appearance = pd.Series(years, index = names)"
   ]
  },
  {
   "cell_type": "markdown",
   "metadata": {},
   "source": [
    "Nella creazione della lista `year` è stata utilizzata una list comprehension in cui l'espressione `int(h[7]) if h[7] else None` utilizza un operatore ternario tramite cui la stringa vuota viene trasformata nel valore speciale `None`, mentre tutte le altre vengono convertite nel corrispondente intero.\n",
    "\n",
    "La differenza tra una serie e una lista o una tupla è legata alla possibilità di invocare su di essa delle funzioni specifiche. Inoltre a ogni serie è associato un *indice* che permette di identificare ogni elemento osservato. Nell'esempio sopra riportato, il primo argomento specificato nel costruttore è una lista (ma sarebbe andata bene anche una tupla) di anni che indicano la prima apparizione di un supereroe e il secondo rappresenta appunto l'indice, che in questo caso è la lista dei corrispondenti nomi. Quando si visualizza una serie, ogni osservazione viene associata al corrispondente elemento usando appunto l'indice:"
   ]
  },
  {
   "cell_type": "code",
   "execution_count": 3,
   "metadata": {},
   "outputs": [
    {
     "data": {
      "text/plain": [
       "A-Bomb               2008.0\n",
       "Abraxas                 NaN\n",
       "Abomination             NaN\n",
       "Adam Monroe             NaN\n",
       "Agent 13                NaN\n",
       "Air-Walker              NaN\n",
       "Agent Bob            2007.0\n",
       "Abe Sapien           1993.0\n",
       "Abin Sur             1959.0\n",
       "Angela                  NaN\n",
       "Animal Man           1965.0\n",
       "Agent Zero              NaN\n",
       "Colin Wagner            NaN\n",
       "Angel Dust              NaN\n",
       "Angel Salvadore      2001.0\n",
       "Zoom                    NaN\n",
       "Lady Deathstrike     1985.0\n",
       "Yoda                 1980.0\n",
       "Zatanna                 NaN\n",
       "Yellowjacket II         NaN\n",
       "Yellowjacket            NaN\n",
       "Yellow Claw             NaN\n",
       "Absorbing Man        1964.0\n",
       "X-Man                1995.0\n",
       "X-23                    NaN\n",
       "Wondra                  NaN\n",
       "Adam Strange         1986.0\n",
       "Wonder Girl          1996.0\n",
       "Wonder Woman         1941.0\n",
       "Wolverine               NaN\n",
       "                      ...  \n",
       "Ardina                  NaN\n",
       "Arclight             1986.0\n",
       "Ares                    NaN\n",
       "Archangel            1963.0\n",
       "Astro Boy               NaN\n",
       "Atom III                NaN\n",
       "Aqualad              1960.0\n",
       "Ariel                1987.0\n",
       "Aquababy             1965.0\n",
       "Aquaman              1941.0\n",
       "Apocalypse           1986.0\n",
       "Anti-Monitor            NaN\n",
       "Ant-Man II           1979.0\n",
       "Anti-Venom              NaN\n",
       "Anti-Spawn              NaN\n",
       "Annihilus            1968.0\n",
       "Angel                1969.0\n",
       "Ammo                 1988.0\n",
       "Arachne                 NaN\n",
       "Angel                   NaN\n",
       "Allan Quatermain        NaN\n",
       "Alien                1979.0\n",
       "Alfred Pennyworth    1943.0\n",
       "Ando Masahashi          NaN\n",
       "Alex Woolsly            NaN\n",
       "Alan Scott           1940.0\n",
       "Amazo                1960.0\n",
       "Ant-Man              1962.0\n",
       "Ajax                 1998.0\n",
       "Alex Mercer             NaN\n",
       "Length: 735, dtype: float64"
      ]
     },
     "execution_count": 3,
     "metadata": {},
     "output_type": "execute_result"
    }
   ],
   "source": [
    "first_appearance"
   ]
  },
  {
   "cell_type": "markdown",
   "metadata": {},
   "source": [
    "La visualizzazione della serie (che in questo caso riporta solo i primi e gli ultimi elementi perché la serie è troppo lunga) termina indicando il tipo di dato usato per rappresentare le varie osservazioni. Nell'esempio precedente viene utilizzato il tipo `float64` (pandas utilizza internamente gli array di numpy, in cui è presente un'implementazione dei tipi in virgola mobile diversa da quella standard di python), nonostante i dati originari fossero numeri interi. Ciò è dovuto alla presenza di valori mancanti. Di norma vengono indicati con la sigla NA (dall'inglese \"not available\"), ma in pandas essi vengono rappresentati utilizzando il concetto di \"not a number\" dello standard IEEE per la virgola mobile: si noti come tutte le occorrenze di `None` nella lista originale siano state automaticamente convertite in `np.nan`.\n",
    "\n",
    "L'accesso ai dati contenuti in una serie può avvenire in due modi:\n",
    "- specificando un valore per l'indice tra parentesi quadre dopo la serie o dopo la sua proprietà `loc`:"
   ]
  },
  {
   "cell_type": "code",
   "execution_count": 4,
   "metadata": {},
   "outputs": [
    {
     "data": {
      "text/plain": [
       "(1941.0, 1941.0)"
      ]
     },
     "execution_count": 4,
     "metadata": {},
     "output_type": "execute_result"
    }
   ],
   "source": [
    "(first_appearance['Wonder Woman'], first_appearance.loc['Wonder Woman'])"
   ]
  },
  {
   "cell_type": "markdown",
   "metadata": {},
   "source": [
    "- indicando un valore per la posizione tra parentesi quadre dopo la serie o dopo la sua proprietà `iloc`:"
   ]
  },
  {
   "cell_type": "code",
   "execution_count": 5,
   "metadata": {},
   "outputs": [
    {
     "data": {
      "text/plain": [
       "(1992.0, 1992.0)"
      ]
     },
     "execution_count": 5,
     "metadata": {},
     "output_type": "execute_result"
    }
   ],
   "source": [
    "(first_appearance[128], first_appearance.iloc[128])"
   ]
  },
  {
   "cell_type": "markdown",
   "metadata": {},
   "source": [
    "<div class=\"alert alert-warning\">\n",
    "Se l'indice di una serie è basato su valori interi, i valori tra parentesi quadre immediatamente dopo la serie faranno riferimento all'indice e non alla posizione: ciò potrebbe essere fuorviante se gli elementi dell'indice non partono da zero e non sono consecutivi.\n",
    "</div>"
   ]
  },
  {
   "cell_type": "markdown",
   "metadata": {},
   "source": [
    "È inoltre possibile utilizzare una notazione simile al _list slicing_ specificando valori dell'indice oppure posizioni. Va però notato che gli _slicing_ basati su indice comprenderanno il primo e l'ultimo valore specificato:"
   ]
  },
  {
   "cell_type": "code",
   "execution_count": 6,
   "metadata": {},
   "outputs": [
    {
     "data": {
      "text/plain": [
       "Wonder Girl     1996.0\n",
       "Wonder Woman    1941.0\n",
       "dtype: float64"
      ]
     },
     "execution_count": 6,
     "metadata": {},
     "output_type": "execute_result"
    }
   ],
   "source": [
    "first_appearance['Wonder Girl':'Wonder Woman']"
   ]
  },
  {
   "cell_type": "markdown",
   "metadata": {},
   "source": [
    "mentre gli _slice_ basati su posizione escluderanno l'ultimo elemento:"
   ]
  },
  {
   "cell_type": "code",
   "execution_count": 7,
   "metadata": {},
   "outputs": [
    {
     "data": {
      "text/plain": [
       "Vegeta         NaN\n",
       "Vixen       1981.0\n",
       "Valkyrie       NaN\n",
       "dtype: float64"
      ]
     },
     "execution_count": 7,
     "metadata": {},
     "output_type": "execute_result"
    }
   ],
   "source": [
    "first_appearance[60:63]"
   ]
  },
  {
   "cell_type": "markdown",
   "metadata": {},
   "source": [
    "L'accesso posizionale può anche fare riferimento a numeri negativi, contando in analogia a liste e tuple a partire dall'ultimo elemento:"
   ]
  },
  {
   "cell_type": "code",
   "execution_count": 8,
   "metadata": {},
   "outputs": [
    {
     "data": {
      "text/plain": [
       "Alan Scott     1940.0\n",
       "Amazo          1960.0\n",
       "Ant-Man        1962.0\n",
       "Ajax           1998.0\n",
       "Alex Mercer       NaN\n",
       "dtype: float64"
      ]
     },
     "execution_count": 8,
     "metadata": {},
     "output_type": "execute_result"
    }
   ],
   "source": [
    "first_appearance[-5:]"
   ]
  },
  {
   "cell_type": "markdown",
   "metadata": {},
   "source": [
    "È possibile accedere ai primi e ultimi elementi di una serie anche utilizzando le funzioni `head` e `tail`, che mostrano rispettivamente solo le prime e le ultime righe:"
   ]
  },
  {
   "cell_type": "code",
   "execution_count": 9,
   "metadata": {},
   "outputs": [
    {
     "data": {
      "text/plain": [
       "A-Bomb         2008.0\n",
       "Abraxas           NaN\n",
       "Abomination       NaN\n",
       "Adam Monroe       NaN\n",
       "Agent 13          NaN\n",
       "Air-Walker        NaN\n",
       "Agent Bob      2007.0\n",
       "dtype: float64"
      ]
     },
     "execution_count": 9,
     "metadata": {},
     "output_type": "execute_result"
    }
   ],
   "source": [
    "first_appearance.head(7)"
   ]
  },
  {
   "cell_type": "markdown",
   "metadata": {},
   "source": [
    "L'accesso alle liste può anche essere fatto specificando una lista (ma non una tupla) di posizioni al posto di una sola posizione, con l'effetto di ottenere i corrispondenti elementi."
   ]
  },
  {
   "cell_type": "code",
   "execution_count": 10,
   "metadata": {},
   "outputs": [
    {
     "data": {
      "text/plain": [
       "Abraxas     NaN\n",
       "Warbird     NaN\n",
       "Astro Boy   NaN\n",
       "dtype: float64"
      ]
     },
     "execution_count": 10,
     "metadata": {},
     "output_type": "execute_result"
    }
   ],
   "source": [
    "first_appearance[[1, 42, 709]]"
   ]
  },
  {
   "cell_type": "markdown",
   "metadata": {},
   "source": [
    "Questo tipo di accesso può essere fatto anche specificando una lista di valori per l'indice. Infine, si può utilizzare una lista di valori booleani in cui `True` indica gli elementi da estrarre e `False` quelli da filtrare:"
   ]
  },
  {
   "cell_type": "code",
   "execution_count": 11,
   "metadata": {},
   "outputs": [
    {
     "data": {
      "text/plain": [
       "Thundra               1972.0\n",
       "Swamp Thing           1972.0\n",
       "Shang-Chi             1973.0\n",
       "Rambo                 1972.0\n",
       "Ra's Al Ghul          1971.0\n",
       "Namorita              1972.0\n",
       "Mockingbird           1971.0\n",
       "Metron                1971.0\n",
       "Man-Bat               1970.0\n",
       "Man-Thing             1971.0\n",
       "Luke Cage             1972.0\n",
       "Jennifer Kale         1972.0\n",
       "Iron Fist             1974.0\n",
       "Ghost Rider           1972.0\n",
       "Etrigan               1972.0\n",
       "Drax the Destroyer    1973.0\n",
       "Diamondback           1972.0\n",
       "Doc Samson            1971.0\n",
       "Darkseid              1970.0\n",
       "Deathlok              1974.0\n",
       "Brother Voodoo        1973.0\n",
       "Blade                 1973.0\n",
       "dtype: float64"
      ]
     },
     "execution_count": 11,
     "metadata": {},
     "output_type": "execute_result"
    }
   ],
   "source": [
    "first_appearance[[1970 <= y <1975 for y in first_appearance]]"
   ]
  },
  {
   "cell_type": "markdown",
   "metadata": {},
   "source": [
    "<div class=\"alert alert-warning\">\n",
    "L'uso di questa modalità di accesso richiede che la lista di valori booleani abbia la stessa lunghezza della serie. L'uso di liste di dimensioni minori l'accesso, che comporta un filtraggio effettuato solo nei primi elementi della serie, è deprecato e va quindi evitato.  \n",
    "</div>"
   ]
  },
  {
   "cell_type": "markdown",
   "metadata": {},
   "source": [
    "Infine, è possibile effettuare delle _query_ su una serie specificando tra parentesi quadre un'espressione logica che indica quali elementi visualizzare, utilizzando la serie come simbolo che ne indica un suo generico elemento:"
   ]
  },
  {
   "cell_type": "code",
   "execution_count": 12,
   "metadata": {},
   "outputs": [
    {
     "data": {
      "text/plain": [
       "Venompool        2011.0\n",
       "The Cape         2011.0\n",
       "Spider-Man       2011.0\n",
       "Simon Baz        2012.0\n",
       "Rey              2015.0\n",
       "Kylo Ren         2015.0\n",
       "Jyn Erso         2016.0\n",
       "K-2SO            2016.0\n",
       "Jessica Cruz     2013.0\n",
       "Garbage Man      2011.0\n",
       "Evil Deadpool    2011.0\n",
       "Captain Cold     2012.0\n",
       "Bloodhawk        2099.0\n",
       "dtype: float64"
      ]
     },
     "execution_count": 12,
     "metadata": {},
     "output_type": "execute_result"
    }
   ],
   "source": [
    "first_appearance[first_appearance > 2010]"
   ]
  },
  {
   "cell_type": "markdown",
   "metadata": {},
   "source": [
    "<div class=\"alert alert-info\">\n",
    "Tecnicamente, l'espressione `first_appearance > 2010` genera una nuova serie che ha lo stesso indice di `first_appearance` e in cui i valori sono `True` in corrispondenza degli anni successivi al 2010 e `False` altrimenti. Questa nuova serie viene utilizzata per filtrare `first_appearance`.\n",
    "</div>"
   ]
  },
  {
   "cell_type": "markdown",
   "metadata": {},
   "source": [
    "Vediamo ora come utilizzando le serie sia molto più semplice calcolare e visualizzare le frequenze assolute: il metodo `value_counts` restituisce un'altra serie in cui gli indici sono i valori osservati e i valori le corrispondenti frequenze assolute, ordinate in senso non crescente."
   ]
  },
  {
   "cell_type": "code",
   "execution_count": 13,
   "metadata": {},
   "outputs": [
    {
     "data": {
      "text/plain": [
       "1964.0    18\n",
       "1963.0    18\n",
       "1965.0    14\n",
       "2004.0    11\n",
       "1976.0    10\n",
       "1994.0    10\n",
       "1993.0    10\n",
       "1975.0    10\n",
       "1986.0    10\n",
       "1977.0    10\n",
       "1987.0     9\n",
       "1979.0     9\n",
       "1985.0     9\n",
       "1940.0     9\n",
       "1980.0     9\n",
       "1992.0     9\n",
       "1972.0     9\n",
       "1967.0     8\n",
       "1960.0     8\n",
       "1981.0     8\n",
       "2006.0     7\n",
       "2005.0     7\n",
       "1941.0     7\n",
       "1966.0     6\n",
       "1984.0     6\n",
       "2008.0     6\n",
       "1999.0     5\n",
       "1968.0     5\n",
       "1971.0     5\n",
       "1989.0     5\n",
       "          ..\n",
       "2003.0     4\n",
       "1961.0     3\n",
       "2000.0     3\n",
       "2001.0     3\n",
       "1944.0     2\n",
       "1982.0     2\n",
       "1955.0     2\n",
       "2016.0     2\n",
       "1958.0     2\n",
       "2012.0     2\n",
       "1974.0     2\n",
       "1947.0     2\n",
       "1996.0     2\n",
       "1969.0     2\n",
       "2015.0     2\n",
       "1943.0     2\n",
       "1970.0     2\n",
       "2099.0     1\n",
       "1988.0     1\n",
       "1948.0     1\n",
       "2009.0     1\n",
       "1933.0     1\n",
       "1950.0     1\n",
       "1945.0     1\n",
       "1954.0     1\n",
       "1939.0     1\n",
       "1956.0     1\n",
       "1978.0     1\n",
       "1983.0     1\n",
       "2013.0     1\n",
       "Length: 71, dtype: int64"
      ]
     },
     "execution_count": 13,
     "metadata": {},
     "output_type": "execute_result"
    }
   ],
   "source": [
    "first_appearance.value_counts()"
   ]
  },
  {
   "cell_type": "markdown",
   "metadata": {},
   "source": [
    "Va notato come il tipo delle frequenze sia, correttamente, intero e come i valori mancanti siano automaticamente esclusi dal calcolo delle frequenze, mentre sono sempre presenti gli _outlier_.  Per ottenere una serie i cui elementi siano ordinati per valore non decrescente della voce nell'indice è sufficiente invocare il metodo `sort_index`; già che ci siamo, è un buon momento per eliminare i valori fuori scala dal conteggio effettuando una _query_ sulla serie:"
   ]
  },
  {
   "cell_type": "code",
   "execution_count": 14,
   "metadata": {},
   "outputs": [
    {
     "data": {
      "text/plain": [
       "1933.0    1\n",
       "1939.0    1\n",
       "1940.0    9\n",
       "1941.0    7\n",
       "1943.0    2\n",
       "1944.0    2\n",
       "1945.0    1\n",
       "1947.0    2\n",
       "1948.0    1\n",
       "1950.0    1\n",
       "dtype: int64"
      ]
     },
     "execution_count": 14,
     "metadata": {},
     "output_type": "execute_result"
    }
   ],
   "source": [
    "first_app_freq = first_appearance[first_appearance < 2090].value_counts().sort_index()\n",
    "first_app_freq.head(10)"
   ]
  },
  {
   "cell_type": "markdown",
   "metadata": {},
   "source": [
    "\n",
    "\n",
    "\n",
    "<div id=\"h-2\"></div>\n",
    "\n",
    "## Visualizzione grafica di una serie\n",
    "Pandas mette a disposizione l'oggetto `plot` per visualizzare graficamente i contenuti di una serie, utilizzando matplotlib dietro le quinte; in particolare, il metodo `bar` visualizza un grafico a barre:"
   ]
  },
  {
   "cell_type": "code",
   "execution_count": 15,
   "metadata": {},
   "outputs": [
    {
     "data": {
      "image/png": "[encoded data removed]",
      "text/plain": [
       "<Figure size 432x288 with 1 Axes>"
      ]
     },
     "metadata": {},
     "output_type": "display_data"
    }
   ],
   "source": [
    "# Don't try this at home (men che meno all'esame!)\n",
    "\n",
    "first_appearance.plot.bar()\n",
    "plt.show()"
   ]
  },
  {
   "cell_type": "markdown",
   "metadata": {},
   "source": [
    "Il grafico ottenuto, diciamolo, fa schifo. Questo perché `bar` considera un punto per ogni elemento della serie, in cui le ascisse corrispondono alla posizione (zero per la prima osservazione, uno per la seconda e così via, sebbene nel grafico sull'asse delle ascisse vengano poi visualizzati i valori dell'indice) e le ordinate al valore osservato. Per ognuno dei punti così ottenuti viene poi tracciato un segmento che lo congiunge perpendicolarmente all'asse delle ascisse. Il risultato è decisamente poco informativo, sia da un punto di vista grafico (le etichette sull'asse delle ascisse si sovrappongono, così che non si riesce a leggere nulla), sia da un punto di vista analitico: le barre hanno altezze simili e quindi le loro differenze sono poco apprezzabili a colpo d'occhio; inoltre il grafico dipende per esempio dall'ordine in cui sono elencate le osservazioni e non ci permette di solito di trarre alcuna informazione sulla relazione che lega tra loro le osservazioni.\n",
    "\n",
    "Si ottengono dei risultati decisamente più interessanti se si visualizza un grafico analogo per le frequenze assolute:"
   ]
  },
  {
   "cell_type": "code",
   "execution_count": 16,
   "metadata": {},
   "outputs": [
    {
     "data": {
      "image/png": "[encoded data removed]",
      "text/plain": [
       "<Figure size 432x288 with 1 Axes>"
      ]
     },
     "metadata": {},
     "output_type": "display_data"
    }
   ],
   "source": [
    "first_app_freq.plot.bar()\n",
    "plt.show()"
   ]
  },
  {
   "cell_type": "markdown",
   "metadata": {},
   "source": [
    "Il grafico ottenuto è sicuramente migliore di quello precedente, ma rimane il problema di leggibilità dell'asse delle ascisse. Ciò è dovuto al fatto che pandas non inserisce le barre sul grafico nelle ascisse corrispondenti agli anni, ma le posiziona una accanto all'altra, come possiamo renderci conto visualizzando un po' meglio solo alcune delle etichette (in prima istanza non è importante capire come venga generato questo grafico, ma se siete cursosi potete leggere l'approfondimento che trovate dopo il commento al grafico stesso):"
   ]
  },
  {
   "cell_type": "code",
   "execution_count": 17,
   "metadata": {},
   "outputs": [
    {
     "data": {
      "image/png": "[encoded data removed]",
      "text/plain": [
       "<Figure size 432x288 with 1 Axes>"
      ]
     },
     "metadata": {},
     "output_type": "display_data"
    }
   ],
   "source": [
    "years = np.arange(1945, 2010, 10)\n",
    "index_pos = [first_app_freq.index.get_loc(y) for y in years]\n",
    "first_app_freq.plot.bar()\n",
    "plt.xticks(index_pos, years)\n",
    "plt.ylim((0, 18.5))\n",
    "plt.show()"
   ]
  },
  {
   "cell_type": "markdown",
   "metadata": {},
   "source": [
    "Si può osservare che tra due valori successivi evidenziati nell'asse delle ascisse intercorre una distanza di dieci anni, ma le etichette non risultano equispaziate: ciò è dovuto al fatto che in realtà la prima barra ha ascissa 1, la seconda ha ascissa 2 e così via, mentre le etichette mostrate sull'asse delle ascisse corrispondono ai valori degli indici.\n",
    "\n",
    "<div class=\"alert alert-info\">\n",
    "Per generare il grafico precedente è necessario utilizzare alcune funzionalità avanzate delle librerie considerate: `np.arange` permette di costruire un array i cui valori vanno di dieci in dieci partendo da 1945 e arrivando a 2005; la proprietà `index` di una serie permette di estrarne l'indice e il metodo `get_loc` di quest'ultimo restituisce la posizione corrispondente a un dato valore dell'indice. Infine, il metodo `xticks` di matplotlib permette di specificare quali valori evidenziare sull'asse delle ascisse e quali etichette utilizzare.\n",
    "</div>\n",
    "\n",
    "Per ottenere un grafico simile in cui le ascisse siano effettivamente gli anni di prima apparizione è necessario tornare a utilizzare esplicitamente matplotlib, passando al metodo `bar` rispettivamente l'indice e i valori della serie, che si ottengono rispettivamente utilizzando la proprietà `index` e invocando il metodo `get_values`."
   ]
  },
  {
   "cell_type": "code",
   "execution_count": 18,
   "metadata": {},
   "outputs": [
    {
     "data": {
      "image/png": "[encoded data removed]",
      "text/plain": [
       "<Figure size 432x288 with 1 Axes>"
      ]
     },
     "metadata": {},
     "output_type": "display_data"
    }
   ],
   "source": [
    "plt.bar(first_app_freq.index, first_app_freq.get_values())\n",
    "plt.xlim((1935, 2015))\n",
    "plt.ylim(0, 18.5)\n",
    "plt.show()"
   ]
  },
  {
   "cell_type": "markdown",
   "metadata": {},
   "source": [
    "\n",
    "\n",
    "\n",
    "<div id=\"h-3\"></div>\n",
    "\n",
    "## Operazioni con le serie\n",
    "Consideriamo le seguenti domande:\n",
    "\n",
    "1. Quanti supereroi sono apparsi dopo il 1960?\n",
    "2. Quanti tra il 1940 e il 1965?\n",
    "3. Quanti dopo il 1970?\n",
    "\n",
    "Per rispondere alla prima domanda dobbiamo isolare le frequenze che corrispondono agli anni di apparizione che vanno dal 1960 in avanti. Notiamo che l'indice della serie contiene i valori degli anni; è quindi possibile utilizzare l'accesso tramite *list slicing* per recuperare le frequenze degli anni di apparizione che vanno dal 1960 in avanti:"
   ]
  },
  {
   "cell_type": "code",
   "execution_count": 19,
   "metadata": {
    "scrolled": false
   },
   "outputs": [
    {
     "data": {
      "text/plain": [
       "1960.0     8\n",
       "1961.0     3\n",
       "1962.0     4\n",
       "1963.0    18\n",
       "1964.0    18\n",
       "1965.0    14\n",
       "1966.0     6\n",
       "1967.0     8\n",
       "1968.0     5\n",
       "1969.0     2\n",
       "1970.0     2\n",
       "1971.0     5\n",
       "1972.0     9\n",
       "1973.0     4\n",
       "1974.0     2\n",
       "1975.0    10\n",
       "1976.0    10\n",
       "1977.0    10\n",
       "1978.0     1\n",
       "1979.0     9\n",
       "1980.0     9\n",
       "1981.0     8\n",
       "1982.0     2\n",
       "1983.0     1\n",
       "1984.0     6\n",
       "1985.0     9\n",
       "1986.0    10\n",
       "1987.0     9\n",
       "1988.0     1\n",
       "1989.0     5\n",
       "1990.0     4\n",
       "1991.0     5\n",
       "1992.0     9\n",
       "1993.0    10\n",
       "1994.0    10\n",
       "1995.0     5\n",
       "1996.0     2\n",
       "1997.0     4\n",
       "1998.0     4\n",
       "1999.0     5\n",
       "2000.0     3\n",
       "2001.0     3\n",
       "2003.0     4\n",
       "2004.0    11\n",
       "2005.0     7\n",
       "2006.0     7\n",
       "2007.0     5\n",
       "2008.0     6\n",
       "2009.0     1\n",
       "2010.0     4\n",
       "2011.0     5\n",
       "2012.0     2\n",
       "2013.0     1\n",
       "2015.0     2\n",
       "2016.0     2\n",
       "dtype: int64"
      ]
     },
     "execution_count": 19,
     "metadata": {},
     "output_type": "execute_result"
    }
   ],
   "source": [
    "first_app_freq[1960:]"
   ]
  },
  {
   "cell_type": "markdown",
   "metadata": {},
   "source": [
    "A questo punto è sufficiente invocare la funzione `sum` sulla sotto-serie individuata per ottenere la somma delle frequenze:"
   ]
  },
  {
   "cell_type": "code",
   "execution_count": 20,
   "metadata": {},
   "outputs": [
    {
     "data": {
      "text/plain": [
       "329"
      ]
     },
     "execution_count": 20,
     "metadata": {},
     "output_type": "execute_result"
    }
   ],
   "source": [
    "sum(first_app_freq[1960:])"
   ]
  },
  {
   "cell_type": "markdown",
   "metadata": {},
   "source": [
    "La seconda domanda trova risposta in modo analogo, filtrando le frequenze degli anni di apparizione tra il 1940 e il 1966:"
   ]
  },
  {
   "cell_type": "code",
   "execution_count": 21,
   "metadata": {},
   "outputs": [
    {
     "data": {
      "text/plain": [
       "106"
      ]
     },
     "execution_count": 21,
     "metadata": {},
     "output_type": "execute_result"
    }
   ],
   "source": [
    "sum(first_app_freq[1940:1966])"
   ]
  },
  {
   "cell_type": "markdown",
   "metadata": {},
   "source": [
    "Analogamente, all'ultima domanda si risponde selezionando gli anni dal 1970 in avanti:"
   ]
  },
  {
   "cell_type": "code",
   "execution_count": 22,
   "metadata": {
    "scrolled": true
   },
   "outputs": [
    {
     "data": {
      "text/plain": [
       "243"
      ]
     },
     "execution_count": 22,
     "metadata": {},
     "output_type": "execute_result"
    }
   ],
   "source": [
    "sum(first_app_freq[1970:])"
   ]
  },
  {
   "cell_type": "markdown",
   "metadata": {},
   "source": [
    "<div class=\"alert alert-info\">\n",
    "La funzione `sum` accetta come argomento liste, tuple e serie: in tutti i casi restituisce la somma dei valori in esse contenute.\n",
    "</div>\n",
    "\n",
    "Un modo alternativo per calcolare la somma dei valori in una serie è quella di invocare su di essa l'omonimo metodo `sum`. Le serie sono inoltre in tutto e per tutto dei vettori, sui quali è possibile effettuare operazioni algebriche. Consideriamo per esempio le due serie contenenti altezza e peso dei supereroi:"
   ]
  },
  {
   "cell_type": "code",
   "execution_count": 23,
   "metadata": {},
   "outputs": [],
   "source": [
    "height = pd.Series([float(h[4]) if h[4] else None for h in heroes], index=names)\n",
    "weight = pd.Series([float(h[5]) if h[5] else None for h in heroes], index=names)"
   ]
  },
  {
   "cell_type": "markdown",
   "metadata": {},
   "source": [
    "Una prima categoria di operazioni è quella che si ottiene indicando il nome di una serie all'interno di un'espressione aritmetica: il risultato è una nuova serie ottenuta calcolando l'espressione su tutti gli elementi della serie di partenza. Per esempio, la cella seguente crea la serie contenente l'altezza degli eroi misurata in metri e ne visualizza i primi dieci elementi:"
   ]
  },
  {
   "cell_type": "code",
   "execution_count": 24,
   "metadata": {},
   "outputs": [
    {
     "data": {
      "text/plain": [
       "A-Bomb         2.0321\n",
       "Abraxas           NaN\n",
       "Abomination    2.0304\n",
       "Adam Monroe       NaN\n",
       "Agent 13       1.7341\n",
       "Air-Walker     1.8859\n",
       "Agent Bob      1.7825\n",
       "Abe Sapien     1.9124\n",
       "Abin Sur       1.8552\n",
       "Angela            NaN\n",
       "dtype: float64"
      ]
     },
     "execution_count": 24,
     "metadata": {},
     "output_type": "execute_result"
    }
   ],
   "source": [
    "(height/100)[:10]"
   ]
  },
  {
   "cell_type": "markdown",
   "metadata": {},
   "source": [
    "Quando si considerano operazioni più complicate, è possibile utilizzare il metodo `apply` indicando come suo argomento la funzione da applicare agli elementi della serie. Per esempio, nella cella seguente viene creata una nuova serie ottenuta esprimendo le altezze dei supereroi in metri e successivamente elevando il risultato al quadrato."
   ]
  },
  {
   "cell_type": "code",
   "execution_count": 25,
   "metadata": {},
   "outputs": [
    {
     "data": {
      "text/plain": [
       "A-Bomb         4.129430\n",
       "Abraxas             NaN\n",
       "Abomination    4.122524\n",
       "Adam Monroe         NaN\n",
       "Agent 13       3.007103\n",
       "Air-Walker     3.556619\n",
       "Agent Bob      3.177306\n",
       "Abe Sapien     3.657274\n",
       "Abin Sur       3.441767\n",
       "Angela              NaN\n",
       "dtype: float64"
      ]
     },
     "execution_count": 25,
     "metadata": {},
     "output_type": "execute_result"
    }
   ],
   "source": [
    "height.apply(lambda h: (h/100)**2)[:10]"
   ]
  },
  {
   "cell_type": "markdown",
   "metadata": {},
   "source": [
    "Un'altra importante categoria di operazioni è quella che vede due serie indicate come argomenti di un operatore aritmetico binario. In questo caso verrà ancora creata una nuova serie, in cui l'operazione viene calcolata elemento per elemento nelle serie indicate. Per esempio, la cella seguente crea una nuova serie `bmi` contenente l'indice di massa corporea (BMI) dei supereroi (ottenuto dividendo il peso specificato in chilogrammi per il quadrato dell'altezza misurata in metri), e mostra i quindici supereroi con il BMI più elevato."
   ]
  },
  {
   "cell_type": "code",
   "execution_count": 26,
   "metadata": {},
   "outputs": [
    {
     "data": {
      "text/plain": [
       "Utgard-Loki     2501.321629\n",
       "Giganta         1607.124545\n",
       "Red Hulk         137.611973\n",
       "Darkseid         114.366701\n",
       "Machine Man      114.083519\n",
       "Thanos           109.414534\n",
       "Destroyer        107.579152\n",
       "Abomination      107.211015\n",
       "A-Bomb           107.024446\n",
       "Hulk             105.622909\n",
       "Bloodaxe         104.160435\n",
       "Juggernaut       103.216295\n",
       "King Kong        102.732873\n",
       "Sasquatch         96.810738\n",
       "Living Brain      91.318046\n",
       "dtype: float64"
      ]
     },
     "execution_count": 26,
     "metadata": {},
     "output_type": "execute_result"
    }
   ],
   "source": [
    "bmi = weight / height.apply(lambda h: (h/100)**2)\n",
    "bmi.sort_values(ascending=False)[:15]"
   ]
  },
  {
   "cell_type": "markdown",
   "metadata": {},
   "source": [
    "Prima ancora di notare Hulk è solo il quindicesimo della classifica, saltano all'occhio i primi cinque elementi il cui valore è `inf`, il simbolo utilizzato in python per indicare l'infinito nella codifica in floating point. Va sottolinato che le operazioni fatte elemento per elemento allineano i vettori corrispondenti alle serie in base all'indice (e non alla posizione). Consideriamo per esempio la seguente cella, in cui vengono selezionati altezze e pesi più o meno plausibili per un essere umano, calcolando poi i corrispondenti BMI."
   ]
  },
  {
   "cell_type": "code",
   "execution_count": 27,
   "metadata": {},
   "outputs": [
    {
     "data": {
      "text/plain": [
       "A-Bomb                     NaN\n",
       "Abe Sapien           17.868501\n",
       "Abin Sur             26.410852\n",
       "Abomination                NaN\n",
       "Absorbing Man              NaN\n",
       "Adam Strange         25.952943\n",
       "Agent 13             20.295282\n",
       "Agent Bob            25.634923\n",
       "Agent Zero                 NaN\n",
       "Air-Walker                 NaN\n",
       "Ajax                 24.245355\n",
       "Alan Scott           27.725061\n",
       "Alfred Pennyworth    22.966566\n",
       "Ammo                       NaN\n",
       "Angel                20.589542\n",
       "dtype: float64"
      ]
     },
     "execution_count": 27,
     "metadata": {},
     "output_type": "execute_result"
    }
   ],
   "source": [
    "standard_weight = weight[(weight < 100) & (weight > 40)]\n",
    "standard_height = height[(height < 210) & (height > 120)]/100\n",
    "(standard_weight / (standard_height**2))[:15]"
   ]
  },
  {
   "cell_type": "markdown",
   "metadata": {},
   "source": [
    "Si nota un numero relativamente elevato di `NaN`, e ciò è appunto dovuto al fatto che il rapporto alla base del calcolo del BMI viene fatto usando peso e altezza di valori che hanno lo stesso indice. Ora, non è detto che un supereroe che ha un peso plausibile abbia anche un'altezza plausibile, e viceversa. Quello che succede quando si esegue un'operazione tra due serie e solo una di essa è definita in corrispondenza di uno specifico valore dell'indice, il risultato conterrà `NaN` per quel valore."
   ]
  },
  {
   "cell_type": "markdown",
   "metadata": {},
   "source": [
    "\n",
    "\n",
    "\n",
    "<div id=\"h-4\"></div>\n",
    "\n",
    "## Dataframe\n",
    "Un _dataframe_ è una collezione di serie che hanno lo stesso indice, ed è quindi un insieme di osservazioni di vari _caratteri_ per una popolazione di individui. Tra i vari modi che sono disponibili in pandas per creare un _dataframe_, noi faremo riferimento al metodo `from_csv` della classe `pd.DataFrame`, che permette di leggere i contenuti di un file in formato CSV e convertirli automaticamente in un _dataframe_."
   ]
  },
  {
   "cell_type": "code",
   "execution_count": 39,
   "metadata": {},
   "outputs": [],
   "source": [
    "heroes = pd.read_csv('data/heroes.csv', sep=';', index_col=0)"
   ]
  },
  {
   "cell_type": "markdown",
   "metadata": {},
   "source": [
    "Usando lo stesso file a cui abbiamo fatto riferimento nei paragrafi precedenti, è stato necessario utilizzare l'argomento opzionle `sep` per indicare il carattere usato per separare i campi in ogni record. La visualizzazione dei dataframe viene automaticamente formattata in un formato tabellare facile da leggere se si utilizza jupyter:"
   ]
  },
  {
   "cell_type": "code",
   "execution_count": 40,
   "metadata": {
    "scrolled": false
   },
   "outputs": [
    {
     "data": {
      "text/html": [
       "<div>\n",
       "<style scoped>\n",
       "    .dataframe tbody tr th:only-of-type {\n",
       "        vertical-align: middle;\n",
       "    }\n",
       "\n",
       "    .dataframe tbody tr th {\n",
       "        vertical-align: top;\n",
       "    }\n",
       "\n",
       "    .dataframe thead th {\n",
       "        text-align: right;\n",
       "    }\n",
       "</style>\n",
       "<table border=\"1\" class=\"dataframe\">\n",
       "  <thead>\n",
       "    <tr style=\"text-align: right;\">\n",
       "      <th></th>\n",
       "      <th>Identity</th>\n",
       "      <th>Birth place</th>\n",
       "      <th>Publisher</th>\n",
       "      <th>Height</th>\n",
       "      <th>Weight</th>\n",
       "      <th>Gender</th>\n",
       "      <th>First appearance</th>\n",
       "      <th>Eye color</th>\n",
       "      <th>Hair color</th>\n",
       "      <th>Strength</th>\n",
       "      <th>Intelligence</th>\n",
       "    </tr>\n",
       "    <tr>\n",
       "      <th>Name</th>\n",
       "      <th></th>\n",
       "      <th></th>\n",
       "      <th></th>\n",
       "      <th></th>\n",
       "      <th></th>\n",
       "      <th></th>\n",
       "      <th></th>\n",
       "      <th></th>\n",
       "      <th></th>\n",
       "      <th></th>\n",
       "      <th></th>\n",
       "    </tr>\n",
       "  </thead>\n",
       "  <tbody>\n",
       "    <tr>\n",
       "      <th>A-Bomb</th>\n",
       "      <td>Richard Milhouse Jones</td>\n",
       "      <td>Scarsdale, Arizona</td>\n",
       "      <td>Marvel Comics</td>\n",
       "      <td>203.21</td>\n",
       "      <td>441.95</td>\n",
       "      <td>M</td>\n",
       "      <td>2008.0</td>\n",
       "      <td>Yellow</td>\n",
       "      <td>No Hair</td>\n",
       "      <td>100.0</td>\n",
       "      <td>moderate</td>\n",
       "    </tr>\n",
       "    <tr>\n",
       "      <th>Abraxas</th>\n",
       "      <td>Abraxas</td>\n",
       "      <td>Within Eternity</td>\n",
       "      <td>Marvel Comics</td>\n",
       "      <td>NaN</td>\n",
       "      <td>NaN</td>\n",
       "      <td>M</td>\n",
       "      <td>NaN</td>\n",
       "      <td>Blue</td>\n",
       "      <td>Black</td>\n",
       "      <td>100.0</td>\n",
       "      <td>high</td>\n",
       "    </tr>\n",
       "    <tr>\n",
       "      <th>Abomination</th>\n",
       "      <td>Emil Blonsky</td>\n",
       "      <td>Zagreb, Yugoslavia</td>\n",
       "      <td>Marvel Comics</td>\n",
       "      <td>203.04</td>\n",
       "      <td>441.98</td>\n",
       "      <td>M</td>\n",
       "      <td>NaN</td>\n",
       "      <td>Green</td>\n",
       "      <td>No Hair</td>\n",
       "      <td>80.0</td>\n",
       "      <td>good</td>\n",
       "    </tr>\n",
       "    <tr>\n",
       "      <th>Adam Monroe</th>\n",
       "      <td>NaN</td>\n",
       "      <td>NaN</td>\n",
       "      <td>NBC - Heroes</td>\n",
       "      <td>NaN</td>\n",
       "      <td>NaN</td>\n",
       "      <td>M</td>\n",
       "      <td>NaN</td>\n",
       "      <td>Blue</td>\n",
       "      <td>Blond</td>\n",
       "      <td>10.0</td>\n",
       "      <td>good</td>\n",
       "    </tr>\n",
       "    <tr>\n",
       "      <th>Agent 13</th>\n",
       "      <td>Sharon Carter</td>\n",
       "      <td>NaN</td>\n",
       "      <td>Marvel Comics</td>\n",
       "      <td>173.41</td>\n",
       "      <td>61.03</td>\n",
       "      <td>F</td>\n",
       "      <td>NaN</td>\n",
       "      <td>Blue</td>\n",
       "      <td>Blond</td>\n",
       "      <td>NaN</td>\n",
       "      <td>NaN</td>\n",
       "    </tr>\n",
       "    <tr>\n",
       "      <th>Air-Walker</th>\n",
       "      <td>Gabriel Lan</td>\n",
       "      <td>Xandar, a planet in the Tranta system, Androme...</td>\n",
       "      <td>Marvel Comics</td>\n",
       "      <td>188.59</td>\n",
       "      <td>108.23</td>\n",
       "      <td>M</td>\n",
       "      <td>NaN</td>\n",
       "      <td>Blue</td>\n",
       "      <td>White</td>\n",
       "      <td>85.0</td>\n",
       "      <td>average</td>\n",
       "    </tr>\n",
       "    <tr>\n",
       "      <th>Agent Bob</th>\n",
       "      <td>Bob</td>\n",
       "      <td>NaN</td>\n",
       "      <td>Marvel Comics</td>\n",
       "      <td>178.25</td>\n",
       "      <td>81.45</td>\n",
       "      <td>M</td>\n",
       "      <td>2007.0</td>\n",
       "      <td>Brown</td>\n",
       "      <td>Brown</td>\n",
       "      <td>10.0</td>\n",
       "      <td>low</td>\n",
       "    </tr>\n",
       "    <tr>\n",
       "      <th>Abe Sapien</th>\n",
       "      <td>Abraham Sapien</td>\n",
       "      <td>NaN</td>\n",
       "      <td>Dark Horse Comics</td>\n",
       "      <td>191.24</td>\n",
       "      <td>65.35</td>\n",
       "      <td>M</td>\n",
       "      <td>1993.0</td>\n",
       "      <td>Blue</td>\n",
       "      <td>No Hair</td>\n",
       "      <td>30.0</td>\n",
       "      <td>high</td>\n",
       "    </tr>\n",
       "    <tr>\n",
       "      <th>Abin Sur</th>\n",
       "      <td>NaN</td>\n",
       "      <td>Ungara</td>\n",
       "      <td>DC Comics</td>\n",
       "      <td>185.52</td>\n",
       "      <td>90.90</td>\n",
       "      <td>M</td>\n",
       "      <td>1959.0</td>\n",
       "      <td>Blue</td>\n",
       "      <td>No Hair</td>\n",
       "      <td>90.0</td>\n",
       "      <td>average</td>\n",
       "    </tr>\n",
       "    <tr>\n",
       "      <th>Angela</th>\n",
       "      <td>NaN</td>\n",
       "      <td>NaN</td>\n",
       "      <td>Image Comics</td>\n",
       "      <td>NaN</td>\n",
       "      <td>NaN</td>\n",
       "      <td>F</td>\n",
       "      <td>NaN</td>\n",
       "      <td>NaN</td>\n",
       "      <td>NaN</td>\n",
       "      <td>100.0</td>\n",
       "      <td>high</td>\n",
       "    </tr>\n",
       "    <tr>\n",
       "      <th>Animal Man</th>\n",
       "      <td>Bernhard Baker</td>\n",
       "      <td>NaN</td>\n",
       "      <td>DC Comics</td>\n",
       "      <td>183.80</td>\n",
       "      <td>83.39</td>\n",
       "      <td>M</td>\n",
       "      <td>1965.0</td>\n",
       "      <td>Blue</td>\n",
       "      <td>Blond</td>\n",
       "      <td>50.0</td>\n",
       "      <td>average</td>\n",
       "    </tr>\n",
       "    <tr>\n",
       "      <th>Agent Zero</th>\n",
       "      <td>Christoph Nord</td>\n",
       "      <td>Unrevealed location in former East Germany</td>\n",
       "      <td>Marvel Comics</td>\n",
       "      <td>191.29</td>\n",
       "      <td>104.17</td>\n",
       "      <td>M</td>\n",
       "      <td>NaN</td>\n",
       "      <td>NaN</td>\n",
       "      <td>NaN</td>\n",
       "      <td>30.0</td>\n",
       "      <td>good</td>\n",
       "    </tr>\n",
       "    <tr>\n",
       "      <th>Colin Wagner</th>\n",
       "      <td>NaN</td>\n",
       "      <td>NaN</td>\n",
       "      <td>HarperCollins</td>\n",
       "      <td>NaN</td>\n",
       "      <td>NaN</td>\n",
       "      <td>M</td>\n",
       "      <td>NaN</td>\n",
       "      <td>Grey</td>\n",
       "      <td>Brown</td>\n",
       "      <td>NaN</td>\n",
       "      <td>NaN</td>\n",
       "    </tr>\n",
       "    <tr>\n",
       "      <th>Angel Dust</th>\n",
       "      <td>Christina</td>\n",
       "      <td>NaN</td>\n",
       "      <td>Marvel Comics</td>\n",
       "      <td>165.78</td>\n",
       "      <td>57.21</td>\n",
       "      <td>F</td>\n",
       "      <td>NaN</td>\n",
       "      <td>Yellow</td>\n",
       "      <td>Black</td>\n",
       "      <td>55.0</td>\n",
       "      <td>moderate</td>\n",
       "    </tr>\n",
       "    <tr>\n",
       "      <th>Angel Salvadore</th>\n",
       "      <td>Angel Salvadore Bohusk</td>\n",
       "      <td>NaN</td>\n",
       "      <td>Marvel Comics</td>\n",
       "      <td>163.57</td>\n",
       "      <td>54.67</td>\n",
       "      <td>F</td>\n",
       "      <td>2001.0</td>\n",
       "      <td>Brown</td>\n",
       "      <td>Black</td>\n",
       "      <td>10.0</td>\n",
       "      <td>moderate</td>\n",
       "    </tr>\n",
       "    <tr>\n",
       "      <th>Zoom</th>\n",
       "      <td>Hunter Zolomon</td>\n",
       "      <td>NaN</td>\n",
       "      <td>DC Comics</td>\n",
       "      <td>185.90</td>\n",
       "      <td>81.93</td>\n",
       "      <td>M</td>\n",
       "      <td>NaN</td>\n",
       "      <td>Red</td>\n",
       "      <td>Brown</td>\n",
       "      <td>10.0</td>\n",
       "      <td>average</td>\n",
       "    </tr>\n",
       "    <tr>\n",
       "      <th>Lady Deathstrike</th>\n",
       "      <td>Yuriko Oyama</td>\n",
       "      <td>Osaka, Japan</td>\n",
       "      <td>Marvel Comics</td>\n",
       "      <td>175.85</td>\n",
       "      <td>58.89</td>\n",
       "      <td>F</td>\n",
       "      <td>1985.0</td>\n",
       "      <td>Brown</td>\n",
       "      <td>Black</td>\n",
       "      <td>30.0</td>\n",
       "      <td>good</td>\n",
       "    </tr>\n",
       "    <tr>\n",
       "      <th>Yoda</th>\n",
       "      <td>Yoda</td>\n",
       "      <td>NaN</td>\n",
       "      <td>George Lucas</td>\n",
       "      <td>66.29</td>\n",
       "      <td>17.01</td>\n",
       "      <td>M</td>\n",
       "      <td>1980.0</td>\n",
       "      <td>Brown</td>\n",
       "      <td>White</td>\n",
       "      <td>55.0</td>\n",
       "      <td>high</td>\n",
       "    </tr>\n",
       "    <tr>\n",
       "      <th>Zatanna</th>\n",
       "      <td>Zatanna Zatara</td>\n",
       "      <td>NaN</td>\n",
       "      <td>DC Comics</td>\n",
       "      <td>170.29</td>\n",
       "      <td>57.77</td>\n",
       "      <td>F</td>\n",
       "      <td>NaN</td>\n",
       "      <td>Blue</td>\n",
       "      <td>Black</td>\n",
       "      <td>10.0</td>\n",
       "      <td>high</td>\n",
       "    </tr>\n",
       "    <tr>\n",
       "      <th>Yellowjacket II</th>\n",
       "      <td>Rita DeMara</td>\n",
       "      <td>NaN</td>\n",
       "      <td>Marvel Comics</td>\n",
       "      <td>165.58</td>\n",
       "      <td>52.36</td>\n",
       "      <td>F</td>\n",
       "      <td>NaN</td>\n",
       "      <td>Blue</td>\n",
       "      <td>Strawberry Blond</td>\n",
       "      <td>10.0</td>\n",
       "      <td>average</td>\n",
       "    </tr>\n",
       "    <tr>\n",
       "      <th>Yellowjacket</th>\n",
       "      <td>Hank Pym</td>\n",
       "      <td>Elmsford, New York</td>\n",
       "      <td>Marvel Comics</td>\n",
       "      <td>183.03</td>\n",
       "      <td>83.71</td>\n",
       "      <td>M</td>\n",
       "      <td>NaN</td>\n",
       "      <td>Blue</td>\n",
       "      <td>Blond</td>\n",
       "      <td>10.0</td>\n",
       "      <td>high</td>\n",
       "    </tr>\n",
       "    <tr>\n",
       "      <th>Yellow Claw</th>\n",
       "      <td>NaN</td>\n",
       "      <td>Somewhere in mainland China</td>\n",
       "      <td>Marvel Comics</td>\n",
       "      <td>188.40</td>\n",
       "      <td>95.09</td>\n",
       "      <td>M</td>\n",
       "      <td>NaN</td>\n",
       "      <td>Blue</td>\n",
       "      <td>No Hair</td>\n",
       "      <td>NaN</td>\n",
       "      <td>NaN</td>\n",
       "    </tr>\n",
       "    <tr>\n",
       "      <th>Absorbing Man</th>\n",
       "      <td>Carl Creel</td>\n",
       "      <td>New York City, New York</td>\n",
       "      <td>Marvel Comics</td>\n",
       "      <td>193.36</td>\n",
       "      <td>122.28</td>\n",
       "      <td>M</td>\n",
       "      <td>1964.0</td>\n",
       "      <td>Blue</td>\n",
       "      <td>No Hair</td>\n",
       "      <td>80.0</td>\n",
       "      <td>moderate</td>\n",
       "    </tr>\n",
       "    <tr>\n",
       "      <th>X-Man</th>\n",
       "      <td>Nate Grey</td>\n",
       "      <td>American Northeast of Earth-295</td>\n",
       "      <td>Marvel Comics</td>\n",
       "      <td>175.82</td>\n",
       "      <td>61.80</td>\n",
       "      <td>M</td>\n",
       "      <td>1995.0</td>\n",
       "      <td>Blue</td>\n",
       "      <td>Brown</td>\n",
       "      <td>55.0</td>\n",
       "      <td>high</td>\n",
       "    </tr>\n",
       "    <tr>\n",
       "      <th>X-23</th>\n",
       "      <td>Laura Kinney</td>\n",
       "      <td>The Facility, location unrevealed</td>\n",
       "      <td>Marvel Comics</td>\n",
       "      <td>155.61</td>\n",
       "      <td>50.39</td>\n",
       "      <td>F</td>\n",
       "      <td>NaN</td>\n",
       "      <td>Green</td>\n",
       "      <td>Black</td>\n",
       "      <td>25.0</td>\n",
       "      <td>good</td>\n",
       "    </tr>\n",
       "    <tr>\n",
       "      <th>Wondra</th>\n",
       "      <td>NaN</td>\n",
       "      <td>NaN</td>\n",
       "      <td>Marvel Comics</td>\n",
       "      <td>NaN</td>\n",
       "      <td>NaN</td>\n",
       "      <td>F</td>\n",
       "      <td>NaN</td>\n",
       "      <td>NaN</td>\n",
       "      <td>NaN</td>\n",
       "      <td>NaN</td>\n",
       "      <td>NaN</td>\n",
       "    </tr>\n",
       "    <tr>\n",
       "      <th>Adam Strange</th>\n",
       "      <td>Adam Strange</td>\n",
       "      <td>Chicago, Illinois</td>\n",
       "      <td>DC Comics</td>\n",
       "      <td>185.10</td>\n",
       "      <td>88.92</td>\n",
       "      <td>M</td>\n",
       "      <td>1986.0</td>\n",
       "      <td>Blue</td>\n",
       "      <td>Blond</td>\n",
       "      <td>10.0</td>\n",
       "      <td>good</td>\n",
       "    </tr>\n",
       "    <tr>\n",
       "      <th>Wonder Girl</th>\n",
       "      <td>Cassandra Elizabeth Sandsmark</td>\n",
       "      <td>NaN</td>\n",
       "      <td>DC Comics</td>\n",
       "      <td>165.74</td>\n",
       "      <td>51.33</td>\n",
       "      <td>F</td>\n",
       "      <td>1996.0</td>\n",
       "      <td>Blue</td>\n",
       "      <td>Blond</td>\n",
       "      <td>90.0</td>\n",
       "      <td>good</td>\n",
       "    </tr>\n",
       "    <tr>\n",
       "      <th>Wonder Woman</th>\n",
       "      <td>Diana Prince</td>\n",
       "      <td>Themyscira</td>\n",
       "      <td>DC Comics</td>\n",
       "      <td>183.13</td>\n",
       "      <td>74.74</td>\n",
       "      <td>F</td>\n",
       "      <td>1941.0</td>\n",
       "      <td>Blue</td>\n",
       "      <td>Black</td>\n",
       "      <td>100.0</td>\n",
       "      <td>high</td>\n",
       "    </tr>\n",
       "    <tr>\n",
       "      <th>Wolverine</th>\n",
       "      <td>Logan</td>\n",
       "      <td>Alberta, Canada</td>\n",
       "      <td>Marvel Comics</td>\n",
       "      <td>160.70</td>\n",
       "      <td>135.21</td>\n",
       "      <td>M</td>\n",
       "      <td>NaN</td>\n",
       "      <td>Blue</td>\n",
       "      <td>Black</td>\n",
       "      <td>35.0</td>\n",
       "      <td>good</td>\n",
       "    </tr>\n",
       "    <tr>\n",
       "      <th>...</th>\n",
       "      <td>...</td>\n",
       "      <td>...</td>\n",
       "      <td>...</td>\n",
       "      <td>...</td>\n",
       "      <td>...</td>\n",
       "      <td>...</td>\n",
       "      <td>...</td>\n",
       "      <td>...</td>\n",
       "      <td>...</td>\n",
       "      <td>...</td>\n",
       "      <td>...</td>\n",
       "    </tr>\n",
       "    <tr>\n",
       "      <th>Ardina</th>\n",
       "      <td>Ardina</td>\n",
       "      <td>NaN</td>\n",
       "      <td>Marvel Comics</td>\n",
       "      <td>193.98</td>\n",
       "      <td>98.68</td>\n",
       "      <td>F</td>\n",
       "      <td>NaN</td>\n",
       "      <td>White</td>\n",
       "      <td>Orange</td>\n",
       "      <td>100.0</td>\n",
       "      <td>good</td>\n",
       "    </tr>\n",
       "    <tr>\n",
       "      <th>Arclight</th>\n",
       "      <td>Philippa Sontag</td>\n",
       "      <td>Vietnam</td>\n",
       "      <td>Marvel Comics</td>\n",
       "      <td>173.43</td>\n",
       "      <td>57.25</td>\n",
       "      <td>F</td>\n",
       "      <td>1986.0</td>\n",
       "      <td>Violet</td>\n",
       "      <td>Purple</td>\n",
       "      <td>65.0</td>\n",
       "      <td>moderate</td>\n",
       "    </tr>\n",
       "    <tr>\n",
       "      <th>Ares</th>\n",
       "      <td>NaN</td>\n",
       "      <td>NaN</td>\n",
       "      <td>Marvel Comics</td>\n",
       "      <td>185.28</td>\n",
       "      <td>270.30</td>\n",
       "      <td>M</td>\n",
       "      <td>NaN</td>\n",
       "      <td>Brown</td>\n",
       "      <td>Brown</td>\n",
       "      <td>85.0</td>\n",
       "      <td>good</td>\n",
       "    </tr>\n",
       "    <tr>\n",
       "      <th>Archangel</th>\n",
       "      <td>Warren Kenneth Worthington III</td>\n",
       "      <td>Centerport, Long Island, New York</td>\n",
       "      <td>Marvel Comics</td>\n",
       "      <td>183.82</td>\n",
       "      <td>68.63</td>\n",
       "      <td>M</td>\n",
       "      <td>1963.0</td>\n",
       "      <td>Blue</td>\n",
       "      <td>Blond</td>\n",
       "      <td>15.0</td>\n",
       "      <td>good</td>\n",
       "    </tr>\n",
       "    <tr>\n",
       "      <th>Astro Boy</th>\n",
       "      <td>Atom</td>\n",
       "      <td>NaN</td>\n",
       "      <td>NaN</td>\n",
       "      <td>NaN</td>\n",
       "      <td>NaN</td>\n",
       "      <td>M</td>\n",
       "      <td>NaN</td>\n",
       "      <td>Brown</td>\n",
       "      <td>Black</td>\n",
       "      <td>95.0</td>\n",
       "      <td>average</td>\n",
       "    </tr>\n",
       "    <tr>\n",
       "      <th>Atom III</th>\n",
       "      <td>Adam Cray</td>\n",
       "      <td>NaN</td>\n",
       "      <td>DC Comics</td>\n",
       "      <td>NaN</td>\n",
       "      <td>NaN</td>\n",
       "      <td>M</td>\n",
       "      <td>NaN</td>\n",
       "      <td>NaN</td>\n",
       "      <td>Red</td>\n",
       "      <td>NaN</td>\n",
       "      <td>NaN</td>\n",
       "    </tr>\n",
       "    <tr>\n",
       "      <th>Aqualad</th>\n",
       "      <td>Garth</td>\n",
       "      <td>Poseidonis, Atlantis</td>\n",
       "      <td>DC Comics</td>\n",
       "      <td>178.89</td>\n",
       "      <td>106.83</td>\n",
       "      <td>M</td>\n",
       "      <td>1960.0</td>\n",
       "      <td>Blue</td>\n",
       "      <td>Black</td>\n",
       "      <td>45.0</td>\n",
       "      <td>good</td>\n",
       "    </tr>\n",
       "    <tr>\n",
       "      <th>Ariel</th>\n",
       "      <td>Ariel</td>\n",
       "      <td>NaN</td>\n",
       "      <td>Marvel Comics</td>\n",
       "      <td>165.35</td>\n",
       "      <td>59.17</td>\n",
       "      <td>F</td>\n",
       "      <td>1987.0</td>\n",
       "      <td>Purple</td>\n",
       "      <td>Pink</td>\n",
       "      <td>10.0</td>\n",
       "      <td>average</td>\n",
       "    </tr>\n",
       "    <tr>\n",
       "      <th>Aquababy</th>\n",
       "      <td>Arthur Curry, Jr.</td>\n",
       "      <td>NaN</td>\n",
       "      <td>DC Comics</td>\n",
       "      <td>NaN</td>\n",
       "      <td>NaN</td>\n",
       "      <td>M</td>\n",
       "      <td>1965.0</td>\n",
       "      <td>Blue</td>\n",
       "      <td>Blond</td>\n",
       "      <td>20.0</td>\n",
       "      <td>low</td>\n",
       "    </tr>\n",
       "    <tr>\n",
       "      <th>Aquaman</th>\n",
       "      <td>Orin</td>\n",
       "      <td>Atlantis</td>\n",
       "      <td>DC Comics</td>\n",
       "      <td>185.71</td>\n",
       "      <td>146.96</td>\n",
       "      <td>M</td>\n",
       "      <td>1941.0</td>\n",
       "      <td>Blue</td>\n",
       "      <td>Blond</td>\n",
       "      <td>85.0</td>\n",
       "      <td>high</td>\n",
       "    </tr>\n",
       "    <tr>\n",
       "      <th>Apocalypse</th>\n",
       "      <td>En Sabah Nur</td>\n",
       "      <td>Akkaba, Egypt</td>\n",
       "      <td>Marvel Comics</td>\n",
       "      <td>213.77</td>\n",
       "      <td>135.62</td>\n",
       "      <td>M</td>\n",
       "      <td>1986.0</td>\n",
       "      <td>Red</td>\n",
       "      <td>Black</td>\n",
       "      <td>100.0</td>\n",
       "      <td>high</td>\n",
       "    </tr>\n",
       "    <tr>\n",
       "      <th>Anti-Monitor</th>\n",
       "      <td>NaN</td>\n",
       "      <td>Moon of Qward</td>\n",
       "      <td>DC Comics</td>\n",
       "      <td>61.37</td>\n",
       "      <td>NaN</td>\n",
       "      <td>M</td>\n",
       "      <td>NaN</td>\n",
       "      <td>Yellow</td>\n",
       "      <td>No Hair</td>\n",
       "      <td>100.0</td>\n",
       "      <td>high</td>\n",
       "    </tr>\n",
       "    <tr>\n",
       "      <th>Ant-Man II</th>\n",
       "      <td>Scott Lang</td>\n",
       "      <td>Coral Gables, Florida</td>\n",
       "      <td>Marvel Comics</td>\n",
       "      <td>183.67</td>\n",
       "      <td>86.28</td>\n",
       "      <td>M</td>\n",
       "      <td>1979.0</td>\n",
       "      <td>Blue</td>\n",
       "      <td>Blond</td>\n",
       "      <td>20.0</td>\n",
       "      <td>good</td>\n",
       "    </tr>\n",
       "    <tr>\n",
       "      <th>Anti-Venom</th>\n",
       "      <td>Eddie Brock</td>\n",
       "      <td>San Francisco, California</td>\n",
       "      <td>Marvel Comics</td>\n",
       "      <td>229.46</td>\n",
       "      <td>358.05</td>\n",
       "      <td>M</td>\n",
       "      <td>NaN</td>\n",
       "      <td>Blue</td>\n",
       "      <td>Blond</td>\n",
       "      <td>60.0</td>\n",
       "      <td>good</td>\n",
       "    </tr>\n",
       "    <tr>\n",
       "      <th>Anti-Spawn</th>\n",
       "      <td>Jason Wynn</td>\n",
       "      <td>NaN</td>\n",
       "      <td>Image Comics</td>\n",
       "      <td>NaN</td>\n",
       "      <td>NaN</td>\n",
       "      <td>M</td>\n",
       "      <td>NaN</td>\n",
       "      <td>NaN</td>\n",
       "      <td>NaN</td>\n",
       "      <td>60.0</td>\n",
       "      <td>good</td>\n",
       "    </tr>\n",
       "    <tr>\n",
       "      <th>Annihilus</th>\n",
       "      <td>Annihilus</td>\n",
       "      <td>Planet of Arthros, Sector 17A, Negative Zone</td>\n",
       "      <td>Marvel Comics</td>\n",
       "      <td>180.94</td>\n",
       "      <td>90.11</td>\n",
       "      <td>M</td>\n",
       "      <td>1968.0</td>\n",
       "      <td>Green</td>\n",
       "      <td>No Hair</td>\n",
       "      <td>80.0</td>\n",
       "      <td>good</td>\n",
       "    </tr>\n",
       "    <tr>\n",
       "      <th>Angel</th>\n",
       "      <td>Warren Kenneth Worthington III</td>\n",
       "      <td>Centerport, Long Island, New York</td>\n",
       "      <td>Marvel Comics</td>\n",
       "      <td>183.05</td>\n",
       "      <td>68.99</td>\n",
       "      <td>M</td>\n",
       "      <td>1969.0</td>\n",
       "      <td>Blue</td>\n",
       "      <td>Blond</td>\n",
       "      <td>15.0</td>\n",
       "      <td>good</td>\n",
       "    </tr>\n",
       "    <tr>\n",
       "      <th>Ammo</th>\n",
       "      <td>NaN</td>\n",
       "      <td>NaN</td>\n",
       "      <td>Marvel Comics</td>\n",
       "      <td>188.93</td>\n",
       "      <td>101.09</td>\n",
       "      <td>M</td>\n",
       "      <td>1988.0</td>\n",
       "      <td>Brown</td>\n",
       "      <td>Black</td>\n",
       "      <td>NaN</td>\n",
       "      <td>NaN</td>\n",
       "    </tr>\n",
       "    <tr>\n",
       "      <th>Arachne</th>\n",
       "      <td>Julia Carpenter</td>\n",
       "      <td>Los Angeles, California</td>\n",
       "      <td>Marvel Comics</td>\n",
       "      <td>175.15</td>\n",
       "      <td>63.75</td>\n",
       "      <td>F</td>\n",
       "      <td>NaN</td>\n",
       "      <td>Blue</td>\n",
       "      <td>Blond</td>\n",
       "      <td>50.0</td>\n",
       "      <td>average</td>\n",
       "    </tr>\n",
       "    <tr>\n",
       "      <th>Angel</th>\n",
       "      <td>Liam</td>\n",
       "      <td>NaN</td>\n",
       "      <td>Dark Horse Comics</td>\n",
       "      <td>NaN</td>\n",
       "      <td>NaN</td>\n",
       "      <td>M</td>\n",
       "      <td>NaN</td>\n",
       "      <td>NaN</td>\n",
       "      <td>NaN</td>\n",
       "      <td>30.0</td>\n",
       "      <td>good</td>\n",
       "    </tr>\n",
       "    <tr>\n",
       "      <th>Allan Quatermain</th>\n",
       "      <td>NaN</td>\n",
       "      <td>NaN</td>\n",
       "      <td>Wildstorm</td>\n",
       "      <td>NaN</td>\n",
       "      <td>NaN</td>\n",
       "      <td>M</td>\n",
       "      <td>NaN</td>\n",
       "      <td>NaN</td>\n",
       "      <td>NaN</td>\n",
       "      <td>NaN</td>\n",
       "      <td>NaN</td>\n",
       "    </tr>\n",
       "    <tr>\n",
       "      <th>Alien</th>\n",
       "      <td>Xenomorph</td>\n",
       "      <td>Your chest :)</td>\n",
       "      <td>Dark Horse Comics</td>\n",
       "      <td>244.30</td>\n",
       "      <td>169.66</td>\n",
       "      <td>M</td>\n",
       "      <td>1979.0</td>\n",
       "      <td>NaN</td>\n",
       "      <td>No Hair</td>\n",
       "      <td>30.0</td>\n",
       "      <td>average</td>\n",
       "    </tr>\n",
       "    <tr>\n",
       "      <th>Alfred Pennyworth</th>\n",
       "      <td>Alfred Thaddeus Crane Pennyworth</td>\n",
       "      <td>NaN</td>\n",
       "      <td>DC Comics</td>\n",
       "      <td>178.26</td>\n",
       "      <td>72.98</td>\n",
       "      <td>M</td>\n",
       "      <td>1943.0</td>\n",
       "      <td>Blue</td>\n",
       "      <td>Black</td>\n",
       "      <td>10.0</td>\n",
       "      <td>good</td>\n",
       "    </tr>\n",
       "    <tr>\n",
       "      <th>Ando Masahashi</th>\n",
       "      <td>Ando Masahashi</td>\n",
       "      <td>NaN</td>\n",
       "      <td>NBC - Heroes</td>\n",
       "      <td>NaN</td>\n",
       "      <td>NaN</td>\n",
       "      <td>M</td>\n",
       "      <td>NaN</td>\n",
       "      <td>NaN</td>\n",
       "      <td>NaN</td>\n",
       "      <td>NaN</td>\n",
       "      <td>NaN</td>\n",
       "    </tr>\n",
       "    <tr>\n",
       "      <th>Alex Woolsly</th>\n",
       "      <td>Alex Woolsly</td>\n",
       "      <td>NaN</td>\n",
       "      <td>NBC - Heroes</td>\n",
       "      <td>NaN</td>\n",
       "      <td>NaN</td>\n",
       "      <td>M</td>\n",
       "      <td>NaN</td>\n",
       "      <td>NaN</td>\n",
       "      <td>NaN</td>\n",
       "      <td>40.0</td>\n",
       "      <td>average</td>\n",
       "    </tr>\n",
       "    <tr>\n",
       "      <th>Alan Scott</th>\n",
       "      <td>Alan Ladd Wellington Scott</td>\n",
       "      <td>Gotham City</td>\n",
       "      <td>DC Comics</td>\n",
       "      <td>180.98</td>\n",
       "      <td>90.81</td>\n",
       "      <td>M</td>\n",
       "      <td>1940.0</td>\n",
       "      <td>Blue</td>\n",
       "      <td>Blond</td>\n",
       "      <td>80.0</td>\n",
       "      <td>good</td>\n",
       "    </tr>\n",
       "    <tr>\n",
       "      <th>Amazo</th>\n",
       "      <td>NaN</td>\n",
       "      <td>NaN</td>\n",
       "      <td>DC Comics</td>\n",
       "      <td>257.49</td>\n",
       "      <td>173.95</td>\n",
       "      <td>M</td>\n",
       "      <td>1960.0</td>\n",
       "      <td>Red</td>\n",
       "      <td>NaN</td>\n",
       "      <td>100.0</td>\n",
       "      <td>good</td>\n",
       "    </tr>\n",
       "    <tr>\n",
       "      <th>Ant-Man</th>\n",
       "      <td>Hank Pym</td>\n",
       "      <td>Elmsford, New York</td>\n",
       "      <td>Marvel Comics</td>\n",
       "      <td>211.74</td>\n",
       "      <td>122.44</td>\n",
       "      <td>M</td>\n",
       "      <td>1962.0</td>\n",
       "      <td>Blue</td>\n",
       "      <td>Blond</td>\n",
       "      <td>20.0</td>\n",
       "      <td>high</td>\n",
       "    </tr>\n",
       "    <tr>\n",
       "      <th>Ajax</th>\n",
       "      <td>Francis</td>\n",
       "      <td>NaN</td>\n",
       "      <td>Marvel Comics</td>\n",
       "      <td>193.34</td>\n",
       "      <td>90.63</td>\n",
       "      <td>M</td>\n",
       "      <td>1998.0</td>\n",
       "      <td>Brown</td>\n",
       "      <td>Black</td>\n",
       "      <td>50.0</td>\n",
       "      <td>average</td>\n",
       "    </tr>\n",
       "    <tr>\n",
       "      <th>Alex Mercer</th>\n",
       "      <td>Alexander J. Mercer</td>\n",
       "      <td>NaN</td>\n",
       "      <td>Wildstorm</td>\n",
       "      <td>NaN</td>\n",
       "      <td>NaN</td>\n",
       "      <td>M</td>\n",
       "      <td>NaN</td>\n",
       "      <td>NaN</td>\n",
       "      <td>NaN</td>\n",
       "      <td>80.0</td>\n",
       "      <td>average</td>\n",
       "    </tr>\n",
       "  </tbody>\n",
       "</table>\n",
       "<p>735 rows × 11 columns</p>\n",
       "</div>"
      ],
      "text/plain": [
       "                                           Identity  \\\n",
       "Name                                                  \n",
       "A-Bomb                       Richard Milhouse Jones   \n",
       "Abraxas                                     Abraxas   \n",
       "Abomination                            Emil Blonsky   \n",
       "Adam Monroe                                     NaN   \n",
       "Agent 13                              Sharon Carter   \n",
       "Air-Walker                              Gabriel Lan   \n",
       "Agent Bob                                       Bob   \n",
       "Abe Sapien                           Abraham Sapien   \n",
       "Abin Sur                                        NaN   \n",
       "Angela                                          NaN   \n",
       "Animal Man                           Bernhard Baker   \n",
       "Agent Zero                           Christoph Nord   \n",
       "Colin Wagner                                    NaN   \n",
       "Angel Dust                                Christina   \n",
       "Angel Salvadore              Angel Salvadore Bohusk   \n",
       "Zoom                                 Hunter Zolomon   \n",
       "Lady Deathstrike                       Yuriko Oyama   \n",
       "Yoda                                           Yoda   \n",
       "Zatanna                              Zatanna Zatara   \n",
       "Yellowjacket II                         Rita DeMara   \n",
       "Yellowjacket                               Hank Pym   \n",
       "Yellow Claw                                     NaN   \n",
       "Absorbing Man                            Carl Creel   \n",
       "X-Man                                     Nate Grey   \n",
       "X-23                                   Laura Kinney   \n",
       "Wondra                                          NaN   \n",
       "Adam Strange                           Adam Strange   \n",
       "Wonder Girl           Cassandra Elizabeth Sandsmark   \n",
       "Wonder Woman                           Diana Prince   \n",
       "Wolverine                                     Logan   \n",
       "...                                             ...   \n",
       "Ardina                                       Ardina   \n",
       "Arclight                            Philippa Sontag   \n",
       "Ares                                            NaN   \n",
       "Archangel           Warren Kenneth Worthington III    \n",
       "Astro Boy                                      Atom   \n",
       "Atom III                                  Adam Cray   \n",
       "Aqualad                                       Garth   \n",
       "Ariel                                         Ariel   \n",
       "Aquababy                          Arthur Curry, Jr.   \n",
       "Aquaman                                        Orin   \n",
       "Apocalypse                             En Sabah Nur   \n",
       "Anti-Monitor                                    NaN   \n",
       "Ant-Man II                               Scott Lang   \n",
       "Anti-Venom                              Eddie Brock   \n",
       "Anti-Spawn                               Jason Wynn   \n",
       "Annihilus                                 Annihilus   \n",
       "Angel                Warren Kenneth Worthington III   \n",
       "Ammo                                            NaN   \n",
       "Arachne                             Julia Carpenter   \n",
       "Angel                                          Liam   \n",
       "Allan Quatermain                                NaN   \n",
       "Alien                                     Xenomorph   \n",
       "Alfred Pennyworth  Alfred Thaddeus Crane Pennyworth   \n",
       "Ando Masahashi                       Ando Masahashi   \n",
       "Alex Woolsly                           Alex Woolsly   \n",
       "Alan Scott               Alan Ladd Wellington Scott   \n",
       "Amazo                                           NaN   \n",
       "Ant-Man                                    Hank Pym   \n",
       "Ajax                                        Francis   \n",
       "Alex Mercer                     Alexander J. Mercer   \n",
       "\n",
       "                                                         Birth place  \\\n",
       "Name                                                                   \n",
       "A-Bomb                                            Scarsdale, Arizona   \n",
       "Abraxas                                             Within Eternity    \n",
       "Abomination                                       Zagreb, Yugoslavia   \n",
       "Adam Monroe                                                      NaN   \n",
       "Agent 13                                                         NaN   \n",
       "Air-Walker         Xandar, a planet in the Tranta system, Androme...   \n",
       "Agent Bob                                                        NaN   \n",
       "Abe Sapien                                                       NaN   \n",
       "Abin Sur                                                      Ungara   \n",
       "Angela                                                           NaN   \n",
       "Animal Man                                                       NaN   \n",
       "Agent Zero               Unrevealed location in former East Germany    \n",
       "Colin Wagner                                                     NaN   \n",
       "Angel Dust                                                       NaN   \n",
       "Angel Salvadore                                                  NaN   \n",
       "Zoom                                                             NaN   \n",
       "Lady Deathstrike                                        Osaka, Japan   \n",
       "Yoda                                                             NaN   \n",
       "Zatanna                                                          NaN   \n",
       "Yellowjacket II                                                  NaN   \n",
       "Yellowjacket                                      Elmsford, New York   \n",
       "Yellow Claw                              Somewhere in mainland China   \n",
       "Absorbing Man                                New York City, New York   \n",
       "X-Man                               American Northeast of Earth-295    \n",
       "X-23                              The Facility, location unrevealed    \n",
       "Wondra                                                           NaN   \n",
       "Adam Strange                                       Chicago, Illinois   \n",
       "Wonder Girl                                                      NaN   \n",
       "Wonder Woman                                              Themyscira   \n",
       "Wolverine                                            Alberta, Canada   \n",
       "...                                                              ...   \n",
       "Ardina                                                           NaN   \n",
       "Arclight                                                     Vietnam   \n",
       "Ares                                                             NaN   \n",
       "Archangel                         Centerport, Long Island, New York    \n",
       "Astro Boy                                                        NaN   \n",
       "Atom III                                                         NaN   \n",
       "Aqualad                                         Poseidonis, Atlantis   \n",
       "Ariel                                                            NaN   \n",
       "Aquababy                                                         NaN   \n",
       "Aquaman                                                     Atlantis   \n",
       "Apocalypse                                            Akkaba, Egypt    \n",
       "Anti-Monitor                                           Moon of Qward   \n",
       "Ant-Man II                                     Coral Gables, Florida   \n",
       "Anti-Venom                                 San Francisco, California   \n",
       "Anti-Spawn                                                       NaN   \n",
       "Annihilus               Planet of Arthros, Sector 17A, Negative Zone   \n",
       "Angel                             Centerport, Long Island, New York    \n",
       "Ammo                                                             NaN   \n",
       "Arachne                                      Los Angeles, California   \n",
       "Angel                                                            NaN   \n",
       "Allan Quatermain                                                 NaN   \n",
       "Alien                                                  Your chest :)   \n",
       "Alfred Pennyworth                                                NaN   \n",
       "Ando Masahashi                                                   NaN   \n",
       "Alex Woolsly                                                     NaN   \n",
       "Alan Scott                                               Gotham City   \n",
       "Amazo                                                            NaN   \n",
       "Ant-Man                                           Elmsford, New York   \n",
       "Ajax                                                             NaN   \n",
       "Alex Mercer                                                      NaN   \n",
       "\n",
       "                           Publisher  Height  Weight Gender  First appearance  \\\n",
       "Name                                                                            \n",
       "A-Bomb                 Marvel Comics  203.21  441.95      M            2008.0   \n",
       "Abraxas                Marvel Comics     NaN     NaN      M               NaN   \n",
       "Abomination            Marvel Comics  203.04  441.98      M               NaN   \n",
       "Adam Monroe             NBC - Heroes     NaN     NaN      M               NaN   \n",
       "Agent 13               Marvel Comics  173.41   61.03      F               NaN   \n",
       "Air-Walker             Marvel Comics  188.59  108.23      M               NaN   \n",
       "Agent Bob              Marvel Comics  178.25   81.45      M            2007.0   \n",
       "Abe Sapien         Dark Horse Comics  191.24   65.35      M            1993.0   \n",
       "Abin Sur                   DC Comics  185.52   90.90      M            1959.0   \n",
       "Angela                  Image Comics     NaN     NaN      F               NaN   \n",
       "Animal Man                 DC Comics  183.80   83.39      M            1965.0   \n",
       "Agent Zero             Marvel Comics  191.29  104.17      M               NaN   \n",
       "Colin Wagner           HarperCollins     NaN     NaN      M               NaN   \n",
       "Angel Dust             Marvel Comics  165.78   57.21      F               NaN   \n",
       "Angel Salvadore        Marvel Comics  163.57   54.67      F            2001.0   \n",
       "Zoom                       DC Comics  185.90   81.93      M               NaN   \n",
       "Lady Deathstrike       Marvel Comics  175.85   58.89      F            1985.0   \n",
       "Yoda                    George Lucas   66.29   17.01      M            1980.0   \n",
       "Zatanna                    DC Comics  170.29   57.77      F               NaN   \n",
       "Yellowjacket II        Marvel Comics  165.58   52.36      F               NaN   \n",
       "Yellowjacket           Marvel Comics  183.03   83.71      M               NaN   \n",
       "Yellow Claw            Marvel Comics  188.40   95.09      M               NaN   \n",
       "Absorbing Man          Marvel Comics  193.36  122.28      M            1964.0   \n",
       "X-Man                  Marvel Comics  175.82   61.80      M            1995.0   \n",
       "X-23                   Marvel Comics  155.61   50.39      F               NaN   \n",
       "Wondra                 Marvel Comics     NaN     NaN      F               NaN   \n",
       "Adam Strange               DC Comics  185.10   88.92      M            1986.0   \n",
       "Wonder Girl                DC Comics  165.74   51.33      F            1996.0   \n",
       "Wonder Woman               DC Comics  183.13   74.74      F            1941.0   \n",
       "Wolverine              Marvel Comics  160.70  135.21      M               NaN   \n",
       "...                              ...     ...     ...    ...               ...   \n",
       "Ardina                 Marvel Comics  193.98   98.68      F               NaN   \n",
       "Arclight               Marvel Comics  173.43   57.25      F            1986.0   \n",
       "Ares                   Marvel Comics  185.28  270.30      M               NaN   \n",
       "Archangel              Marvel Comics  183.82   68.63      M            1963.0   \n",
       "Astro Boy                        NaN     NaN     NaN      M               NaN   \n",
       "Atom III                   DC Comics     NaN     NaN      M               NaN   \n",
       "Aqualad                    DC Comics  178.89  106.83      M            1960.0   \n",
       "Ariel                  Marvel Comics  165.35   59.17      F            1987.0   \n",
       "Aquababy                   DC Comics     NaN     NaN      M            1965.0   \n",
       "Aquaman                    DC Comics  185.71  146.96      M            1941.0   \n",
       "Apocalypse             Marvel Comics  213.77  135.62      M            1986.0   \n",
       "Anti-Monitor               DC Comics   61.37     NaN      M               NaN   \n",
       "Ant-Man II             Marvel Comics  183.67   86.28      M            1979.0   \n",
       "Anti-Venom             Marvel Comics  229.46  358.05      M               NaN   \n",
       "Anti-Spawn              Image Comics     NaN     NaN      M               NaN   \n",
       "Annihilus              Marvel Comics  180.94   90.11      M            1968.0   \n",
       "Angel                  Marvel Comics  183.05   68.99      M            1969.0   \n",
       "Ammo                   Marvel Comics  188.93  101.09      M            1988.0   \n",
       "Arachne                Marvel Comics  175.15   63.75      F               NaN   \n",
       "Angel              Dark Horse Comics     NaN     NaN      M               NaN   \n",
       "Allan Quatermain           Wildstorm     NaN     NaN      M               NaN   \n",
       "Alien              Dark Horse Comics  244.30  169.66      M            1979.0   \n",
       "Alfred Pennyworth          DC Comics  178.26   72.98      M            1943.0   \n",
       "Ando Masahashi          NBC - Heroes     NaN     NaN      M               NaN   \n",
       "Alex Woolsly            NBC - Heroes     NaN     NaN      M               NaN   \n",
       "Alan Scott                 DC Comics  180.98   90.81      M            1940.0   \n",
       "Amazo                      DC Comics  257.49  173.95      M            1960.0   \n",
       "Ant-Man                Marvel Comics  211.74  122.44      M            1962.0   \n",
       "Ajax                   Marvel Comics  193.34   90.63      M            1998.0   \n",
       "Alex Mercer                Wildstorm     NaN     NaN      M               NaN   \n",
       "\n",
       "                  Eye color        Hair color  Strength Intelligence  \n",
       "Name                                                                  \n",
       "A-Bomb               Yellow           No Hair     100.0     moderate  \n",
       "Abraxas                Blue             Black     100.0         high  \n",
       "Abomination           Green           No Hair      80.0         good  \n",
       "Adam Monroe            Blue             Blond      10.0         good  \n",
       "Agent 13               Blue             Blond       NaN          NaN  \n",
       "Air-Walker             Blue             White      85.0      average  \n",
       "Agent Bob             Brown             Brown      10.0          low  \n",
       "Abe Sapien             Blue           No Hair      30.0         high  \n",
       "Abin Sur               Blue           No Hair      90.0      average  \n",
       "Angela                  NaN               NaN     100.0         high  \n",
       "Animal Man             Blue             Blond      50.0      average  \n",
       "Agent Zero              NaN               NaN      30.0         good  \n",
       "Colin Wagner           Grey             Brown       NaN          NaN  \n",
       "Angel Dust           Yellow             Black      55.0     moderate  \n",
       "Angel Salvadore       Brown             Black      10.0     moderate  \n",
       "Zoom                    Red             Brown      10.0      average  \n",
       "Lady Deathstrike      Brown             Black      30.0         good  \n",
       "Yoda                  Brown             White      55.0         high  \n",
       "Zatanna                Blue             Black      10.0         high  \n",
       "Yellowjacket II        Blue  Strawberry Blond      10.0      average  \n",
       "Yellowjacket           Blue             Blond      10.0         high  \n",
       "Yellow Claw            Blue           No Hair       NaN          NaN  \n",
       "Absorbing Man          Blue           No Hair      80.0     moderate  \n",
       "X-Man                  Blue             Brown      55.0         high  \n",
       "X-23                  Green             Black      25.0         good  \n",
       "Wondra                  NaN               NaN       NaN          NaN  \n",
       "Adam Strange           Blue             Blond      10.0         good  \n",
       "Wonder Girl            Blue             Blond      90.0         good  \n",
       "Wonder Woman           Blue             Black     100.0         high  \n",
       "Wolverine              Blue             Black      35.0         good  \n",
       "...                     ...               ...       ...          ...  \n",
       "Ardina                White            Orange     100.0         good  \n",
       "Arclight             Violet            Purple      65.0     moderate  \n",
       "Ares                  Brown             Brown      85.0         good  \n",
       "Archangel              Blue             Blond      15.0         good  \n",
       "Astro Boy             Brown             Black      95.0      average  \n",
       "Atom III                NaN               Red       NaN          NaN  \n",
       "Aqualad                Blue             Black      45.0         good  \n",
       "Ariel                Purple              Pink      10.0      average  \n",
       "Aquababy               Blue             Blond      20.0          low  \n",
       "Aquaman                Blue             Blond      85.0         high  \n",
       "Apocalypse              Red             Black     100.0         high  \n",
       "Anti-Monitor         Yellow           No Hair     100.0         high  \n",
       "Ant-Man II             Blue             Blond      20.0         good  \n",
       "Anti-Venom             Blue             Blond      60.0         good  \n",
       "Anti-Spawn              NaN               NaN      60.0         good  \n",
       "Annihilus             Green           No Hair      80.0         good  \n",
       "Angel                  Blue             Blond      15.0         good  \n",
       "Ammo                  Brown             Black       NaN          NaN  \n",
       "Arachne                Blue             Blond      50.0      average  \n",
       "Angel                   NaN               NaN      30.0         good  \n",
       "Allan Quatermain        NaN               NaN       NaN          NaN  \n",
       "Alien                   NaN           No Hair      30.0      average  \n",
       "Alfred Pennyworth      Blue             Black      10.0         good  \n",
       "Ando Masahashi          NaN               NaN       NaN          NaN  \n",
       "Alex Woolsly            NaN               NaN      40.0      average  \n",
       "Alan Scott             Blue             Blond      80.0         good  \n",
       "Amazo                   Red               NaN     100.0         good  \n",
       "Ant-Man                Blue             Blond      20.0         high  \n",
       "Ajax                  Brown             Black      50.0      average  \n",
       "Alex Mercer             NaN               NaN      80.0      average  \n",
       "\n",
       "[735 rows x 11 columns]"
      ]
     },
     "execution_count": 40,
     "metadata": {},
     "output_type": "execute_result"
    }
   ],
   "source": [
    "heroes"
   ]
  },
  {
   "cell_type": "markdown",
   "metadata": {},
   "source": [
    "Ci riferiremo spesso alle righe e alle colonne di un _dataframe_ per indicare rispettivamente le osservazioni e i caratteri. Per esempio la prima riga si riferisce all'osservazione relativa ad \"A-Bomb\", mentre la prima colonna corrisponde al carattere \"identity\". Vi sono molti modi per interagire con un _dataframe_:\n",
    "\n",
    "- l'insieme degli indici, dei caratteri e dei valori si ottengono, nell'ordine, alle proprietà `index`, `columns` e `values`;\n",
    "- una serie corrispondente a una colonna/carattere può essere selezionata usando una sintassi simile a quella dei dizionari, specificando il nome del carattere come chiave:"
   ]
  },
  {
   "cell_type": "code",
   "execution_count": 41,
   "metadata": {},
   "outputs": [
    {
     "data": {
      "text/plain": [
       "Name\n",
       "A-Bomb               M\n",
       "Abraxas              M\n",
       "Abomination          M\n",
       "Adam Monroe          M\n",
       "Agent 13             F\n",
       "Air-Walker           M\n",
       "Agent Bob            M\n",
       "Abe Sapien           M\n",
       "Abin Sur             M\n",
       "Angela               F\n",
       "Animal Man           M\n",
       "Agent Zero           M\n",
       "Colin Wagner         M\n",
       "Angel Dust           F\n",
       "Angel Salvadore      F\n",
       "Zoom                 M\n",
       "Lady Deathstrike     F\n",
       "Yoda                 M\n",
       "Zatanna              F\n",
       "Yellowjacket II      F\n",
       "Yellowjacket         M\n",
       "Yellow Claw          M\n",
       "Absorbing Man        M\n",
       "X-Man                M\n",
       "X-23                 F\n",
       "Wondra               F\n",
       "Adam Strange         M\n",
       "Wonder Girl          F\n",
       "Wonder Woman         F\n",
       "Wolverine            M\n",
       "                    ..\n",
       "Ardina               F\n",
       "Arclight             F\n",
       "Ares                 M\n",
       "Archangel            M\n",
       "Astro Boy            M\n",
       "Atom III             M\n",
       "Aqualad              M\n",
       "Ariel                F\n",
       "Aquababy             M\n",
       "Aquaman              M\n",
       "Apocalypse           M\n",
       "Anti-Monitor         M\n",
       "Ant-Man II           M\n",
       "Anti-Venom           M\n",
       "Anti-Spawn           M\n",
       "Annihilus            M\n",
       "Angel                M\n",
       "Ammo                 M\n",
       "Arachne              F\n",
       "Angel                M\n",
       "Allan Quatermain     M\n",
       "Alien                M\n",
       "Alfred Pennyworth    M\n",
       "Ando Masahashi       M\n",
       "Alex Woolsly         M\n",
       "Alan Scott           M\n",
       "Amazo                M\n",
       "Ant-Man              M\n",
       "Ajax                 M\n",
       "Alex Mercer          M\n",
       "Name: Gender, Length: 735, dtype: object"
      ]
     },
     "execution_count": 41,
     "metadata": {},
     "output_type": "execute_result"
    }
   ],
   "source": [
    "heroes['Gender']"
   ]
  },
  {
   "cell_type": "markdown",
   "metadata": {},
   "source": [
    "<div class=\"alert alert-info\">\n",
    "In alternativa è possibile usare una sintassi basata su _dot notation_ in cui il nome della colonna, senza essere racchiuso tra apici, segue il _dataframe_. In altre parole, `heroes['Gender']` e `heroes.Gender` sono equivalenti. Questa seconda notazione è però utilizzabile solamente se non vi sono spazi nei nomi delle colonne. Nel seguito utilizzeremo quindi sempre la prima delle due notazioni.\n",
    "</div>"
   ]
  },
  {
   "cell_type": "markdown",
   "metadata": {},
   "source": [
    "- tramite uno _slicing_ sulle posizioni o sui valori dell'indice è possibile selezionare un sottoinsieme delle righe del _dataframe_ (e come nel caso delle serie, l'estremo superiore è incluse se si usano gli indici ed escluso se si usano le posizioni):"
   ]
  },
  {
   "cell_type": "code",
   "execution_count": 44,
   "metadata": {},
   "outputs": [
    {
     "data": {
      "text/html": [
       "<div>\n",
       "<style scoped>\n",
       "    .dataframe tbody tr th:only-of-type {\n",
       "        vertical-align: middle;\n",
       "    }\n",
       "\n",
       "    .dataframe tbody tr th {\n",
       "        vertical-align: top;\n",
       "    }\n",
       "\n",
       "    .dataframe thead th {\n",
       "        text-align: right;\n",
       "    }\n",
       "</style>\n",
       "<table border=\"1\" class=\"dataframe\">\n",
       "  <thead>\n",
       "    <tr style=\"text-align: right;\">\n",
       "      <th></th>\n",
       "      <th>Identity</th>\n",
       "      <th>Birth place</th>\n",
       "      <th>Publisher</th>\n",
       "      <th>Height</th>\n",
       "      <th>Weight</th>\n",
       "      <th>Gender</th>\n",
       "      <th>First appearance</th>\n",
       "      <th>Eye color</th>\n",
       "      <th>Hair color</th>\n",
       "      <th>Strength</th>\n",
       "      <th>Intelligence</th>\n",
       "    </tr>\n",
       "    <tr>\n",
       "      <th>Name</th>\n",
       "      <th></th>\n",
       "      <th></th>\n",
       "      <th></th>\n",
       "      <th></th>\n",
       "      <th></th>\n",
       "      <th></th>\n",
       "      <th></th>\n",
       "      <th></th>\n",
       "      <th></th>\n",
       "      <th></th>\n",
       "      <th></th>\n",
       "    </tr>\n",
       "  </thead>\n",
       "  <tbody>\n",
       "    <tr>\n",
       "      <th>Agent 13</th>\n",
       "      <td>Sharon Carter</td>\n",
       "      <td>NaN</td>\n",
       "      <td>Marvel Comics</td>\n",
       "      <td>173.41</td>\n",
       "      <td>61.03</td>\n",
       "      <td>F</td>\n",
       "      <td>NaN</td>\n",
       "      <td>Blue</td>\n",
       "      <td>Blond</td>\n",
       "      <td>NaN</td>\n",
       "      <td>NaN</td>\n",
       "    </tr>\n",
       "    <tr>\n",
       "      <th>Air-Walker</th>\n",
       "      <td>Gabriel Lan</td>\n",
       "      <td>Xandar, a planet in the Tranta system, Androme...</td>\n",
       "      <td>Marvel Comics</td>\n",
       "      <td>188.59</td>\n",
       "      <td>108.23</td>\n",
       "      <td>M</td>\n",
       "      <td>NaN</td>\n",
       "      <td>Blue</td>\n",
       "      <td>White</td>\n",
       "      <td>85.0</td>\n",
       "      <td>average</td>\n",
       "    </tr>\n",
       "  </tbody>\n",
       "</table>\n",
       "</div>"
      ],
      "text/plain": [
       "                 Identity                                        Birth place  \\\n",
       "Name                                                                           \n",
       "Agent 13    Sharon Carter                                                NaN   \n",
       "Air-Walker    Gabriel Lan  Xandar, a planet in the Tranta system, Androme...   \n",
       "\n",
       "                Publisher  Height  Weight Gender  First appearance Eye color  \\\n",
       "Name                                                                           \n",
       "Agent 13    Marvel Comics  173.41   61.03      F               NaN      Blue   \n",
       "Air-Walker  Marvel Comics  188.59  108.23      M               NaN      Blue   \n",
       "\n",
       "           Hair color  Strength Intelligence  \n",
       "Name                                          \n",
       "Agent 13        Blond       NaN          NaN  \n",
       "Air-Walker      White      85.0      average  "
      ]
     },
     "execution_count": 44,
     "metadata": {},
     "output_type": "execute_result"
    }
   ],
   "source": [
    "heroes['Agent 13':'Air-Walker']"
   ]
  },
  {
   "cell_type": "markdown",
   "metadata": {},
   "source": [
    "Queste modalità di accesso possono effettivamente creare confusione: usando una sintassi molto simile, specificando un valore si accede a una colonna e specificando uno _slice_ si accede a un insieme di righe. Per scrivere codice più chiaro è meglio selezionare le righe utilizzando le proprietà `loc` e `iloc` nello stesso modo in cui queste funzionano per le serie, con la differenza che quando queste sono usate specificando un solo valore, viene restituita una serie, e quando sono utilizzate con uno _slice_ o con una lista viene restituito un _dataframe_."
   ]
  },
  {
   "cell_type": "code",
   "execution_count": 45,
   "metadata": {},
   "outputs": [
    {
     "data": {
      "text/plain": [
       "Identity            Charles Francis Xavier\n",
       "Birth place             New York, New York\n",
       "Publisher                    Marvel Comics\n",
       "Height                              183.74\n",
       "Weight                               86.89\n",
       "Gender                                   M\n",
       "First appearance                      1963\n",
       "Eye color                             Blue\n",
       "Hair color                         No Hair\n",
       "Strength                                10\n",
       "Intelligence                          high\n",
       "Name: Professor X, dtype: object"
      ]
     },
     "execution_count": 45,
     "metadata": {},
     "output_type": "execute_result"
    }
   ],
   "source": [
    "heroes.loc['Professor X']"
   ]
  },
  {
   "cell_type": "code",
   "execution_count": 46,
   "metadata": {},
   "outputs": [
    {
     "data": {
      "text/html": [
       "<div>\n",
       "<style scoped>\n",
       "    .dataframe tbody tr th:only-of-type {\n",
       "        vertical-align: middle;\n",
       "    }\n",
       "\n",
       "    .dataframe tbody tr th {\n",
       "        vertical-align: top;\n",
       "    }\n",
       "\n",
       "    .dataframe thead th {\n",
       "        text-align: right;\n",
       "    }\n",
       "</style>\n",
       "<table border=\"1\" class=\"dataframe\">\n",
       "  <thead>\n",
       "    <tr style=\"text-align: right;\">\n",
       "      <th></th>\n",
       "      <th>Identity</th>\n",
       "      <th>Birth place</th>\n",
       "      <th>Publisher</th>\n",
       "      <th>Height</th>\n",
       "      <th>Weight</th>\n",
       "      <th>Gender</th>\n",
       "      <th>First appearance</th>\n",
       "      <th>Eye color</th>\n",
       "      <th>Hair color</th>\n",
       "      <th>Strength</th>\n",
       "      <th>Intelligence</th>\n",
       "    </tr>\n",
       "    <tr>\n",
       "      <th>Name</th>\n",
       "      <th></th>\n",
       "      <th></th>\n",
       "      <th></th>\n",
       "      <th></th>\n",
       "      <th></th>\n",
       "      <th></th>\n",
       "      <th></th>\n",
       "      <th></th>\n",
       "      <th></th>\n",
       "      <th></th>\n",
       "      <th></th>\n",
       "    </tr>\n",
       "  </thead>\n",
       "  <tbody>\n",
       "    <tr>\n",
       "      <th>Warbird</th>\n",
       "      <td>Carol Danvers</td>\n",
       "      <td>Boston, Massachusetts</td>\n",
       "      <td>Marvel Comics</td>\n",
       "      <td>180.56</td>\n",
       "      <td>54.75</td>\n",
       "      <td>F</td>\n",
       "      <td>NaN</td>\n",
       "      <td>Blue</td>\n",
       "      <td>Blond</td>\n",
       "      <td>NaN</td>\n",
       "      <td>NaN</td>\n",
       "    </tr>\n",
       "    <tr>\n",
       "      <th>Wildfire</th>\n",
       "      <td>Drake Burroughs</td>\n",
       "      <td>NaN</td>\n",
       "      <td>DC Comics</td>\n",
       "      <td>NaN</td>\n",
       "      <td>NaN</td>\n",
       "      <td>M</td>\n",
       "      <td>NaN</td>\n",
       "      <td>NaN</td>\n",
       "      <td>NaN</td>\n",
       "      <td>35.0</td>\n",
       "      <td>average</td>\n",
       "    </tr>\n",
       "    <tr>\n",
       "      <th>Vulture</th>\n",
       "      <td>Adrian Toomes</td>\n",
       "      <td>Staten Island, New York City</td>\n",
       "      <td>Marvel Comics</td>\n",
       "      <td>180.61</td>\n",
       "      <td>79.63</td>\n",
       "      <td>M</td>\n",
       "      <td>NaN</td>\n",
       "      <td>Brown</td>\n",
       "      <td>No Hair</td>\n",
       "      <td>25.0</td>\n",
       "      <td>good</td>\n",
       "    </tr>\n",
       "    <tr>\n",
       "      <th>Warp</th>\n",
       "      <td>Emil LaSalle</td>\n",
       "      <td>NaN</td>\n",
       "      <td>DC Comics</td>\n",
       "      <td>173.42</td>\n",
       "      <td>67.42</td>\n",
       "      <td>M</td>\n",
       "      <td>1981.0</td>\n",
       "      <td>Brown</td>\n",
       "      <td>Black</td>\n",
       "      <td>10.0</td>\n",
       "      <td>moderate</td>\n",
       "    </tr>\n",
       "  </tbody>\n",
       "</table>\n",
       "</div>"
      ],
      "text/plain": [
       "                 Identity                    Birth place      Publisher  \\\n",
       "Name                                                                      \n",
       "Warbird     Carol Danvers          Boston, Massachusetts  Marvel Comics   \n",
       "Wildfire  Drake Burroughs                            NaN      DC Comics   \n",
       "Vulture     Adrian Toomes  Staten Island, New York City   Marvel Comics   \n",
       "Warp         Emil LaSalle                            NaN      DC Comics   \n",
       "\n",
       "          Height  Weight Gender  First appearance Eye color Hair color  \\\n",
       "Name                                                                     \n",
       "Warbird   180.56   54.75      F               NaN      Blue      Blond   \n",
       "Wildfire     NaN     NaN      M               NaN       NaN        NaN   \n",
       "Vulture   180.61   79.63      M               NaN     Brown    No Hair   \n",
       "Warp      173.42   67.42      M            1981.0     Brown      Black   \n",
       "\n",
       "          Strength Intelligence  \n",
       "Name                             \n",
       "Warbird        NaN          NaN  \n",
       "Wildfire      35.0      average  \n",
       "Vulture       25.0         good  \n",
       "Warp          10.0     moderate  "
      ]
     },
     "execution_count": 46,
     "metadata": {},
     "output_type": "execute_result"
    }
   ],
   "source": [
    "heroes.iloc[42:46]"
   ]
  },
  {
   "cell_type": "markdown",
   "metadata": {},
   "source": [
    "È inoltre possibile selezionare una o più righe e visualizzare solo un sottoinsieme dei caratteri, passando a `loc` o `iloc` un secondo argomento in cui si specificano i caratteri da mostrare, utilizzando anche in questo caso un valore, una lista di valori oppure uno _slice_:"
   ]
  },
  {
   "cell_type": "code",
   "execution_count": 47,
   "metadata": {},
   "outputs": [
    {
     "data": {
      "text/plain": [
       "Height    183.74\n",
       "Weight     86.89\n",
       "Name: Professor X, dtype: object"
      ]
     },
     "execution_count": 47,
     "metadata": {},
     "output_type": "execute_result"
    }
   ],
   "source": [
    "heroes.loc['Professor X', 'Height':'Weight']"
   ]
  },
  {
   "cell_type": "markdown",
   "metadata": {},
   "source": [
    "Va notato che `loc` accetta solo valori simbolici, mentre `iloc` solamente posizioni, e ciò riguarda anche il loro secondo argomento:"
   ]
  },
  {
   "cell_type": "code",
   "execution_count": 48,
   "metadata": {},
   "outputs": [
    {
     "data": {
      "text/html": [
       "<div>\n",
       "<style scoped>\n",
       "    .dataframe tbody tr th:only-of-type {\n",
       "        vertical-align: middle;\n",
       "    }\n",
       "\n",
       "    .dataframe tbody tr th {\n",
       "        vertical-align: top;\n",
       "    }\n",
       "\n",
       "    .dataframe thead th {\n",
       "        text-align: right;\n",
       "    }\n",
       "</style>\n",
       "<table border=\"1\" class=\"dataframe\">\n",
       "  <thead>\n",
       "    <tr style=\"text-align: right;\">\n",
       "      <th></th>\n",
       "      <th>Height</th>\n",
       "      <th>Weight</th>\n",
       "    </tr>\n",
       "    <tr>\n",
       "      <th>Name</th>\n",
       "      <th></th>\n",
       "      <th></th>\n",
       "    </tr>\n",
       "  </thead>\n",
       "  <tbody>\n",
       "    <tr>\n",
       "      <th>Tempest</th>\n",
       "      <td>163.02</td>\n",
       "      <td>54.36</td>\n",
       "    </tr>\n",
       "    <tr>\n",
       "      <th>Supergirl</th>\n",
       "      <td>165.40</td>\n",
       "      <td>54.80</td>\n",
       "    </tr>\n",
       "  </tbody>\n",
       "</table>\n",
       "</div>"
      ],
      "text/plain": [
       "           Height  Weight\n",
       "Name                     \n",
       "Tempest    163.02   54.36\n",
       "Supergirl  165.40   54.80"
      ]
     },
     "execution_count": 48,
     "metadata": {},
     "output_type": "execute_result"
    }
   ],
   "source": [
    "heroes.iloc[[106, 103], [3, 4]]"
   ]
  },
  {
   "cell_type": "markdown",
   "metadata": {},
   "source": [
    "Volendo accedere direttamente a un elemento è possibile utilizzare le proprietà `at` e `iat`:"
   ]
  },
  {
   "cell_type": "code",
   "execution_count": 49,
   "metadata": {},
   "outputs": [
    {
     "data": {
      "text/plain": [
       "100.0"
      ]
     },
     "execution_count": 49,
     "metadata": {},
     "output_type": "execute_result"
    }
   ],
   "source": [
    "heroes.at['Superman', 'Strength']"
   ]
  },
  {
   "cell_type": "code",
   "execution_count": 50,
   "metadata": {},
   "outputs": [
    {
     "data": {
      "text/plain": [
       "'high'"
      ]
     },
     "execution_count": 50,
     "metadata": {},
     "output_type": "execute_result"
    }
   ],
   "source": [
    "heroes.iat[500, -1]"
   ]
  },
  {
   "cell_type": "markdown",
   "metadata": {},
   "source": [
    "<div class=\"alert alert-info\">\n",
    "È anche possibile utilizzare `loc` e `iloc` per estrarre un singolo elemento: per esempio, `heroes.loc['Superman', 'Strength']` equivale alla prima delle due istruzioni appena elencate. Tuttavia, `at` e `iat` sono implementate in modo da essere più efficienti.\n",
    "</div>\n",
    "\n",
    "È infine possibile riordinare le righe di un dataframe invocando i metodi `sort_values` e `sort_index`: il primo basa l'ordinamento sul valore di una colonna, il cui nome va specificato tramite l'argomento `by` e il secondo è invece basato sui valori dell'indice. È inoltre possibile indicare un valore booleano per l'argomento `ascending` che permette di ordinare in verso crescente o decrescente."
   ]
  },
  {
   "cell_type": "code",
   "execution_count": 51,
   "metadata": {},
   "outputs": [
    {
     "data": {
      "text/html": [
       "<div>\n",
       "<style scoped>\n",
       "    .dataframe tbody tr th:only-of-type {\n",
       "        vertical-align: middle;\n",
       "    }\n",
       "\n",
       "    .dataframe tbody tr th {\n",
       "        vertical-align: top;\n",
       "    }\n",
       "\n",
       "    .dataframe thead th {\n",
       "        text-align: right;\n",
       "    }\n",
       "</style>\n",
       "<table border=\"1\" class=\"dataframe\">\n",
       "  <thead>\n",
       "    <tr style=\"text-align: right;\">\n",
       "      <th></th>\n",
       "      <th>Identity</th>\n",
       "      <th>Birth place</th>\n",
       "      <th>Publisher</th>\n",
       "      <th>Height</th>\n",
       "      <th>Weight</th>\n",
       "      <th>Gender</th>\n",
       "      <th>First appearance</th>\n",
       "      <th>Eye color</th>\n",
       "      <th>Hair color</th>\n",
       "      <th>Strength</th>\n",
       "      <th>Intelligence</th>\n",
       "    </tr>\n",
       "    <tr>\n",
       "      <th>Name</th>\n",
       "      <th></th>\n",
       "      <th></th>\n",
       "      <th></th>\n",
       "      <th></th>\n",
       "      <th></th>\n",
       "      <th></th>\n",
       "      <th></th>\n",
       "      <th></th>\n",
       "      <th></th>\n",
       "      <th></th>\n",
       "      <th></th>\n",
       "    </tr>\n",
       "  </thead>\n",
       "  <tbody>\n",
       "    <tr>\n",
       "      <th>Sasquatch</th>\n",
       "      <td>Walter Langkowski</td>\n",
       "      <td>Edmonton, Alberta, Canada</td>\n",
       "      <td>Marvel Comics</td>\n",
       "      <td>305.02</td>\n",
       "      <td>900.70</td>\n",
       "      <td>M</td>\n",
       "      <td>NaN</td>\n",
       "      <td>Red</td>\n",
       "      <td>Orange</td>\n",
       "      <td>80.0</td>\n",
       "      <td>good</td>\n",
       "    </tr>\n",
       "    <tr>\n",
       "      <th>Juggernaut</th>\n",
       "      <td>Cain Marko</td>\n",
       "      <td>Berkeley, California</td>\n",
       "      <td>Marvel Comics</td>\n",
       "      <td>287.95</td>\n",
       "      <td>855.82</td>\n",
       "      <td>M</td>\n",
       "      <td>1965.0</td>\n",
       "      <td>Blue</td>\n",
       "      <td>Red</td>\n",
       "      <td>100.0</td>\n",
       "      <td>average</td>\n",
       "    </tr>\n",
       "    <tr>\n",
       "      <th>Darkseid</th>\n",
       "      <td>Uxas</td>\n",
       "      <td>NaN</td>\n",
       "      <td>DC Comics</td>\n",
       "      <td>267.37</td>\n",
       "      <td>817.57</td>\n",
       "      <td>M</td>\n",
       "      <td>1970.0</td>\n",
       "      <td>Red</td>\n",
       "      <td>No Hair</td>\n",
       "      <td>100.0</td>\n",
       "      <td>high</td>\n",
       "    </tr>\n",
       "    <tr>\n",
       "      <th>Hulk</th>\n",
       "      <td>Bruce Banner</td>\n",
       "      <td>Dayton, Ohio</td>\n",
       "      <td>Marvel Comics</td>\n",
       "      <td>244.40</td>\n",
       "      <td>630.90</td>\n",
       "      <td>M</td>\n",
       "      <td>1962.0</td>\n",
       "      <td>Green</td>\n",
       "      <td>Green</td>\n",
       "      <td>100.0</td>\n",
       "      <td>high</td>\n",
       "    </tr>\n",
       "    <tr>\n",
       "      <th>Giganta</th>\n",
       "      <td>Doris Zuel</td>\n",
       "      <td>NaN</td>\n",
       "      <td>DC Comics</td>\n",
       "      <td>62.65</td>\n",
       "      <td>630.80</td>\n",
       "      <td>F</td>\n",
       "      <td>1944.0</td>\n",
       "      <td>Green</td>\n",
       "      <td>Red</td>\n",
       "      <td>90.0</td>\n",
       "      <td>high</td>\n",
       "    </tr>\n",
       "  </tbody>\n",
       "</table>\n",
       "</div>"
      ],
      "text/plain": [
       "                     Identity                 Birth place      Publisher  \\\n",
       "Name                                                                       \n",
       "Sasquatch   Walter Langkowski  Edmonton, Alberta, Canada   Marvel Comics   \n",
       "Juggernaut         Cain Marko        Berkeley, California  Marvel Comics   \n",
       "Darkseid                 Uxas                         NaN      DC Comics   \n",
       "Hulk             Bruce Banner                Dayton, Ohio  Marvel Comics   \n",
       "Giganta            Doris Zuel                         NaN      DC Comics   \n",
       "\n",
       "            Height  Weight Gender  First appearance Eye color Hair color  \\\n",
       "Name                                                                       \n",
       "Sasquatch   305.02  900.70      M               NaN       Red     Orange   \n",
       "Juggernaut  287.95  855.82      M            1965.0      Blue        Red   \n",
       "Darkseid    267.37  817.57      M            1970.0       Red    No Hair   \n",
       "Hulk        244.40  630.90      M            1962.0     Green      Green   \n",
       "Giganta      62.65  630.80      F            1944.0     Green        Red   \n",
       "\n",
       "            Strength Intelligence  \n",
       "Name                               \n",
       "Sasquatch       80.0         good  \n",
       "Juggernaut     100.0      average  \n",
       "Darkseid       100.0         high  \n",
       "Hulk           100.0         high  \n",
       "Giganta         90.0         high  "
      ]
     },
     "execution_count": 51,
     "metadata": {},
     "output_type": "execute_result"
    }
   ],
   "source": [
    "heroes.sort_values(by='Weight', ascending=False)[:5]"
   ]
  },
  {
   "cell_type": "code",
   "execution_count": 52,
   "metadata": {
    "scrolled": false
   },
   "outputs": [
    {
     "data": {
      "text/html": [
       "<div>\n",
       "<style scoped>\n",
       "    .dataframe tbody tr th:only-of-type {\n",
       "        vertical-align: middle;\n",
       "    }\n",
       "\n",
       "    .dataframe tbody tr th {\n",
       "        vertical-align: top;\n",
       "    }\n",
       "\n",
       "    .dataframe thead th {\n",
       "        text-align: right;\n",
       "    }\n",
       "</style>\n",
       "<table border=\"1\" class=\"dataframe\">\n",
       "  <thead>\n",
       "    <tr style=\"text-align: right;\">\n",
       "      <th></th>\n",
       "      <th>Identity</th>\n",
       "      <th>Birth place</th>\n",
       "      <th>Publisher</th>\n",
       "      <th>Height</th>\n",
       "      <th>Weight</th>\n",
       "      <th>Gender</th>\n",
       "      <th>First appearance</th>\n",
       "      <th>Eye color</th>\n",
       "      <th>Hair color</th>\n",
       "      <th>Strength</th>\n",
       "      <th>Intelligence</th>\n",
       "    </tr>\n",
       "    <tr>\n",
       "      <th>Name</th>\n",
       "      <th></th>\n",
       "      <th></th>\n",
       "      <th></th>\n",
       "      <th></th>\n",
       "      <th></th>\n",
       "      <th></th>\n",
       "      <th></th>\n",
       "      <th></th>\n",
       "      <th></th>\n",
       "      <th></th>\n",
       "      <th></th>\n",
       "    </tr>\n",
       "  </thead>\n",
       "  <tbody>\n",
       "    <tr>\n",
       "      <th>Yellowjacket II</th>\n",
       "      <td>Rita DeMara</td>\n",
       "      <td>NaN</td>\n",
       "      <td>Marvel Comics</td>\n",
       "      <td>165.58</td>\n",
       "      <td>52.36</td>\n",
       "      <td>F</td>\n",
       "      <td>NaN</td>\n",
       "      <td>Blue</td>\n",
       "      <td>Strawberry Blond</td>\n",
       "      <td>10.0</td>\n",
       "      <td>average</td>\n",
       "    </tr>\n",
       "    <tr>\n",
       "      <th>Ymir</th>\n",
       "      <td>Ymir</td>\n",
       "      <td>Niffleheim</td>\n",
       "      <td>Marvel Comics</td>\n",
       "      <td>304.63</td>\n",
       "      <td>NaN</td>\n",
       "      <td>M</td>\n",
       "      <td>NaN</td>\n",
       "      <td>White</td>\n",
       "      <td>No Hair</td>\n",
       "      <td>100.0</td>\n",
       "      <td>average</td>\n",
       "    </tr>\n",
       "    <tr>\n",
       "      <th>Yoda</th>\n",
       "      <td>Yoda</td>\n",
       "      <td>NaN</td>\n",
       "      <td>George Lucas</td>\n",
       "      <td>66.29</td>\n",
       "      <td>17.01</td>\n",
       "      <td>M</td>\n",
       "      <td>1980.0</td>\n",
       "      <td>Brown</td>\n",
       "      <td>White</td>\n",
       "      <td>55.0</td>\n",
       "      <td>high</td>\n",
       "    </tr>\n",
       "    <tr>\n",
       "      <th>Zatanna</th>\n",
       "      <td>Zatanna Zatara</td>\n",
       "      <td>NaN</td>\n",
       "      <td>DC Comics</td>\n",
       "      <td>170.29</td>\n",
       "      <td>57.77</td>\n",
       "      <td>F</td>\n",
       "      <td>NaN</td>\n",
       "      <td>Blue</td>\n",
       "      <td>Black</td>\n",
       "      <td>10.0</td>\n",
       "      <td>high</td>\n",
       "    </tr>\n",
       "    <tr>\n",
       "      <th>Zoom</th>\n",
       "      <td>Hunter Zolomon</td>\n",
       "      <td>NaN</td>\n",
       "      <td>DC Comics</td>\n",
       "      <td>185.90</td>\n",
       "      <td>81.93</td>\n",
       "      <td>M</td>\n",
       "      <td>NaN</td>\n",
       "      <td>Red</td>\n",
       "      <td>Brown</td>\n",
       "      <td>10.0</td>\n",
       "      <td>average</td>\n",
       "    </tr>\n",
       "  </tbody>\n",
       "</table>\n",
       "</div>"
      ],
      "text/plain": [
       "                       Identity Birth place      Publisher  Height  Weight  \\\n",
       "Name                                                                         \n",
       "Yellowjacket II     Rita DeMara         NaN  Marvel Comics  165.58   52.36   \n",
       "Ymir                       Ymir  Niffleheim  Marvel Comics  304.63     NaN   \n",
       "Yoda                       Yoda         NaN   George Lucas   66.29   17.01   \n",
       "Zatanna          Zatanna Zatara         NaN      DC Comics  170.29   57.77   \n",
       "Zoom             Hunter Zolomon         NaN      DC Comics  185.90   81.93   \n",
       "\n",
       "                Gender  First appearance Eye color        Hair color  \\\n",
       "Name                                                                   \n",
       "Yellowjacket II      F               NaN      Blue  Strawberry Blond   \n",
       "Ymir                 M               NaN     White           No Hair   \n",
       "Yoda                 M            1980.0     Brown             White   \n",
       "Zatanna              F               NaN      Blue             Black   \n",
       "Zoom                 M               NaN       Red             Brown   \n",
       "\n",
       "                 Strength Intelligence  \n",
       "Name                                    \n",
       "Yellowjacket II      10.0      average  \n",
       "Ymir                100.0      average  \n",
       "Yoda                 55.0         high  \n",
       "Zatanna              10.0         high  \n",
       "Zoom                 10.0      average  "
      ]
     },
     "execution_count": 52,
     "metadata": {},
     "output_type": "execute_result"
    }
   ],
   "source": [
    "heroes.sort_index()[-5:]"
   ]
  },
  {
   "cell_type": "markdown",
   "metadata": {},
   "source": [
    "Va notato che entrmabi i metodi restituiscono una copia del _dataframe_. Anche per i _dataframe_ è possibile utilizzare una lista di valori booleani che identificano le righe da selezionare, e tale lista può essere prodotta effettuando una query. In questo caso però le condizioni possono riguardare le varie colonne, ognuna delle quali va specificata usando una delle due sintassi precedentemente introdotte (quella analoga ai dizionari oppure quella basata su _dot notation_). Per esempio possiamo selezionare gli eroi per cui l'anno di apparizione esiste e rappresenta un valore non fuori scala nel modo seguente:"
   ]
  },
  {
   "cell_type": "code",
   "execution_count": 53,
   "metadata": {},
   "outputs": [],
   "source": [
    "heroes_with_year = heroes[heroes['First appearance'] > 1900]"
   ]
  },
  {
   "cell_type": "code",
   "execution_count": 54,
   "metadata": {},
   "outputs": [
    {
     "data": {
      "text/html": [
       "<div>\n",
       "<style scoped>\n",
       "    .dataframe tbody tr th:only-of-type {\n",
       "        vertical-align: middle;\n",
       "    }\n",
       "\n",
       "    .dataframe tbody tr th {\n",
       "        vertical-align: top;\n",
       "    }\n",
       "\n",
       "    .dataframe thead th {\n",
       "        text-align: right;\n",
       "    }\n",
       "</style>\n",
       "<table border=\"1\" class=\"dataframe\">\n",
       "  <thead>\n",
       "    <tr style=\"text-align: right;\">\n",
       "      <th></th>\n",
       "      <th>Identity</th>\n",
       "      <th>Birth place</th>\n",
       "      <th>Publisher</th>\n",
       "      <th>Height</th>\n",
       "      <th>Weight</th>\n",
       "      <th>Gender</th>\n",
       "      <th>First appearance</th>\n",
       "      <th>Eye color</th>\n",
       "      <th>Hair color</th>\n",
       "      <th>Strength</th>\n",
       "      <th>Intelligence</th>\n",
       "    </tr>\n",
       "    <tr>\n",
       "      <th>Name</th>\n",
       "      <th></th>\n",
       "      <th></th>\n",
       "      <th></th>\n",
       "      <th></th>\n",
       "      <th></th>\n",
       "      <th></th>\n",
       "      <th></th>\n",
       "      <th></th>\n",
       "      <th></th>\n",
       "      <th></th>\n",
       "      <th></th>\n",
       "    </tr>\n",
       "  </thead>\n",
       "  <tbody>\n",
       "    <tr>\n",
       "      <th>Rogue</th>\n",
       "      <td>Anna Marie</td>\n",
       "      <td>Caldecott County, Mississippi</td>\n",
       "      <td>Marvel Comics</td>\n",
       "      <td>173.48</td>\n",
       "      <td>54.43</td>\n",
       "      <td>F</td>\n",
       "      <td>1981.0</td>\n",
       "      <td>Green</td>\n",
       "      <td>Brown / White</td>\n",
       "      <td>10.0</td>\n",
       "      <td>good</td>\n",
       "    </tr>\n",
       "  </tbody>\n",
       "</table>\n",
       "</div>"
      ],
      "text/plain": [
       "         Identity                     Birth place      Publisher  Height  \\\n",
       "Name                                                                       \n",
       "Rogue  Anna Marie  Caldecott County, Mississippi   Marvel Comics  173.48   \n",
       "\n",
       "       Weight Gender  First appearance Eye color     Hair color  Strength  \\\n",
       "Name                                                                        \n",
       "Rogue   54.43      F            1981.0     Green  Brown / White      10.0   \n",
       "\n",
       "      Intelligence  \n",
       "Name                \n",
       "Rogue         good  "
      ]
     },
     "execution_count": 54,
     "metadata": {},
     "output_type": "execute_result"
    }
   ],
   "source": [
    "heroes.loc[['Rogue']]"
   ]
  },
  {
   "cell_type": "code",
   "execution_count": null,
   "metadata": {
    "collapsed": true
   },
   "outputs": [],
   "source": []
  },
  {
   "cell_type": "markdown",
   "metadata": {
    "footer": true
   },
   "source": [
    "<hr style=\"width: 90%;\" align=\"left\" />\n",
    "<span style=\"font-size: 0.8rem;\">D. Malchiodi, Superhero data science. Vol 1: probabilità e statistica: Pandas, 2017.</span>\n",
    "<br>\n",
    "<span style=\"font-size: 0.8rem;\">Powered by <img src=\"img/jupyter-logo.png\" style=\"height: 1rem; display: inline; margin-left: 0.5ex; margin-top: 0;\" alt=\"Jupyter Notebook\"></span>\n",
    "<div style=\"float: left; margin-top: 1ex;\">\n",
    "<img src=\"http://mirrors.creativecommons.org/presskit/icons/cc.large.png\" style=\"width: 1.5em; float: left; margin-right: 0.6ex; margin-top: 0;\">\n",
    "<img src=\"http://mirrors.creativecommons.org/presskit/icons/by.large.png\" style=\"width: 1.5em; float: left; margin-right: 0.6ex; margin-top: 0;\">\n",
    "<img src=\"http://mirrors.creativecommons.org/presskit/icons/nc.large.png\" style=\"width: 1.5em; float: left; margin-right: 0.6ex; margin-top: 0;\">\n",
    "<img src=\"http://mirrors.creativecommons.org/presskit/icons/nd.large.png\" style=\"width: 1.5em; float: left; margin-right: 0.6ex; margin-top: 0;\">\n",
    "<span style=\"font-size: 0.7rem; line-height: 0.7rem; vertical-align: middle;\">Quest'opera è distribuita con Licenza <a rel=\"license\" href=\"http://creativecommons.org/licenses/by-nc-nd/4.0/\">Creative Commons Attribuzione - Non commerciale - Non opere derivate 4.0 Internazionale</a></span>.\n",
    "</div>"
   ]
  }
 ],
 "metadata": {
  "kernelspec": {
   "display_name": "Python 3",
   "language": "python",
   "name": "python3"
  },
  "language_info": {
   "codemirror_mode": {
    "name": "ipython",
    "version": 3
   },
   "file_extension": ".py",
   "mimetype": "text/x-python",
   "name": "python",
   "nbconvert_exporter": "python",
   "pygments_lexer": "ipython3",
   "version": "3.6.5"
  },
  "latex_envs": {
   "LaTeX_envs_menu_present": false,
   "autocomplete": true,
   "bibliofile": "biblio.bib",
   "cite_by": "apalike",
   "current_citInitial": 1,
   "eqLabelWithNumbers": true,
   "eqNumInitial": 1,
   "hotkeys": {
    "equation": "Ctrl-E",
    "itemize": "Ctrl-I"
   },
   "labels_anchors": false,
   "latex_user_defs": false,
   "report_style_numbering": true,
   "user_envs_cfg": true
  }
 },
 "nbformat": 4,
 "nbformat_minor": 2
}
