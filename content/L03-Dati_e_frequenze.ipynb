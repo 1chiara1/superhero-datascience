{
 "cells": [
  {
   "cell_type": "markdown",
   "metadata": {
    "toc": true
   },
   "source": [
    "<h1>Table of Contents<span class=\"tocSkip\"></span></h1>\n",
    "<div class=\"toc\"><ul class=\"toc-item\"><li><span><a href=\"#Dati-e-frequenze\" data-toc-modified-id=\"Dati-e-frequenze-1\"><span class=\"toc-item-num\">1&nbsp;&nbsp;</span>Dati e frequenze</a></span><ul class=\"toc-item\"><li><span><a href=\"#Dati-quantitativi-e-qualitativi\" data-toc-modified-id=\"Dati-quantitativi-e-qualitativi-1.1\"><span class=\"toc-item-num\">1.1&nbsp;&nbsp;</span>Dati quantitativi e qualitativi</a></span><ul class=\"toc-item\"><li><span><a href=\"#Classificazione-dei-dati-qualitativi\" data-toc-modified-id=\"Classificazione-dei-dati-qualitativi-1.1.1\"><span class=\"toc-item-num\">1.1.1&nbsp;&nbsp;</span>Classificazione dei dati qualitativi</a></span></li><li><span><a href=\"#Classificazione-dei-dati-quantitativi\" data-toc-modified-id=\"Classificazione-dei-dati-quantitativi-1.1.2\"><span class=\"toc-item-num\">1.1.2&nbsp;&nbsp;</span>Classificazione dei dati quantitativi</a></span></li></ul></li><li><span><a href=\"#Frequenze-assolute-e-relative-e-loro-visualizzazione\" data-toc-modified-id=\"Frequenze-assolute-e-relative-e-loro-visualizzazione-1.2\"><span class=\"toc-item-num\">1.2&nbsp;&nbsp;</span>Frequenze assolute e relative e loro visualizzazione</a></span></li><li><span><a href=\"#Frequenze-cumulate\" data-toc-modified-id=\"Frequenze-cumulate-1.3\"><span class=\"toc-item-num\">1.3&nbsp;&nbsp;</span>Frequenze cumulate</a></span><ul class=\"toc-item\"><li><span><a href=\"#Diagrammi-di-Pareto\" data-toc-modified-id=\"Diagrammi-di-Pareto-1.3.1\"><span class=\"toc-item-num\">1.3.1&nbsp;&nbsp;</span>Diagrammi di Pareto</a></span></li></ul></li><li><span><a href=\"#Frequenze-congiunte-e-marginali\" data-toc-modified-id=\"Frequenze-congiunte-e-marginali-1.4\"><span class=\"toc-item-num\">1.4&nbsp;&nbsp;</span>Frequenze congiunte e marginali</a></span></li><li><span><a href=\"#Alcuni-approfondimenti-sulla-generazione-dei-grafici-*\" data-toc-modified-id=\"Alcuni-approfondimenti-sulla-generazione-dei-grafici-*-1.5\"><span class=\"toc-item-num\">1.5&nbsp;&nbsp;</span>Alcuni approfondimenti sulla generazione dei grafici <sup>*</sup></a></span></li><li><span><a href=\"#I-diagrammi-stelo-foglia-*\" data-toc-modified-id=\"I-diagrammi-stelo-foglia-*-1.6\"><span class=\"toc-item-num\">1.6&nbsp;&nbsp;</span>I diagrammi stelo-foglia <sup>*</sup></a></span></li></ul></li></ul></div>"
   ]
  },
  {
   "cell_type": "markdown",
   "metadata": {
    "header": true
   },
   "source": [
    "<div class=\"header\">\n",
    "D. Malchiodi, Superhero data science. Vol 1: probabilità e statistica: Dati e frequenze.\n",
    "</div>\n",
    "<hr style=\"width: 90%;\" align=\"left\" />"
   ]
  },
  {
   "cell_type": "markdown",
   "metadata": {},
   "source": [
    "\n",
    "\n",
    "\n",
    "\n",
    "<div id=\"h-0\"></div>\n",
    "\n",
    "# Dati e frequenze\n",
    "\n",
    "Vedremo come esistano tipi differenti di dati, e come in funzione del loro tipo esistano diversi strumenti grafici che li descrivono. Studieremo inoltre in modo più approfondito e diversificato il concetto di _frequenza_.\n",
    "\n",
    "Come sempre, carichiamo le librerie e il dataset dei supereroi. Già che ci siamo, escludiamo l'unico record che fa riferimento al 2099 come anno di prima apparizione."
   ]
  },
  {
   "cell_type": "code",
   "execution_count": 1,
   "metadata": {},
   "outputs": [
    {
     "data": {
      "text/html": [
       "<div>\n",
       "<style scoped>\n",
       "    .dataframe tbody tr th:only-of-type {\n",
       "        vertical-align: middle;\n",
       "    }\n",
       "\n",
       "    .dataframe tbody tr th {\n",
       "        vertical-align: top;\n",
       "    }\n",
       "\n",
       "    .dataframe thead th {\n",
       "        text-align: right;\n",
       "    }\n",
       "</style>\n",
       "<table border=\"1\" class=\"dataframe\">\n",
       "  <thead>\n",
       "    <tr style=\"text-align: right;\">\n",
       "      <th></th>\n",
       "      <th>Identity</th>\n",
       "      <th>Birth place</th>\n",
       "      <th>Publisher</th>\n",
       "      <th>Height</th>\n",
       "      <th>Weight</th>\n",
       "      <th>Gender</th>\n",
       "      <th>First appearance</th>\n",
       "      <th>Eye color</th>\n",
       "      <th>Hair color</th>\n",
       "      <th>Strength</th>\n",
       "      <th>Intelligence</th>\n",
       "    </tr>\n",
       "    <tr>\n",
       "      <th>Name</th>\n",
       "      <th></th>\n",
       "      <th></th>\n",
       "      <th></th>\n",
       "      <th></th>\n",
       "      <th></th>\n",
       "      <th></th>\n",
       "      <th></th>\n",
       "      <th></th>\n",
       "      <th></th>\n",
       "      <th></th>\n",
       "      <th></th>\n",
       "    </tr>\n",
       "  </thead>\n",
       "  <tbody>\n",
       "    <tr>\n",
       "      <th>A-Bomb</th>\n",
       "      <td>Richard Milhouse Jones</td>\n",
       "      <td>Scarsdale, Arizona</td>\n",
       "      <td>Marvel Comics</td>\n",
       "      <td>203.21</td>\n",
       "      <td>441.95</td>\n",
       "      <td>M</td>\n",
       "      <td>2008.0</td>\n",
       "      <td>Yellow</td>\n",
       "      <td>No Hair</td>\n",
       "      <td>100.0</td>\n",
       "      <td>moderate</td>\n",
       "    </tr>\n",
       "    <tr>\n",
       "      <th>Agent Bob</th>\n",
       "      <td>Bob</td>\n",
       "      <td>NaN</td>\n",
       "      <td>Marvel Comics</td>\n",
       "      <td>178.25</td>\n",
       "      <td>81.45</td>\n",
       "      <td>M</td>\n",
       "      <td>2007.0</td>\n",
       "      <td>Brown</td>\n",
       "      <td>Brown</td>\n",
       "      <td>10.0</td>\n",
       "      <td>low</td>\n",
       "    </tr>\n",
       "    <tr>\n",
       "      <th>Abe Sapien</th>\n",
       "      <td>Abraham Sapien</td>\n",
       "      <td>NaN</td>\n",
       "      <td>Dark Horse Comics</td>\n",
       "      <td>191.24</td>\n",
       "      <td>65.35</td>\n",
       "      <td>M</td>\n",
       "      <td>1993.0</td>\n",
       "      <td>Blue</td>\n",
       "      <td>No Hair</td>\n",
       "      <td>30.0</td>\n",
       "      <td>high</td>\n",
       "    </tr>\n",
       "    <tr>\n",
       "      <th>Abin Sur</th>\n",
       "      <td>NaN</td>\n",
       "      <td>Ungara</td>\n",
       "      <td>DC Comics</td>\n",
       "      <td>185.52</td>\n",
       "      <td>90.90</td>\n",
       "      <td>M</td>\n",
       "      <td>1959.0</td>\n",
       "      <td>Blue</td>\n",
       "      <td>No Hair</td>\n",
       "      <td>90.0</td>\n",
       "      <td>average</td>\n",
       "    </tr>\n",
       "    <tr>\n",
       "      <th>Animal Man</th>\n",
       "      <td>Bernhard Baker</td>\n",
       "      <td>NaN</td>\n",
       "      <td>DC Comics</td>\n",
       "      <td>183.80</td>\n",
       "      <td>83.39</td>\n",
       "      <td>M</td>\n",
       "      <td>1965.0</td>\n",
       "      <td>Blue</td>\n",
       "      <td>Blond</td>\n",
       "      <td>50.0</td>\n",
       "      <td>average</td>\n",
       "    </tr>\n",
       "  </tbody>\n",
       "</table>\n",
       "</div>"
      ],
      "text/plain": [
       "                          Identity         Birth place          Publisher  \\\n",
       "Name                                                                        \n",
       "A-Bomb      Richard Milhouse Jones  Scarsdale, Arizona      Marvel Comics   \n",
       "Agent Bob                      Bob                 NaN      Marvel Comics   \n",
       "Abe Sapien          Abraham Sapien                 NaN  Dark Horse Comics   \n",
       "Abin Sur                       NaN              Ungara          DC Comics   \n",
       "Animal Man          Bernhard Baker                 NaN          DC Comics   \n",
       "\n",
       "            Height  Weight Gender  First appearance Eye color Hair color  \\\n",
       "Name                                                                       \n",
       "A-Bomb      203.21  441.95      M            2008.0    Yellow    No Hair   \n",
       "Agent Bob   178.25   81.45      M            2007.0     Brown      Brown   \n",
       "Abe Sapien  191.24   65.35      M            1993.0      Blue    No Hair   \n",
       "Abin Sur    185.52   90.90      M            1959.0      Blue    No Hair   \n",
       "Animal Man  183.80   83.39      M            1965.0      Blue      Blond   \n",
       "\n",
       "            Strength Intelligence  \n",
       "Name                               \n",
       "A-Bomb         100.0     moderate  \n",
       "Agent Bob       10.0          low  \n",
       "Abe Sapien      30.0         high  \n",
       "Abin Sur        90.0      average  \n",
       "Animal Man      50.0      average  "
      ]
     },
     "execution_count": 1,
     "metadata": {},
     "output_type": "execute_result"
    }
   ],
   "source": [
    "%matplotlib inline\n",
    "\n",
    "import numpy as np\n",
    "import pandas as pd\n",
    "import matplotlib.pyplot as plt\n",
    "from scipy.constants import golden\n",
    "\n",
    "plt.style.use('fivethirtyeight')\n",
    "plt.rc('figure', figsize=(5.0, 5.0/golden))\n",
    "\n",
    "\n",
    "heroes = pd.read_csv('data/heroes.csv', sep=';', index_col=0)\n",
    "heroes_with_year = heroes[heroes['First appearance'] < 2020]\n",
    "\n",
    "heroes_with_year.head()"
   ]
  },
  {
   "cell_type": "markdown",
   "metadata": {},
   "source": [
    "\n",
    "\n",
    "\n",
    "\n",
    "<div id=\"h-1\"></div>\n",
    "\n",
    "## Dati quantitativi e qualitativi\n",
    "\n",
    "Una delle principali distinzioni che si possono fare sui dati osservabili riguarda il modo in cui questi sono misurati:\n",
    "\n",
    "<ul>\n",
    "  <li>si parla di dati _quantitativi_ se l'esito della misurazione è una quantità numerica;</li>\n",
    "  <li>si parla invece di dati _qualitativi_ (o categorici, o nominali) quando la misurazione è fatta scegliendo un'etichetta a partire da un insieme disponibili.</li>\n",
    "</ul>\n",
    "\n",
    "Pertanto nel nostro dataset i caratteri _Height_, _Weight_ e _Strength_ saranno da considerare quantitativi, mentre i caratteri _Name_, _Identity_, _Birth place_, _Publisher_, _Gender_, _Eye color_, _Hair color_ e _Intelligence_ saranno sicuramente di tipo qualititativo (la differenza tra _Strength_ e _Intelligence_ è legata al fatto che il primo carattere è misurato tramite numeri che variano tra 0 e 100 mentre il secondo fa riferimento a una scala basata su etichette). La classificazione di _First appearance_ è più sfumata e merita qualche riflessione in più: sebbene l'anno di prima apparizione sia misurato tramite un numero intero, il suo valore non indica prettamente una _quantità_, bensì _quando_ è accaduto un evento. In tal senso, il calcolo di operazioni aritmetiche quali la somma o la divisione perde di significato, ed è per questo che spesso caratteri di questo tipo ricadono nella classe dei dati qualitativi. Cionondimeno, vedremo come sia possibile ragionare sul carattere _First appearance_ anche in termini quantitativi quando per esempio parleremo della visualizzazione di istogrammi. Ci sono poi casi di caratteri espressi in termini temporali in cui viene misurato il tempo intercorso a partire da un dato istante iniziale (come per esempio il tempo di arrivo del primo cliente in un negozio, misurato in minuti dall'orario di apertura), di cui è chiara l'appartenenza alla classe dei dati quantitativi.\n",
    "\n",
    "\n",
    "\n",
    "\n",
    "\n",
    "<div id=\"h-2\"></div>\n",
    "\n",
    "### Classificazione dei dati qualitativi\n",
    "\n",
    "I dati qualitativi vengono spesso ulteriormente classificati come binari/booleani, nominali oppure ordinali. Si parla di dati _binari_ o _booleani_ quando l'osservazione può avere solo due esiti tra loro non confrontabili (volendo si può parlare di dati booleani per enfatizzare che si sta valutando la presenza o l'assenza di una proprietà, e di dati binari quando esistono due possibili etichette): in tal senso, il carattere _Gender_, che può assumere solo i valori M e F, è quindi un carattere qualitativo binario. Anche nei dati _nominali_ (detti anche sconnessi), di cui i dati binari rappresentano un caso particolare, i valori osservabili non sono tra loro confrontabili, sebbene non vi sia limite sul numero di diverse etichette. Saranno dunque dati qualitativi nominali, oltre al già considerato _Gender_, anche _Name_, _Identity_, _Birth place_, _Publisher_, _Gender_, _Eye color_ e _Hair color_. Detto in altri termini, in questo tipo di dati (e quindi anche nel caso binario/booleano) è solo possibile stabilire una relazione di equivalenza tra i valori osservabili: pertanto, due osservazioni potranno avere valori uguali oppure diversi, e nulla più si potrà dire sul loro rapporto. Nei dati _ordinali_, invece, è possibile stabilire una relazione d'ordine tra i valori osservabili, e quindi quando due valori saranno diversi sarà anche possibile dire quale tra i due sia il più piccolo e quale il più grande. Nel nostro dataset, solo _Intelligence_ è un dato qualitativo ordinale.\n",
    "\n",
    "\n",
    "\n",
    "\n",
    "\n",
    "<div id=\"h-3\"></div>\n",
    "\n",
    "### Classificazione dei dati quantitativi\n",
    "\n",
    "Per quanto riguarda i dati quantitativi, viene spesso fatto riferimento alla differenza tra dati _discreti_ e _continui_ in funzione del tipo di insieme di valori che questi possono assumere. Va in realtà notato che i dati che elaboriamo sono memorizzati su un computer e quindi i valori reali vengono approssimati tramite valori all'interno di un insieme finito (dunque discreto). Vale più la pena ragionare in termini di caratteri per cui ha senso dare significato a un singolo valore (come nel caso dell'anno di prima apparizione, in cui ha senso considerare gli eroi apparsi nel 1970) e di caratteri in cui di norma ha senso considerare un _intervallo_ di valori (come nel caso dei rimanenti caratteri: ha di solito poco senso considerare, per esempio, un eroe alto esattamente 178 centimetri o con un indice di forza pari a 42).\n",
    "\n",
    "In alcuni casi si considerano diversi i caratteri quantitativi in funzione che abbia o meno senso considerare il _rapporto_ tra i corrispondenti valori: sarebbe questo il caso dei caratteri _Height_, _Weight_ e _Strength_ nel nostro dataset.\n",
    "\n",
    "\n",
    "\n",
    "\n",
    "\n",
    "\n",
    "<div id=\"h-4\"></div>\n",
    "\n",
    "## Frequenze assolute e relative e loro visualizzazione\n",
    "\n",
    "Abbiamo già incontrato il concetto di _frequenza assoluta_: si tratta del conteggio del numero di volte che una data osservazione occorre in un campione. Questo tipo di informazione è facilmente analizzabile quando il nuemro di differenti osservazioni non è troppo grande: ciò accade quasi sempre quando si analizzano caratteri qualitativi e relativamente meno spesso per i caratteri quantitativi. Prendiamo per esempio in considerazione il carattere _Publisher_, e calcoliamone le frequenze assolute usando il già introdotto metodo `value_counts`:"
   ]
  },
  {
   "cell_type": "code",
   "execution_count": 2,
   "metadata": {},
   "outputs": [
    {
     "data": {
      "text/plain": [
       "Marvel Comics        205\n",
       "DC Comics            121\n",
       "Dark Horse Comics     12\n",
       "George Lucas          11\n",
       "ABC Studios            4\n",
       "Image Comics           3\n",
       "Star Trek              1\n",
       "Hanna-Barbera          1\n",
       "Universal Studios      1\n",
       "Rebellion              1\n",
       "Name: Publisher, dtype: int64"
      ]
     },
     "execution_count": 2,
     "metadata": {},
     "output_type": "execute_result"
    }
   ],
   "source": [
    "heroes_with_year['Publisher'].value_counts()"
   ]
  },
  {
   "cell_type": "markdown",
   "metadata": {},
   "source": [
    "Vi sono dunque, nel dataset che stiamo analizzando, dieci diversi valori possibili per l'editore: ciò rende l'insieme delle frequenze assolute facilmente visualizzabile in forma tabulare, costruendo la cosiddetta _tabella delle frequenze assolute_ in cui si ha una riga per ogni possibile valore osservabile, e tale riga contiene il valore stesso e la corrispondente frequenza assoluta. In senso lato, già l'output di `value_counts` è una tabella delle frequenze assolute, anche se è possibile utilizzare la funzione `pd.crosstab` per ottenere una visualizzazione più elegante, in quanto tale funzione restituisce un _dataframe_:"
   ]
  },
  {
   "cell_type": "code",
   "execution_count": 3,
   "metadata": {},
   "outputs": [
    {
     "data": {
      "text/html": [
       "<div>\n",
       "<style scoped>\n",
       "    .dataframe tbody tr th:only-of-type {\n",
       "        vertical-align: middle;\n",
       "    }\n",
       "\n",
       "    .dataframe tbody tr th {\n",
       "        vertical-align: top;\n",
       "    }\n",
       "\n",
       "    .dataframe thead th {\n",
       "        text-align: right;\n",
       "    }\n",
       "</style>\n",
       "<table border=\"1\" class=\"dataframe\">\n",
       "  <thead>\n",
       "    <tr style=\"text-align: right;\">\n",
       "      <th></th>\n",
       "      <th>Abs. freqence</th>\n",
       "    </tr>\n",
       "    <tr>\n",
       "      <th>Publisher</th>\n",
       "      <th></th>\n",
       "    </tr>\n",
       "  </thead>\n",
       "  <tbody>\n",
       "    <tr>\n",
       "      <th>ABC Studios</th>\n",
       "      <td>4</td>\n",
       "    </tr>\n",
       "    <tr>\n",
       "      <th>DC Comics</th>\n",
       "      <td>121</td>\n",
       "    </tr>\n",
       "    <tr>\n",
       "      <th>Dark Horse Comics</th>\n",
       "      <td>12</td>\n",
       "    </tr>\n",
       "    <tr>\n",
       "      <th>George Lucas</th>\n",
       "      <td>11</td>\n",
       "    </tr>\n",
       "    <tr>\n",
       "      <th>Hanna-Barbera</th>\n",
       "      <td>1</td>\n",
       "    </tr>\n",
       "    <tr>\n",
       "      <th>Image Comics</th>\n",
       "      <td>3</td>\n",
       "    </tr>\n",
       "    <tr>\n",
       "      <th>Marvel Comics</th>\n",
       "      <td>205</td>\n",
       "    </tr>\n",
       "    <tr>\n",
       "      <th>Rebellion</th>\n",
       "      <td>1</td>\n",
       "    </tr>\n",
       "    <tr>\n",
       "      <th>Star Trek</th>\n",
       "      <td>1</td>\n",
       "    </tr>\n",
       "    <tr>\n",
       "      <th>Universal Studios</th>\n",
       "      <td>1</td>\n",
       "    </tr>\n",
       "  </tbody>\n",
       "</table>\n",
       "</div>"
      ],
      "text/plain": [
       "                   Abs. freqence\n",
       "Publisher                       \n",
       "ABC Studios                    4\n",
       "DC Comics                    121\n",
       "Dark Horse Comics             12\n",
       "George Lucas                  11\n",
       "Hanna-Barbera                  1\n",
       "Image Comics                   3\n",
       "Marvel Comics                205\n",
       "Rebellion                      1\n",
       "Star Trek                      1\n",
       "Universal Studios              1"
      ]
     },
     "execution_count": 3,
     "metadata": {},
     "output_type": "execute_result"
    }
   ],
   "source": [
    "publisher_freq = pd.crosstab(index=heroes_with_year['Publisher'],\n",
    "                             columns=['Abs. freqence'],\n",
    "                             colnames=[''])\n",
    "publisher_freq"
   ]
  },
  {
   "cell_type": "markdown",
   "metadata": {},
   "source": [
    "<div class=\"alert alert-info\">\n",
    "L'argomento essenziale di `pd.crosstab` è, in questo caso, `index`, che viene impostato alla serie di cui vanno calcolate le frequenze assolute; i due rimanenti argomenti influiscono solo sul modo in cui viene visualizzata la tabella delle frequenze: `columns` contiene una lista il cui unico elemento è l'intestazione della colonna delle frequenze, mentre `colnames` viene impostato a una lista contenente una stringa vuota al fine di non visualizzare un'ulteriore etichetta per l'intera tabella.\n",
    "</div>\n",
    "\n",
    "Essendo l'output di `pd.crosstab` un _dataframe_, su esso si possono eseguire operazioni quali _slicing_, accesso basato su indice e su posizione e così via. Ciò permette di trasformare facilmente una tabella di frequenze relative nella corrispondente tabella delle _frequenze relative_, dove la frequenza relativa di un'osservazione è la frazione di casi in quell'osservazione occorre. L'uso delle frequenze relative permette di valutare più facilmente la grandezza dei valori in gioco, in quanto questi varieranno sempre tra 0 e 1, mentre le frequenze assolute non hanno a priori un valore massimo e quindi è meno facile valutare se una frequenza è «alta» o «bassa». Le frequenze relative si calcolano dividendo quelle assolute per il numero totale di casi; quest'ultimo è ovviamente uguale alla somma di tutte le frequenze assolute, quindi la tabella delle frequenze relative si può ottenere nel modo seguente: "
   ]
  },
  {
   "cell_type": "code",
   "execution_count": 4,
   "metadata": {},
   "outputs": [
    {
     "data": {
      "text/html": [
       "<div>\n",
       "<style scoped>\n",
       "    .dataframe tbody tr th:only-of-type {\n",
       "        vertical-align: middle;\n",
       "    }\n",
       "\n",
       "    .dataframe tbody tr th {\n",
       "        vertical-align: top;\n",
       "    }\n",
       "\n",
       "    .dataframe thead th {\n",
       "        text-align: right;\n",
       "    }\n",
       "</style>\n",
       "<table border=\"1\" class=\"dataframe\">\n",
       "  <thead>\n",
       "    <tr style=\"text-align: right;\">\n",
       "      <th></th>\n",
       "      <th>Rel. freqence</th>\n",
       "    </tr>\n",
       "    <tr>\n",
       "      <th>Publisher</th>\n",
       "      <th></th>\n",
       "    </tr>\n",
       "  </thead>\n",
       "  <tbody>\n",
       "    <tr>\n",
       "      <th>ABC Studios</th>\n",
       "      <td>0.011111</td>\n",
       "    </tr>\n",
       "    <tr>\n",
       "      <th>DC Comics</th>\n",
       "      <td>0.336111</td>\n",
       "    </tr>\n",
       "    <tr>\n",
       "      <th>Dark Horse Comics</th>\n",
       "      <td>0.033333</td>\n",
       "    </tr>\n",
       "    <tr>\n",
       "      <th>George Lucas</th>\n",
       "      <td>0.030556</td>\n",
       "    </tr>\n",
       "    <tr>\n",
       "      <th>Hanna-Barbera</th>\n",
       "      <td>0.002778</td>\n",
       "    </tr>\n",
       "    <tr>\n",
       "      <th>Image Comics</th>\n",
       "      <td>0.008333</td>\n",
       "    </tr>\n",
       "    <tr>\n",
       "      <th>Marvel Comics</th>\n",
       "      <td>0.569444</td>\n",
       "    </tr>\n",
       "    <tr>\n",
       "      <th>Rebellion</th>\n",
       "      <td>0.002778</td>\n",
       "    </tr>\n",
       "    <tr>\n",
       "      <th>Star Trek</th>\n",
       "      <td>0.002778</td>\n",
       "    </tr>\n",
       "    <tr>\n",
       "      <th>Universal Studios</th>\n",
       "      <td>0.002778</td>\n",
       "    </tr>\n",
       "  </tbody>\n",
       "</table>\n",
       "</div>"
      ],
      "text/plain": [
       "                   Rel. freqence\n",
       "Publisher                       \n",
       "ABC Studios             0.011111\n",
       "DC Comics               0.336111\n",
       "Dark Horse Comics       0.033333\n",
       "George Lucas            0.030556\n",
       "Hanna-Barbera           0.002778\n",
       "Image Comics            0.008333\n",
       "Marvel Comics           0.569444\n",
       "Rebellion               0.002778\n",
       "Star Trek               0.002778\n",
       "Universal Studios       0.002778"
      ]
     },
     "execution_count": 4,
     "metadata": {},
     "output_type": "execute_result"
    }
   ],
   "source": [
    "publisher_abs_freq = pd.crosstab(index=heroes_with_year['Publisher'],\n",
    "                                 columns=['Rel. freqence'],\n",
    "                                 colnames=[''])\n",
    "publisher_rel_freq = publisher_abs_freq / publisher_abs_freq.sum()\n",
    "\n",
    "publisher_rel_freq"
   ]
  },
  {
   "cell_type": "markdown",
   "metadata": {},
   "source": [
    "In realtà è possibile creare direttamente la tabella delle frequenze relative specificando il valore `True` per l'argomento `normalize`:"
   ]
  },
  {
   "cell_type": "code",
   "execution_count": 5,
   "metadata": {},
   "outputs": [
    {
     "data": {
      "text/html": [
       "<div>\n",
       "<style scoped>\n",
       "    .dataframe tbody tr th:only-of-type {\n",
       "        vertical-align: middle;\n",
       "    }\n",
       "\n",
       "    .dataframe tbody tr th {\n",
       "        vertical-align: top;\n",
       "    }\n",
       "\n",
       "    .dataframe thead th {\n",
       "        text-align: right;\n",
       "    }\n",
       "</style>\n",
       "<table border=\"1\" class=\"dataframe\">\n",
       "  <thead>\n",
       "    <tr style=\"text-align: right;\">\n",
       "      <th></th>\n",
       "      <th>Rel. freqence</th>\n",
       "    </tr>\n",
       "    <tr>\n",
       "      <th>Publisher</th>\n",
       "      <th></th>\n",
       "    </tr>\n",
       "  </thead>\n",
       "  <tbody>\n",
       "    <tr>\n",
       "      <th>ABC Studios</th>\n",
       "      <td>0.011111</td>\n",
       "    </tr>\n",
       "    <tr>\n",
       "      <th>DC Comics</th>\n",
       "      <td>0.336111</td>\n",
       "    </tr>\n",
       "    <tr>\n",
       "      <th>Dark Horse Comics</th>\n",
       "      <td>0.033333</td>\n",
       "    </tr>\n",
       "    <tr>\n",
       "      <th>George Lucas</th>\n",
       "      <td>0.030556</td>\n",
       "    </tr>\n",
       "    <tr>\n",
       "      <th>Hanna-Barbera</th>\n",
       "      <td>0.002778</td>\n",
       "    </tr>\n",
       "    <tr>\n",
       "      <th>Image Comics</th>\n",
       "      <td>0.008333</td>\n",
       "    </tr>\n",
       "    <tr>\n",
       "      <th>Marvel Comics</th>\n",
       "      <td>0.569444</td>\n",
       "    </tr>\n",
       "    <tr>\n",
       "      <th>Rebellion</th>\n",
       "      <td>0.002778</td>\n",
       "    </tr>\n",
       "    <tr>\n",
       "      <th>Star Trek</th>\n",
       "      <td>0.002778</td>\n",
       "    </tr>\n",
       "    <tr>\n",
       "      <th>Universal Studios</th>\n",
       "      <td>0.002778</td>\n",
       "    </tr>\n",
       "  </tbody>\n",
       "</table>\n",
       "</div>"
      ],
      "text/plain": [
       "                   Rel. freqence\n",
       "Publisher                       \n",
       "ABC Studios             0.011111\n",
       "DC Comics               0.336111\n",
       "Dark Horse Comics       0.033333\n",
       "George Lucas            0.030556\n",
       "Hanna-Barbera           0.002778\n",
       "Image Comics            0.008333\n",
       "Marvel Comics           0.569444\n",
       "Rebellion               0.002778\n",
       "Star Trek               0.002778\n",
       "Universal Studios       0.002778"
      ]
     },
     "execution_count": 5,
     "metadata": {},
     "output_type": "execute_result"
    }
   ],
   "source": [
    "publisher_rel_freq = pd.crosstab(index=heroes_with_year['Publisher'],\n",
    "                                 columns=['Rel. freqence'],\n",
    "                                 colnames=[''],\n",
    "                                 normalize=True)\n",
    "publisher_rel_freq"
   ]
  },
  {
   "cell_type": "markdown",
   "metadata": {},
   "source": [
    "La visualizzazione della tabella può essere migliorata riducendo il numero di cifre visualizzate, applicando ai suoi elementi la funzione `np.round` che arrotonda un valore floating point mantenendo un numero prefissato di cifre decimali:"
   ]
  },
  {
   "cell_type": "code",
   "execution_count": 6,
   "metadata": {},
   "outputs": [
    {
     "data": {
      "text/html": [
       "<div>\n",
       "<style scoped>\n",
       "    .dataframe tbody tr th:only-of-type {\n",
       "        vertical-align: middle;\n",
       "    }\n",
       "\n",
       "    .dataframe tbody tr th {\n",
       "        vertical-align: top;\n",
       "    }\n",
       "\n",
       "    .dataframe thead th {\n",
       "        text-align: right;\n",
       "    }\n",
       "</style>\n",
       "<table border=\"1\" class=\"dataframe\">\n",
       "  <thead>\n",
       "    <tr style=\"text-align: right;\">\n",
       "      <th></th>\n",
       "      <th>Rel. freqence</th>\n",
       "    </tr>\n",
       "    <tr>\n",
       "      <th>Publisher</th>\n",
       "      <th></th>\n",
       "    </tr>\n",
       "  </thead>\n",
       "  <tbody>\n",
       "    <tr>\n",
       "      <th>ABC Studios</th>\n",
       "      <td>1.1</td>\n",
       "    </tr>\n",
       "    <tr>\n",
       "      <th>DC Comics</th>\n",
       "      <td>33.6</td>\n",
       "    </tr>\n",
       "    <tr>\n",
       "      <th>Dark Horse Comics</th>\n",
       "      <td>3.3</td>\n",
       "    </tr>\n",
       "    <tr>\n",
       "      <th>George Lucas</th>\n",
       "      <td>3.1</td>\n",
       "    </tr>\n",
       "    <tr>\n",
       "      <th>Hanna-Barbera</th>\n",
       "      <td>0.3</td>\n",
       "    </tr>\n",
       "    <tr>\n",
       "      <th>Image Comics</th>\n",
       "      <td>0.8</td>\n",
       "    </tr>\n",
       "    <tr>\n",
       "      <th>Marvel Comics</th>\n",
       "      <td>56.9</td>\n",
       "    </tr>\n",
       "    <tr>\n",
       "      <th>Rebellion</th>\n",
       "      <td>0.3</td>\n",
       "    </tr>\n",
       "    <tr>\n",
       "      <th>Star Trek</th>\n",
       "      <td>0.3</td>\n",
       "    </tr>\n",
       "    <tr>\n",
       "      <th>Universal Studios</th>\n",
       "      <td>0.3</td>\n",
       "    </tr>\n",
       "  </tbody>\n",
       "</table>\n",
       "</div>"
      ],
      "text/plain": [
       "                   Rel. freqence\n",
       "Publisher                       \n",
       "ABC Studios                  1.1\n",
       "DC Comics                   33.6\n",
       "Dark Horse Comics            3.3\n",
       "George Lucas                 3.1\n",
       "Hanna-Barbera                0.3\n",
       "Image Comics                 0.8\n",
       "Marvel Comics               56.9\n",
       "Rebellion                    0.3\n",
       "Star Trek                    0.3\n",
       "Universal Studios            0.3"
      ]
     },
     "execution_count": 6,
     "metadata": {},
     "output_type": "execute_result"
    }
   ],
   "source": [
    "publisher_rel_freq.apply(lambda p: 100 * np.round(p, 3))"
   ]
  },
  {
   "cell_type": "markdown",
   "metadata": {},
   "source": [
    "Volendo visualizzare la frequenza relativa usando delle percentuali è possibile operare in modo simile: basta moltiplicare per 100 i valori una volta che questi sono stati arrotondati in modo da tener conto delle cifre decimali che si vogliono visualizzare. Nella cella seguente il risultato viene convertito in una serie di stringhe, così da poter effettuare un'ultima trasformazione che visualizza le percentuali utilizzando il simbolo `%`."
   ]
  },
  {
   "cell_type": "code",
   "execution_count": 7,
   "metadata": {},
   "outputs": [
    {
     "data": {
      "text/html": [
       "<div>\n",
       "<style scoped>\n",
       "    .dataframe tbody tr th:only-of-type {\n",
       "        vertical-align: middle;\n",
       "    }\n",
       "\n",
       "    .dataframe tbody tr th {\n",
       "        vertical-align: top;\n",
       "    }\n",
       "\n",
       "    .dataframe thead th {\n",
       "        text-align: right;\n",
       "    }\n",
       "</style>\n",
       "<table border=\"1\" class=\"dataframe\">\n",
       "  <thead>\n",
       "    <tr style=\"text-align: right;\">\n",
       "      <th></th>\n",
       "      <th>Rel. freqence</th>\n",
       "    </tr>\n",
       "    <tr>\n",
       "      <th>Publisher</th>\n",
       "      <th></th>\n",
       "    </tr>\n",
       "  </thead>\n",
       "  <tbody>\n",
       "    <tr>\n",
       "      <th>ABC Studios</th>\n",
       "      <td>1.11%</td>\n",
       "    </tr>\n",
       "    <tr>\n",
       "      <th>DC Comics</th>\n",
       "      <td>33.61%</td>\n",
       "    </tr>\n",
       "    <tr>\n",
       "      <th>Dark Horse Comics</th>\n",
       "      <td>3.33%</td>\n",
       "    </tr>\n",
       "    <tr>\n",
       "      <th>George Lucas</th>\n",
       "      <td>3.06%</td>\n",
       "    </tr>\n",
       "    <tr>\n",
       "      <th>Hanna-Barbera</th>\n",
       "      <td>0.28%</td>\n",
       "    </tr>\n",
       "    <tr>\n",
       "      <th>Image Comics</th>\n",
       "      <td>0.83%</td>\n",
       "    </tr>\n",
       "    <tr>\n",
       "      <th>Marvel Comics</th>\n",
       "      <td>56.94%</td>\n",
       "    </tr>\n",
       "    <tr>\n",
       "      <th>Rebellion</th>\n",
       "      <td>0.28%</td>\n",
       "    </tr>\n",
       "    <tr>\n",
       "      <th>Star Trek</th>\n",
       "      <td>0.28%</td>\n",
       "    </tr>\n",
       "    <tr>\n",
       "      <th>Universal Studios</th>\n",
       "      <td>0.28%</td>\n",
       "    </tr>\n",
       "  </tbody>\n",
       "</table>\n",
       "</div>"
      ],
      "text/plain": [
       "                  Rel. freqence\n",
       "Publisher                      \n",
       "ABC Studios               1.11%\n",
       "DC Comics                33.61%\n",
       "Dark Horse Comics         3.33%\n",
       "George Lucas              3.06%\n",
       "Hanna-Barbera             0.28%\n",
       "Image Comics              0.83%\n",
       "Marvel Comics            56.94%\n",
       "Rebellion                 0.28%\n",
       "Star Trek                 0.28%\n",
       "Universal Studios         0.28%"
      ]
     },
     "execution_count": 7,
     "metadata": {},
     "output_type": "execute_result"
    }
   ],
   "source": [
    "(publisher_rel_freq.apply(lambda p: np.round(100*p, 2))\n",
    "                   .astype(str)\n",
    "                   .apply(lambda s: s + '%'))"
   ]
  },
  {
   "cell_type": "markdown",
   "metadata": {},
   "source": [
    "L'ordine delle righe in una tabella delle frequenze è quello individuato dal suo indice, che tipicamente è legato all'ordinamento predefinito (non decrescente) dei suoi elementi: nel caso di stringhe, quindi, le righe saranno ordinate alfabeticamente per i valori della prima colonna."
   ]
  },
  {
   "cell_type": "code",
   "execution_count": 8,
   "metadata": {},
   "outputs": [
    {
     "data": {
      "text/html": [
       "<div>\n",
       "<style scoped>\n",
       "    .dataframe tbody tr th:only-of-type {\n",
       "        vertical-align: middle;\n",
       "    }\n",
       "\n",
       "    .dataframe tbody tr th {\n",
       "        vertical-align: top;\n",
       "    }\n",
       "\n",
       "    .dataframe thead th {\n",
       "        text-align: right;\n",
       "    }\n",
       "</style>\n",
       "<table border=\"1\" class=\"dataframe\">\n",
       "  <thead>\n",
       "    <tr style=\"text-align: right;\">\n",
       "      <th></th>\n",
       "      <th>Abs. frequence</th>\n",
       "    </tr>\n",
       "    <tr>\n",
       "      <th>Gender</th>\n",
       "      <th></th>\n",
       "    </tr>\n",
       "  </thead>\n",
       "  <tbody>\n",
       "    <tr>\n",
       "      <th>F</th>\n",
       "      <td>87</td>\n",
       "    </tr>\n",
       "    <tr>\n",
       "      <th>M</th>\n",
       "      <td>272</td>\n",
       "    </tr>\n",
       "  </tbody>\n",
       "</table>\n",
       "</div>"
      ],
      "text/plain": [
       "        Abs. frequence\n",
       "Gender                \n",
       "F                   87\n",
       "M                  272"
      ]
     },
     "execution_count": 8,
     "metadata": {},
     "output_type": "execute_result"
    }
   ],
   "source": [
    "gender_freq = pd.crosstab(index=heroes_with_year['Gender'],\n",
    "                          columns=['Abs. frequence'],\n",
    "                          colnames=[''])\n",
    "gender_freq"
   ]
  },
  {
   "cell_type": "markdown",
   "metadata": {},
   "source": [
    "Volendo modificare tale ordine è possibile accedere al _dataframe_ corrispondente alla tabella tramite `loc` e specificando come secondo argomento una lista dei valori nell'ordine desiderato:"
   ]
  },
  {
   "cell_type": "code",
   "execution_count": 9,
   "metadata": {},
   "outputs": [
    {
     "data": {
      "text/html": [
       "<div>\n",
       "<style scoped>\n",
       "    .dataframe tbody tr th:only-of-type {\n",
       "        vertical-align: middle;\n",
       "    }\n",
       "\n",
       "    .dataframe tbody tr th {\n",
       "        vertical-align: top;\n",
       "    }\n",
       "\n",
       "    .dataframe thead th {\n",
       "        text-align: right;\n",
       "    }\n",
       "</style>\n",
       "<table border=\"1\" class=\"dataframe\">\n",
       "  <thead>\n",
       "    <tr style=\"text-align: right;\">\n",
       "      <th></th>\n",
       "      <th>Abs. frequence</th>\n",
       "    </tr>\n",
       "    <tr>\n",
       "      <th>Gender</th>\n",
       "      <th></th>\n",
       "    </tr>\n",
       "  </thead>\n",
       "  <tbody>\n",
       "    <tr>\n",
       "      <th>M</th>\n",
       "      <td>272</td>\n",
       "    </tr>\n",
       "    <tr>\n",
       "      <th>F</th>\n",
       "      <td>87</td>\n",
       "    </tr>\n",
       "  </tbody>\n",
       "</table>\n",
       "</div>"
      ],
      "text/plain": [
       "        Abs. frequence\n",
       "Gender                \n",
       "M                  272\n",
       "F                   87"
      ]
     },
     "execution_count": 9,
     "metadata": {},
     "output_type": "execute_result"
    }
   ],
   "source": [
    "gender_freq.loc[['M', 'F']]"
   ]
  },
  {
   "cell_type": "markdown",
   "metadata": {},
   "source": [
    "Abbiamo già visto come utilizzando l'attributo `plot` di una serie sia possibile visualizzarne graficamente i contenuti. In particolare, per i dati di tipo qualitativo è tipicamente sensato utilizzare i grafici a barre:"
   ]
  },
  {
   "cell_type": "code",
   "execution_count": 10,
   "metadata": {},
   "outputs": [
    {
     "data": {
      "image/png": "[encoded data removed]",
      "text/plain": [
       "<Figure size 432x288 with 1 Axes>"
      ]
     },
     "metadata": {
      "needs_background": "light"
     },
     "output_type": "display_data"
    }
   ],
   "source": [
    "heroes_with_year['Publisher'].value_counts().plot.bar()\n",
    "plt.show()"
   ]
  },
  {
   "cell_type": "markdown",
   "metadata": {},
   "source": [
    "Un grafico analogo si ottiene invocando sempre il metodo `plot.bar` sul _dataframe_ corrispondente alla tabella delle frequenze:"
   ]
  },
  {
   "cell_type": "code",
   "execution_count": 11,
   "metadata": {},
   "outputs": [
    {
     "data": {
      "image/png": "[encoded data removed]",
      "text/plain": [
       "<Figure size 432x288 with 1 Axes>"
      ]
     },
     "metadata": {
      "needs_background": "light"
     },
     "output_type": "display_data"
    }
   ],
   "source": [
    "publisher_freq.plot.bar()\n",
    "plt.show()"
   ]
  },
  {
   "cell_type": "markdown",
   "metadata": {},
   "source": [
    "Vi sono due principali differenze tra i grafici a barre ottenuti:\n",
    "\n",
    "- nel primo le barre sono ordinate per frequenza non crescente, mentre nel secondo queste seguono l'ordinamento (in questo caso alfabetico) dei corrispondenti valori;\n",
    "- il secondo grafico contiene una legenda ed etichetta l'asse delle ascisse con il nome del carattere considerato.\n",
    "\n",
    "Volendo eliminare la legenda è sufficiente rigenerare il grafico specificando il valore `False` per l'argomento `legend`:"
   ]
  },
  {
   "cell_type": "code",
   "execution_count": 12,
   "metadata": {},
   "outputs": [
    {
     "data": {
      "image/png": "[encoded data removed]",
      "text/plain": [
       "<Figure size 432x288 with 1 Axes>"
      ]
     },
     "metadata": {
      "needs_background": "light"
     },
     "output_type": "display_data"
    }
   ],
   "source": [
    "publisher_freq.plot.bar(legend=False)\n",
    "plt.show()"
   ]
  },
  {
   "cell_type": "markdown",
   "metadata": {},
   "source": [
    "Volendo visualizzare le barre in un ordine differente è sufficiente riordinare il _dataframe_ nello stesso già visto per le tabelle delle frequenze, prima di invocare `plt.plot`."
   ]
  },
  {
   "cell_type": "code",
   "execution_count": 13,
   "metadata": {},
   "outputs": [
    {
     "data": {
      "image/png": "[encoded data removed]",
      "text/plain": [
       "<Figure size 432x288 with 1 Axes>"
      ]
     },
     "metadata": {
      "needs_background": "light"
     },
     "output_type": "display_data"
    }
   ],
   "source": [
    "publisher_order = ['Hanna-Barbera', 'ABC Studios', 'Dark Horse Comics',\n",
    "                   'Image Comics', 'Marvel Comics', 'DC Comics',\n",
    "                   'George Lucas', 'Rebellion', \n",
    "                   'Star Trek', 'Universal Studios']\n",
    "\n",
    "publisher_rel_freq.loc[publisher_order,:].plot.bar(legend=False)\n",
    "plt.show()"
   ]
  },
  {
   "cell_type": "markdown",
   "metadata": {},
   "source": [
    "Oltre a modificare l'ordine delle barre, il grafico precedente visualizza le frequenze relative, ottenute in questo caso facendo riferimento alla tabella `publisher_rel_freq` precedentemente generata. Ovviamente il grafico che si ottiene è analogo a quello delle frequenze assolute: l'unica cosa che cambia è la scala dei valori sull'asse delle ascisse.\n",
    "\n",
    "L'uso delle frequenze relative permette anche di confrontare situazioni in cui il numero di osservazioni è variabile. Se per esempio volessimo comparare le frequenze della forza dei supereroi con quelle delle supereroine, ci troveremmo con due diversi numeri di osservazioni:"
   ]
  },
  {
   "cell_type": "code",
   "execution_count": 14,
   "metadata": {},
   "outputs": [
    {
     "name": "stdout",
     "output_type": "stream",
     "text": [
      "Ci sono 428 supereroi e 164 supereroine\n"
     ]
    }
   ],
   "source": [
    "male_strength_freq = pd.crosstab(index=heroes.loc[heroes['Gender']=='M',\n",
    "                                                  'Strength'],\n",
    "                                 columns='Abs. freq.')\n",
    "female_strength_freq = pd.crosstab(index=heroes.loc[heroes['Gender']=='F',\n",
    "                                                    'Strength'],\n",
    "                                   columns='Abs. freq.')\n",
    "\n",
    "num_male = sum(male_strength_freq['Abs. freq.'])\n",
    "num_female = sum(female_strength_freq['Abs. freq.'])\n",
    "\n",
    "print('Ci sono {} supereroi e {} supereroine'.format(num_male, num_female))"
   ]
  },
  {
   "cell_type": "markdown",
   "metadata": {},
   "source": [
    "Sovrapporre quindi i grafici a barre delle frequenze assolute non avrebbe senso, perché le relative altezze non sarebbero confrontabili. Ha invece senso fare il confronto con le frequenze relative.  Già che ci siamo, utilizziamo l'argomento `color` per impostare rispettivamente a blu e rosa i colori dei settori che corrispondono a maschi e femmine (è un po' sessista, ma aiuta a leggere il grafico a colpo d'occhio)."
   ]
  },
  {
   "cell_type": "code",
   "execution_count": 15,
   "metadata": {},
   "outputs": [
    {
     "data": {
      "image/png": "[encoded data removed]",
      "text/plain": [
       "<Figure size 432x288 with 1 Axes>"
      ]
     },
     "metadata": {
      "needs_background": "light"
     },
     "output_type": "display_data"
    }
   ],
   "source": [
    "male_strength_freq = (pd.crosstab(index=heroes.loc[heroes['Gender']=='M',\n",
    "                                                   'Strength'],\n",
    "                                 columns='Abs. freq.',\n",
    "                                 normalize=True)\n",
    "                        .loc[:, 'Abs. freq.'])\n",
    "female_strength_freq = (pd.crosstab(index=heroes.loc[heroes['Gender']=='F',\n",
    "                                                     'Strength'],\n",
    "                                   columns='Abs. freq.',\n",
    "                                   normalize=True)\n",
    "                          .loc[:, 'Abs. freq.'])\n",
    "\n",
    "male_strength_freq.plot(marker='o', color='blue', legend=False)\n",
    "female_strength_freq.plot(marker='o', color='pink', legend=False)\n",
    "plt.show()"
   ]
  },
  {
   "cell_type": "markdown",
   "metadata": {},
   "source": [
    "<div class=\"alert alert-warning\">\n",
    "Se siete stati attenti avrete notato che le tabelle delle frequenze sono state accedute tramite `loc` al fine di estrarre le corrispondenti serie. Ciò è dovuto al fatto che in caso contrario matplotlib avrebbe prodotto due grafici separati. Quando più avanti parleremo delle frequenze congiunte vedremo un modo semplice per generare un'unica figura contenente i due grafici a barre.\n",
    "</div>\n",
    "\n",
    "In effetti la cella precedente non genera un vero e proprio grafico a barre, perché per ogni valore della forza ci sarebbero due barre, relative ai due generi. Tali barre si sovrapporrebbero, con l'effetto di nascondere (parzialmente o totalmente) quella più bassa."
   ]
  },
  {
   "cell_type": "code",
   "execution_count": 16,
   "metadata": {},
   "outputs": [
    {
     "data": {
      "image/png": "[encoded data removed]",
      "text/plain": [
       "<Figure size 432x288 with 1 Axes>"
      ]
     },
     "metadata": {
      "needs_background": "light"
     },
     "output_type": "display_data"
    }
   ],
   "source": [
    "male_strength_freq.plot.bar(color='blue', legend=False)\n",
    "female_strength_freq.plot.bar(color='pink', legend=False)\n",
    "plt.show()"
   ]
  },
  {
   "cell_type": "markdown",
   "metadata": {},
   "source": [
    "Un'alternativa è quella di specificare il parametro `alpha` nelle funzioni che generano i grafici: ciò permette di disegnare delle barre semi-trasparenti che evidenziano le loro sovrapposizioni."
   ]
  },
  {
   "cell_type": "code",
   "execution_count": 17,
   "metadata": {},
   "outputs": [
    {
     "data": {
      "image/png": "[encoded data removed]",
      "text/plain": [
       "<Figure size 432x288 with 1 Axes>"
      ]
     },
     "metadata": {
      "needs_background": "light"
     },
     "output_type": "display_data"
    }
   ],
   "source": [
    "male_strength_freq.plot.bar(color='blue', alpha=.7)\n",
    "female_strength_freq.plot.bar(color='pink', alpha=.7)\n",
    "plt.show()"
   ]
  },
  {
   "cell_type": "markdown",
   "metadata": {},
   "source": [
    "Una modalità alternativa per visualizzare le frequenze in caso di valori qualitativi, evidenziando inoltre le frazioni rispetto al numero totale dei casi è quella di utilizzare il metodo `pie` per produrre un diagramma a torta, o più tecnicamente un _aerogramma_, in cui un cerchio è diviso in tanti settori le cui aree sono proporzionali alle frequenze (pertanto il grafico ottenuto sarà indipendente dall'avere considerato le frequenze assolute oppure quelle relative). Per esempio, la cella seguente calcola il diagramma a torta delle frequenze relative al genere dei supereroi."
   ]
  },
  {
   "cell_type": "code",
   "execution_count": 18,
   "metadata": {},
   "outputs": [
    {
     "data": {
      "image/png": "[encoded data removed]",
      "text/plain": [
       "<Figure size 432x288 with 1 Axes>"
      ]
     },
     "metadata": {},
     "output_type": "display_data"
    }
   ],
   "source": [
    "gender_freq.plot.pie(y='Abs. frequence', colors=['pink', 'blue'])\n",
    "plt.show()"
   ]
  },
  {
   "cell_type": "markdown",
   "metadata": {},
   "source": [
    "Ci sono alcune cose che vale la pena sottolineare, e che sono descritte di seguito.\n",
    "\n",
    "- A differenza dei grafici generati fino a ora, qui è stato necessario specificare il nome della colonna nel _dataframe_ corrispondente alla tabella delle frequenze. Ciò è legato al fatto che mentre metodi come `plot.bar` sono in grado di visualizzare più caratteri contemporaneamente (e più avanti vedremo come), quando si disegna un diagrama a torta è necessario utilizzare un solo carattere e quindi è necessario selezionarlo nel dataframe, anche in casi come questo in cui vi è effettivamente un solo carattere; In alternativa, è possibile estrarre la serie dal _dataframe_ e invocare su di essa `plot.pie`: in altre parole l'istruzione seguente avrebbe generato un grafico analogo:\n",
    "\n",
    "```\n",
    "gender_freq['Abs. frequence'].plot.pie(colors=['pink', 'blue'])\n",
    "```\n",
    "\n",
    "- Mentre quando si crea un grafico a barre per un carattere ha ampiamente senso utilizzare lo stesso colore per tutte le barre, nel caso di un diagramma a torta tale scelta renderebbe il risultato illeggibile, ed è per questo che se si vogliono personalizzare i colori è necessario passare la lista dei corrispondenti nomi all'argomento `colors` (che è diverso dall'argomento `color` finora utilizzato).\n",
    "\n",
    "<div class=\"alert alert-warning\" role=\"warning\">\n",
    "Se ottenete un grafico che contiene un'ellissi al posto di un cerchio, probabilmente state utilizzando una versione precedente di pandas, che prevede che le lunghezze sugli assi cartesiani nei grafici siano sempre misurate con unità di misura diverse. Il rapporto tra queste unità di misura è legato alla sezione aurea, e ciò ha di norma l'effetto di produrre grafici gradevoli da vedere, a parte casi come questo in cui i cerchi risultano \"schiacciati\". Per ovviare all'inconveniente basta invocare la funzione `plt.axis` specificando come argomento `'equal'`.\n",
    "</div>"
   ]
  },
  {
   "cell_type": "markdown",
   "metadata": {},
   "source": [
    "Consideriamo il caso particolare dell'anno di apparizione: se ne tracciamo il grafico a barre delle frequenze assolute, è appropriato posizionare le barre rispettando la relazione di ordine esistente tra i dati, utilizzando direttamente matplotlib come abbiamo visto nella lezione precedente."
   ]
  },
  {
   "cell_type": "code",
   "execution_count": 30,
   "metadata": {},
   "outputs": [
    {
     "data": {
      "image/png": "[encoded data removed]",
      "text/plain": [
       "<Figure size 432x288 with 1 Axes>"
      ]
     },
     "metadata": {
      "needs_background": "light"
     },
     "output_type": "display_data"
    }
   ],
   "source": [
    "first_app_freq = heroes_with_year['First appearance'].value_counts()\n",
    "plt.bar(first_app_freq.index, first_app_freq.values)\n",
    "plt.show()"
   ]
  },
  {
   "cell_type": "markdown",
   "metadata": {},
   "source": [
    "Il risultato non è però ottimale perché le barre hanno uno spessore (sebbene in questo caso sia molto piccolo, a causa dell'elevato numero di barre) che può suggerire un'interpretazione fuorviante del grafico, secondo cui le frequenze non facciano riferimento a un anno, bensì a un in intervallo temporale centrato in un anno. Per evitare tale fraintendimento è più appropriato in casi come questo produrre un grafico *a bastoncini* in cui ogni punto è evidenziato, piuttosto che da una barra, da un segmento verticale che lo congiunge con l'asse delle ascisse (cosa che, peraltro, permette di non scambiare per nulle le frequenze relativamente basse):"
   ]
  },
  {
   "cell_type": "code",
   "execution_count": 31,
   "metadata": {},
   "outputs": [
    {
     "data": {
      "image/png": "[encoded data removed]",
      "text/plain": [
       "<Figure size 432x288 with 1 Axes>"
      ]
     },
     "metadata": {
      "needs_background": "light"
     },
     "output_type": "display_data"
    }
   ],
   "source": [
    "plt.vlines(first_app_freq.index, 0, first_app_freq.values)\n",
    "plt.show()"
   ]
  },
  {
   "cell_type": "markdown",
   "metadata": {},
   "source": [
    "È anche possibile abbinare ogni segmento a un cerchio centrato sul punto che identifica un valore e la sua frequenza: basta generare il grafico precedente e sovrapporgli i singoli punti."
   ]
  },
  {
   "cell_type": "code",
   "execution_count": 33,
   "metadata": {},
   "outputs": [
    {
     "data": {
      "image/png": "[encoded data removed]",
      "text/plain": [
       "<Figure size 432x288 with 1 Axes>"
      ]
     },
     "metadata": {
      "needs_background": "light"
     },
     "output_type": "display_data"
    }
   ],
   "source": [
    "plt.vlines(first_app_freq.index, 0, first_app_freq.values)\n",
    "plt.plot(first_app_freq.index, first_app_freq.values, 'o')\n",
    "plt.show()"
   ]
  },
  {
   "cell_type": "markdown",
   "metadata": {},
   "source": [
    "Infine, consideriamo il diagramma a bastoncini relativo al peso dei supereroi."
   ]
  },
  {
   "cell_type": "code",
   "execution_count": 34,
   "metadata": {},
   "outputs": [
    {
     "data": {
      "image/png": "[encoded data removed]",
      "text/plain": [
       "<Figure size 432x288 with 1 Axes>"
      ]
     },
     "metadata": {
      "needs_background": "light"
     },
     "output_type": "display_data"
    }
   ],
   "source": [
    "weight_freq = heroes['Weight'].value_counts()\n",
    "\n",
    "plt.vlines(weight_freq.index, 0, weight_freq.values)\n",
    "plt.plot(weight_freq.index, weight_freq.values, 'o')\n",
    "plt.show()"
   ]
  },
  {
   "cell_type": "markdown",
   "metadata": {},
   "source": [
    "Due pesi, per dire, di 81.12 Kg e di 81.14 Kg vengono considerati in questo grafico come due valori differenti, ed è per questo che vi sono quasi esclusivamente bastoncini di altezza unitaria: quasi tutti i valori occorrono praticamente un'unica volta nel dataset. Ciò è dovuto al fatto che il peso è un dato quantitativo per cui non ha di norma senso considerare un singolo valore, e risulta più sensato calcolare le frequenze di _intervalli_ di possibili valori osservabili. Il grafico corrispondente prende il nome di _istogramma_, e viene calcolato e visualizzato in pandas invocando il metodo `hist` sulla serie corrispondente:"
   ]
  },
  {
   "cell_type": "code",
   "execution_count": 35,
   "metadata": {},
   "outputs": [
    {
     "data": {
      "image/png": "[encoded data removed]",
      "text/plain": [
       "<Figure size 432x288 with 1 Axes>"
      ]
     },
     "metadata": {
      "needs_background": "light"
     },
     "output_type": "display_data"
    }
   ],
   "source": [
    "heroes['Weight'].hist()\n",
    "plt.show()"
   ]
  },
  {
   "cell_type": "markdown",
   "metadata": {},
   "source": [
    "Ovviamente il risultato ottenuto dipende da come sono stati scelti gli intervalli su cui calcolare le frequenze. Di norma si divide l'intervallo che contiene tutti i dati osservati in sotto-intervalli equiampi, il cui numero è individuato dall'argomento `bins`."
   ]
  },
  {
   "cell_type": "code",
   "execution_count": 36,
   "metadata": {
    "scrolled": true
   },
   "outputs": [
    {
     "data": {
      "image/png": "[encoded data removed]",
      "text/plain": [
       "<Figure size 432x288 with 1 Axes>"
      ]
     },
     "metadata": {
      "needs_background": "light"
     },
     "output_type": "display_data"
    }
   ],
   "source": [
    "heroes['Weight'].hist(bins=50)\n",
    "plt.show()"
   ]
  },
  {
   "cell_type": "markdown",
   "metadata": {},
   "source": [
    "Questo istogramma ci dice, a occhio, che i pesi variano perlopiù tra zero e duecento chilogrammi, sebbene esistano erori con pesi maggiori. In teoria è possibile utilizzare sotto-intervalli di ampiezze differenti: per esempio, ampiezze pari a 20 per i pesi inferiori a 200 kg., pari a 50 per pesi compresi tra 200 e 500 kg., e pari a 100 per i valori rimanenti."
   ]
  },
  {
   "cell_type": "code",
   "execution_count": 37,
   "metadata": {},
   "outputs": [
    {
     "data": {
      "image/png": "[encoded data removed]",
      "text/plain": [
       "<Figure size 432x288 with 1 Axes>"
      ]
     },
     "metadata": {
      "needs_background": "light"
     },
     "output_type": "display_data"
    }
   ],
   "source": [
    "heroes['Weight'].hist(bins=np.hstack((np.arange(0, 200, 20),\n",
    "                                      np.arange(200, 500, 50),\n",
    "                                      np.arange(500, 1000, 100))))\n",
    "plt.show()"
   ]
  },
  {
   "cell_type": "markdown",
   "metadata": {},
   "source": [
    "Va notato come in questo caso le altezze delle barre non contino il numero di occorrenze nel corrispondente intervallo: per esempio, vi sono tre pesi superiori a 800 kg., ma la barra corrispondente ha altezza unitaria. Ciò è dovuto al fatto che in un istogramma è l'_area_ di ogni barra a essere legata alla frequenza: se le barre hanno basi della stessa lunghezza, le aree sono proporzionali all'altezza, altrimenti no. È per questo, per esempio, che le due barre più a destra nell'ultimo istogramma hanno altezza unitaria: si riferiscono a tre osservazioni, e la loro area è il triplo dell'area di una barra di altezza unitaria nella parte sinistra del grafico, che invece farebbe riferimento a una sola osservazione.\n",
    "\n",
    "<div class=\"alert alert-info\">\n",
    "Nella cella precedente sono state utilizzate le funzioni `np.hstack`, che permette di giustapporre due o più array numpy, e `np.arange`, che crea un array i cui contenuti variano tra i valori indicati dai primi due argomenti, con incremento pari all'ultimo argomento.\n",
    "</div>"
   ]
  },
  {
   "cell_type": "markdown",
   "metadata": {},
   "source": [
    "\n",
    "\n",
    "\n",
    "\n",
    "<div id=\"h-5\"></div>\n",
    "\n",
    "## Frequenze cumulate\n",
    "\n",
    "Riconsideriamo l'anno di prima apparizione dei supereroi, e rispondiamo alle domande che seguono.\n",
    "\n",
    "1. Qual è il più recente tra gli anni di apparizione di un supereroe?\n",
    "2. E qual è il meno recente?\n",
    "3. Quanti supereroi hanno un anno di apparizione non superiore al 1970?\n",
    "4. Quanti hanno un anno di apparizione successivo al 1980?\n",
    "\n",
    "Per rispondere alle prime due domande basta selezionare la serie che corrisponde al carattere `first_appearance` e calcolarne il minimo e il massimo valore:"
   ]
  },
  {
   "cell_type": "code",
   "execution_count": 48,
   "metadata": {},
   "outputs": [
    {
     "data": {
      "text/plain": [
       "(1933.0, 2016.0)"
      ]
     },
     "execution_count": 48,
     "metadata": {},
     "output_type": "execute_result"
    }
   ],
   "source": [
    "(heroes_with_year['First appearance'].min(), heroes_with_year['First appearance'].max())"
   ]
  },
  {
   "cell_type": "markdown",
   "metadata": {},
   "source": [
    "Per rispondere invece alle rimanenti domande potremmo estrarre tramite una _list comprehension_ tutti gli anni in `heroes_with_year` che soddisfano i criteri indicati e calcolarne la lunghezza. Vale però la pena approfittarne per introdurre un nuovo strumento, che si rivelerà molto versatile: si tratta delle _frequenze cumulate_, che si possono calcolare quando esiste una relazione di ordine per i valori del carattere. Essenzialmente si tratta di considerare i valori del carattere dal più piccolo al più grande, di calcolare le relative frequenze e di cumularle in modo che al primo elemento sia associata la sua frequenza, al secondo la somma delle frequenze dei primi due elementi, al terzo la somma delle prime tre frequenze e così via.\n",
    "\n",
    "Per calcolare le frequenze cumulate, pandas mette a disposizione il metodo `cumsum` per gli oggetti di tipo serie e _dataframe_. Quando viene utilizzato sulla serie prodotta da `value_counts` è però necessario riordinare le frequenze prodotte rispetto al loro indice e infine si può invocare il metodo. Risulta invece più comodo calcolare generare il _dataframe_ corrispondente alla tabella delle frequenze, che risulta già ordinato nel modo corretto, e su questo invocare `cumsum`."
   ]
  },
  {
   "cell_type": "code",
   "execution_count": 49,
   "metadata": {},
   "outputs": [
    {
     "data": {
      "text/html": [
       "<div>\n",
       "<style scoped>\n",
       "    .dataframe tbody tr th:only-of-type {\n",
       "        vertical-align: middle;\n",
       "    }\n",
       "\n",
       "    .dataframe tbody tr th {\n",
       "        vertical-align: top;\n",
       "    }\n",
       "\n",
       "    .dataframe thead th {\n",
       "        text-align: right;\n",
       "    }\n",
       "</style>\n",
       "<table border=\"1\" class=\"dataframe\">\n",
       "  <thead>\n",
       "    <tr style=\"text-align: right;\">\n",
       "      <th></th>\n",
       "      <th>Cumulate freq.</th>\n",
       "    </tr>\n",
       "    <tr>\n",
       "      <th>First appearance</th>\n",
       "      <th></th>\n",
       "    </tr>\n",
       "  </thead>\n",
       "  <tbody>\n",
       "    <tr>\n",
       "      <th>1933.0</th>\n",
       "      <td>1</td>\n",
       "    </tr>\n",
       "    <tr>\n",
       "      <th>1939.0</th>\n",
       "      <td>2</td>\n",
       "    </tr>\n",
       "    <tr>\n",
       "      <th>1940.0</th>\n",
       "      <td>11</td>\n",
       "    </tr>\n",
       "    <tr>\n",
       "      <th>1941.0</th>\n",
       "      <td>18</td>\n",
       "    </tr>\n",
       "    <tr>\n",
       "      <th>1943.0</th>\n",
       "      <td>20</td>\n",
       "    </tr>\n",
       "    <tr>\n",
       "      <th>1944.0</th>\n",
       "      <td>22</td>\n",
       "    </tr>\n",
       "    <tr>\n",
       "      <th>1945.0</th>\n",
       "      <td>23</td>\n",
       "    </tr>\n",
       "    <tr>\n",
       "      <th>1947.0</th>\n",
       "      <td>25</td>\n",
       "    </tr>\n",
       "    <tr>\n",
       "      <th>1948.0</th>\n",
       "      <td>26</td>\n",
       "    </tr>\n",
       "    <tr>\n",
       "      <th>1950.0</th>\n",
       "      <td>27</td>\n",
       "    </tr>\n",
       "  </tbody>\n",
       "</table>\n",
       "</div>"
      ],
      "text/plain": [
       "                  Cumulate freq.\n",
       "First appearance                \n",
       "1933.0                         1\n",
       "1939.0                         2\n",
       "1940.0                        11\n",
       "1941.0                        18\n",
       "1943.0                        20\n",
       "1944.0                        22\n",
       "1945.0                        23\n",
       "1947.0                        25\n",
       "1948.0                        26\n",
       "1950.0                        27"
      ]
     },
     "execution_count": 49,
     "metadata": {},
     "output_type": "execute_result"
    }
   ],
   "source": [
    "first_app_freq_cumulate = (pd.crosstab(index=heroes_with_year['First appearance'],\n",
    "                                       columns=['Cumulate freq.'],\n",
    "                                       colnames=[''])\n",
    "                             .cumsum())\n",
    "first_app_freq_cumulate.iloc[:10] # per brevità visualizziamo solo i primi dieci elementi"
   ]
  },
  {
   "cell_type": "markdown",
   "metadata": {},
   "source": [
    "Il grafico corrispondente mette in evidenza il fatto che le frequenze cumulate sono monotone crescenti e variano da 0 al numero totale di casi nel dataset considerato:"
   ]
  },
  {
   "cell_type": "code",
   "execution_count": 50,
   "metadata": {},
   "outputs": [
    {
     "data": {
      "image/png": "[encoded data removed]",
      "text/plain": [
       "<Figure size 432x288 with 1 Axes>"
      ]
     },
     "metadata": {
      "needs_background": "light"
     },
     "output_type": "display_data"
    }
   ],
   "source": [
    "first_app_freq_cumulate.plot(marker='o', legend=False)\n",
    "plt.show()"
   ]
  },
  {
   "cell_type": "markdown",
   "metadata": {},
   "source": [
    "La frequenza cumulata corrispondente a 1970 rappresenta quindi il numero di casi nel dataset in cui l'anno di prima apparizione è minore o uguale al 1970, e dunque tale frequenza rappresenta la risposta alla terza domanda:"
   ]
  },
  {
   "cell_type": "code",
   "execution_count": 51,
   "metadata": {},
   "outputs": [
    {
     "data": {
      "text/plain": [
       "125"
      ]
     },
     "execution_count": 51,
     "metadata": {},
     "output_type": "execute_result"
    }
   ],
   "source": [
    "first_app_freq_cumulate.at[1970.0, 'Cumulate freq.']"
   ]
  },
  {
   "cell_type": "markdown",
   "metadata": {},
   "source": [
    "Per rispondere all'ultima domanda è possibile procedere in modo analogo: la frequenza cumulata di 1980 corrisponde al numero di casi in cui l'anno di apparizione è minore o uguale a 1980, e sottraendo tale valore al numero totale di casi si ottiene la risposta:"
   ]
  },
  {
   "cell_type": "code",
   "execution_count": 52,
   "metadata": {},
   "outputs": [
    {
     "data": {
      "text/plain": [
       "172"
      ]
     },
     "execution_count": 52,
     "metadata": {},
     "output_type": "execute_result"
    }
   ],
   "source": [
    "first_app_freq_cumulate.iat[-1, 0] - first_app_freq_cumulate.at[1980.0, 'Cumulate freq.']"
   ]
  },
  {
   "cell_type": "markdown",
   "metadata": {},
   "source": [
    "Va notato come il numero totale di casi corrisponda all'ultima delle frequenze cumulate. Infine, il concetto di frequenze cumulate si può applicare sia alle frequenze assolute, sia a quelle relative: nel secondo caso i valori ottenuti aumenteranno da 0 a 1. Nella cella seguente viene calcolata la tabella delle frequenze relative cumulate per l'anno di prima apparizione di cui, sempre per brevità, vengono mostrate le ultime dieci righe."
   ]
  },
  {
   "cell_type": "code",
   "execution_count": 53,
   "metadata": {},
   "outputs": [
    {
     "data": {
      "text/html": [
       "<div>\n",
       "<style scoped>\n",
       "    .dataframe tbody tr th:only-of-type {\n",
       "        vertical-align: middle;\n",
       "    }\n",
       "\n",
       "    .dataframe tbody tr th {\n",
       "        vertical-align: top;\n",
       "    }\n",
       "\n",
       "    .dataframe thead th {\n",
       "        text-align: right;\n",
       "    }\n",
       "</style>\n",
       "<table border=\"1\" class=\"dataframe\">\n",
       "  <thead>\n",
       "    <tr style=\"text-align: right;\">\n",
       "      <th></th>\n",
       "      <th>Cumulate freq.</th>\n",
       "    </tr>\n",
       "    <tr>\n",
       "      <th>First appearance</th>\n",
       "      <th></th>\n",
       "    </tr>\n",
       "  </thead>\n",
       "  <tbody>\n",
       "    <tr>\n",
       "      <th>2006.0</th>\n",
       "      <td>0.923497</td>\n",
       "    </tr>\n",
       "    <tr>\n",
       "      <th>2007.0</th>\n",
       "      <td>0.937158</td>\n",
       "    </tr>\n",
       "    <tr>\n",
       "      <th>2008.0</th>\n",
       "      <td>0.953552</td>\n",
       "    </tr>\n",
       "    <tr>\n",
       "      <th>2009.0</th>\n",
       "      <td>0.956284</td>\n",
       "    </tr>\n",
       "    <tr>\n",
       "      <th>2010.0</th>\n",
       "      <td>0.967213</td>\n",
       "    </tr>\n",
       "    <tr>\n",
       "      <th>2011.0</th>\n",
       "      <td>0.980874</td>\n",
       "    </tr>\n",
       "    <tr>\n",
       "      <th>2012.0</th>\n",
       "      <td>0.986339</td>\n",
       "    </tr>\n",
       "    <tr>\n",
       "      <th>2013.0</th>\n",
       "      <td>0.989071</td>\n",
       "    </tr>\n",
       "    <tr>\n",
       "      <th>2015.0</th>\n",
       "      <td>0.994536</td>\n",
       "    </tr>\n",
       "    <tr>\n",
       "      <th>2016.0</th>\n",
       "      <td>1.000000</td>\n",
       "    </tr>\n",
       "  </tbody>\n",
       "</table>\n",
       "</div>"
      ],
      "text/plain": [
       "                  Cumulate freq.\n",
       "First appearance                \n",
       "2006.0                  0.923497\n",
       "2007.0                  0.937158\n",
       "2008.0                  0.953552\n",
       "2009.0                  0.956284\n",
       "2010.0                  0.967213\n",
       "2011.0                  0.980874\n",
       "2012.0                  0.986339\n",
       "2013.0                  0.989071\n",
       "2015.0                  0.994536\n",
       "2016.0                  1.000000"
      ]
     },
     "execution_count": 53,
     "metadata": {},
     "output_type": "execute_result"
    }
   ],
   "source": [
    "first_app_relfreq_cumulate = (pd.crosstab(index=heroes_with_year['First appearance'],\n",
    "                              columns=['Cumulate freq.'],\n",
    "                              colnames=[''],\n",
    "                              normalize=True).cumsum())\n",
    "\n",
    "first_app_relfreq_cumulate.iloc[-10:]"
   ]
  },
  {
   "cell_type": "markdown",
   "metadata": {},
   "source": [
    "La visualizzazione in forma grafica delle frequenze relative cumulate equivale a quella precedente: l'unica differenza consiste nei valori sull'asse delle ordinate, che risulteranno ovviamente scalati sull'intervallo $[0, 1]$:"
   ]
  },
  {
   "cell_type": "code",
   "execution_count": 54,
   "metadata": {},
   "outputs": [
    {
     "data": {
      "image/png": "[encoded data removed]",
      "text/plain": [
       "<Figure size 432x288 with 1 Axes>"
      ]
     },
     "metadata": {
      "needs_background": "light"
     },
     "output_type": "display_data"
    }
   ],
   "source": [
    "first_app_relfreq_cumulate.plot(legend=False)\n",
    "plt.show()"
   ]
  },
  {
   "cell_type": "markdown",
   "metadata": {},
   "source": [
    "Vale la pena notare come il grafico prodotto sia quello una funzione lineare a tratti: in parole povere, si tratta di una sequenza di segmenti in cui ogni elemento ha l'estremo destro coincidente con quello sinistro del segmento successivo. Possiamo evidenziare questa proprietà effettuando uno _zoom_, per esempio tra il 1980 e il 1990:"
   ]
  },
  {
   "cell_type": "code",
   "execution_count": 55,
   "metadata": {},
   "outputs": [
    {
     "data": {
      "image/png": "[encoded data removed]",
      "text/plain": [
       "<Figure size 432x288 with 1 Axes>"
      ]
     },
     "metadata": {
      "needs_background": "light"
     },
     "output_type": "display_data"
    }
   ],
   "source": [
    "first_app_relfreq_cumulate[1980:1990].plot(legend=False)\n",
    "plt.show()"
   ]
  },
  {
   "cell_type": "markdown",
   "metadata": {},
   "source": [
    "Quando i valori osservati sono di tipo numerico o ordinabile, uno strumento molto simile a quello delle frequenze relative cumulate è rappresentato dalla _funzione cumulativa empirica_ (o _funzione di ripartizione empirica_), che dato un insieme di osservazioni $\\{ x_1, \\dots, x_n \\}$, è definita come quella funzione $\\hat F: \\mathbb R \\mapsto [0, 1]$ tale che per ogni $x \\in \\mathbb R$ assume un valore pari alla frequenza relativa delle osservazioni che risultano essere minori o uguali a $x$. Pertanto\n",
    "\n",
    "\\begin{equation}\n",
    "\\hat F(x) = \\frac{\\# \\{ x_i \\leq x \\}}{n}\n",
    "= \\frac{1}{n} \\sum_{i=1}^n \\mathrm I_{(-\\infty, x]}(x_i) ,\n",
    "\\end{equation}\n",
    "\n",
    "dove $\\mathrm I_A: \\mathbb R \\mapsto \\{0, 1\\}$ indica la _funzione indicatrice_ dell'insieme $A$, che assume valore nullo in corrispondenza di tutti gli argomenti che non appartengono ad $A$ e valore unitario altrimenti, e $(-\\infty, x]$ indica l'intervallo semiaperto identificato da tutti i valori reali minori o uguali a $x$. Per un generico argomento $x$, la funzione cumulativa empirica assumerà pertanto come valore la frequenza relativa cumulata del più grande tra i valori osservati $x_i \\leq x$. Dunque il suo grafico sarà quello di una funzione costante a tratti. In python è presente un'implementazione della funzione cumulativa empirica nel modulo `statmodels.api`: la funzione `distributions.ECDF` accetta come input un insieme di osservazioni e restituisce la corrispondente funzione cumulativa empirica. Possiamo quindi elaborare in tal senso gli anni di prima apparizione e visualizzare il grafico corrispondente agli anni tra il 1980 e il 1990, così da poter effettuare un confronto con l'analogo grafico precedentemente generato:"
   ]
  },
  {
   "cell_type": "code",
   "execution_count": 56,
   "metadata": {},
   "outputs": [
    {
     "data": {
      "image/png": "[encoded data removed]",
      "text/plain": [
       "<Figure size 432x288 with 1 Axes>"
      ]
     },
     "metadata": {
      "needs_background": "light"
     },
     "output_type": "display_data"
    }
   ],
   "source": [
    "import statsmodels.api as sm\n",
    "\n",
    "ecdf = sm.distributions.ECDF(heroes_with_year['First appearance'])\n",
    "x = np.arange(1980, 1991)\n",
    "y = ecdf(x)\n",
    "plt.step(x, y)\n",
    "plt.show()"
   ]
  },
  {
   "cell_type": "markdown",
   "metadata": {},
   "source": [
    "<div class=\"alert alert-info\">\n",
    "In casi come questo è meglio usare `plt.step` piuttosto che `plt.plot`, altrimenti il grafico visualizzato, pur essendo molto simile al risultato appena ottenuto, non sarebbe tecnicamente parlando quello di una funzione costante a tratti.\n",
    "</div>\n",
    "\n",
    "Va peraltro rimarcato che all'aumentare del numero di valori osservabili il grafico delle frequenze relative cumulate ottenute usando il metodo `plot` della corrispondente serie diventa indistinguibile da quello della funzione cumulativa empirica (sia che si sia utilizzato `plt.step`, sia che si sia utilizzato `plt.plot` per visualizzarlo). Per rendercene conto, possiamo visualizzare nuovamente la funzione di ripartizione empirica tenendo però conto di tutte le osservazioni per gli anni di prima apparizione."
   ]
  },
  {
   "cell_type": "code",
   "execution_count": 57,
   "metadata": {},
   "outputs": [
    {
     "data": {
      "image/png": "[encoded data removed]",
      "text/plain": [
       "<Figure size 432x288 with 1 Axes>"
      ]
     },
     "metadata": {
      "needs_background": "light"
     },
     "output_type": "display_data"
    }
   ],
   "source": [
    "min_year = min(heroes_with_year['First appearance'])\n",
    "max_year = max(heroes_with_year['First appearance'])\n",
    "x = np.arange(min_year, max_year+1)\n",
    "y = ecdf(x)\n",
    "plt.step(x, y)\n",
    "plt.show()"
   ]
  },
  {
   "cell_type": "markdown",
   "metadata": {},
   "source": [
    "\n",
    "\n",
    "\n",
    "<div id=\"h-6\"></div>\n",
    "\n",
    "### Diagrammi di Pareto ###\n",
    "\n",
    "Frequenze e frequenze cumulate di una variabile categorica possono essere considerate congiuntamente per generare un _diagramma di Pareto_ nel modo seguente: ordinando i dati per frequenza decrescente, su uno stesso sistema di riferimento in cui l'asse delle ascisse fa riferimento ai valori della variabile si sovrappongono il diagramma a barre delle frequenze e una linea spezzata che collega i valori delle frequenze cumulate. Consideriamo per esempio i colori degli occhi più frequenti nel nostro dataset (definiti per comodità come i colori che occorrono con frequenza relativa superiore a 0.02). Il corrispondente diagramma di Pareto si può generare manualmente oppure utilizzando la funzione `pareto` del package `paretochart`:"
   ]
  },
  {
   "cell_type": "code",
   "execution_count": 121,
   "metadata": {},
   "outputs": [
    {
     "data": {
      "image/png": "[encoded data removed]",
      "text/plain": [
       "<Figure size 360x222.492 with 2 Axes>"
      ]
     },
     "metadata": {},
     "output_type": "display_data"
    }
   ],
   "source": [
    "from paretochart import pareto\n",
    "\n",
    "eye_color_freq = heroes_with_year['Eye color'].value_counts()/len(heroes_with_year)\n",
    "common_colors = eye_color_freq[eye_color_freq > .02].index\n",
    "\n",
    "common_colors_data = (heroes_with_year['Eye color'][heroes_with_year['Eye color']\n",
    "                                .isin(common_colors)])\n",
    "\n",
    "common_colors_freq = common_colors_data.value_counts()/len(common_colors_data)\n",
    "\n",
    "pareto(common_colors_freq,\n",
    "       labels=common_colors_freq.index)\n",
    "plt.show()"
   ]
  },
  {
   "cell_type": "markdown",
   "metadata": {},
   "source": [
    "Ovviamente per quanto riguarda il valore più a sinistra nel diagramma (e quindi quello avente la frequenza maggiore) frequenza e frequenza cumulata coincideranno sempre.\n",
    "\n",
    "In generale, un diagramma di Pareto permette di identificare gli elementi più rilevanti in termini di frequenze all'interno di un insieme di osservazioni, evidenziando simultaneamente il peso di ogni fattore, sia il loro peso cumulativo. Nel nostro caso, il grafico ottenuto mostra permette per esempio di verificare a colpo d'occhio come gli occhi blu, marroni e verdi identifichino l'80% dei supereroi."
   ]
  },
  {
   "cell_type": "markdown",
   "metadata": {},
   "source": [
    "\n",
    "\n",
    "\n",
    "\n",
    "<div id=\"h-7\"></div>\n",
    "\n",
    "## Frequenze congiunte e marginali\n"
   ]
  },
  {
   "cell_type": "markdown",
   "metadata": {},
   "source": [
    "Spesso è utile analizzare un insieme di osservazioni prendendo in considerazione due caratteri al posto di uno, per esempio per vedere se i valori di tali caratteri tendano a essere più o meno collegati tra loro tramite una relazione. Il concetto di frequenza si specializza in questo caso andando a contare il numero di osservazioni in cui i due caratteri considerati assumono due determinati valori, ottenendo la cosiddetta _frequenza congiunta assoluta_ (o equivalentemente la _frequenza congiunta relativa_ nel caso in cui si calcolasse la frazione di osservazioni e non il suo numero). Nel caso in cui i possibili valori osservabili non siano parecchi, è possibile visualizzare queste frequenze tramite una _tabella delle frequenze congiunte_ (detta anche _tabella di contingenza_), ottenuta estendendo il concetto di tabella delle frequenze precedentemente introdotto: ora le righe della tabella corrisponderanno ai possibili valori di uno dei caratteri considerati, le sue colonne corrisponderanno ai valori del rimanente carattere e gli elementi della tabella conterranno le frequenze congiunte (assolute o relative). La funzione `pd.crosstab` può essere utilizzata anche per produrre questo tipo di tabella: basta indicare le serie corrispondenti ai caratteri considerati come valori degli argomenti `index` e `columns`."
   ]
  },
  {
   "cell_type": "code",
   "execution_count": 154,
   "metadata": {},
   "outputs": [
    {
     "data": {
      "text/html": [
       "<div>\n",
       "<style scoped>\n",
       "    .dataframe tbody tr th:only-of-type {\n",
       "        vertical-align: middle;\n",
       "    }\n",
       "\n",
       "    .dataframe tbody tr th {\n",
       "        vertical-align: top;\n",
       "    }\n",
       "\n",
       "    .dataframe thead th {\n",
       "        text-align: right;\n",
       "    }\n",
       "</style>\n",
       "<table border=\"1\" class=\"dataframe\">\n",
       "  <thead>\n",
       "    <tr style=\"text-align: right;\">\n",
       "      <th>Gender</th>\n",
       "      <th>F</th>\n",
       "      <th>M</th>\n",
       "    </tr>\n",
       "    <tr>\n",
       "      <th>Intelligence</th>\n",
       "      <th></th>\n",
       "      <th></th>\n",
       "    </tr>\n",
       "  </thead>\n",
       "  <tbody>\n",
       "    <tr>\n",
       "      <th>average</th>\n",
       "      <td>38</td>\n",
       "      <td>101</td>\n",
       "    </tr>\n",
       "    <tr>\n",
       "      <th>good</th>\n",
       "      <td>78</td>\n",
       "      <td>165</td>\n",
       "    </tr>\n",
       "    <tr>\n",
       "      <th>high</th>\n",
       "      <td>27</td>\n",
       "      <td>112</td>\n",
       "    </tr>\n",
       "    <tr>\n",
       "      <th>low</th>\n",
       "      <td>0</td>\n",
       "      <td>13</td>\n",
       "    </tr>\n",
       "    <tr>\n",
       "      <th>moderate</th>\n",
       "      <td>21</td>\n",
       "      <td>37</td>\n",
       "    </tr>\n",
       "  </tbody>\n",
       "</table>\n",
       "</div>"
      ],
      "text/plain": [
       "Gender         F    M\n",
       "Intelligence         \n",
       "average       38  101\n",
       "good          78  165\n",
       "high          27  112\n",
       "low            0   13\n",
       "moderate      21   37"
      ]
     },
     "execution_count": 154,
     "metadata": {},
     "output_type": "execute_result"
    }
   ],
   "source": [
    "int_gender_freq = pd.crosstab(index=heroes['Intelligence'], \n",
    "                              columns=heroes['Gender'])\n",
    "\n",
    "int_gender_freq"
   ]
  },
  {
   "cell_type": "markdown",
   "metadata": {},
   "source": [
    "L'ordine delle righe può essere modificato nello stesso modo visto per le tabelle delle frequenze: per modificare la tabella in modo che risulti ordinata per i valori di intelligenza piuttosto che in modo alfabetico sarà quindi sufficiente utilizzare in metodo `reindex`."
   ]
  },
  {
   "cell_type": "code",
   "execution_count": 155,
   "metadata": {},
   "outputs": [
    {
     "data": {
      "text/html": [
       "<div>\n",
       "<style scoped>\n",
       "    .dataframe tbody tr th:only-of-type {\n",
       "        vertical-align: middle;\n",
       "    }\n",
       "\n",
       "    .dataframe tbody tr th {\n",
       "        vertical-align: top;\n",
       "    }\n",
       "\n",
       "    .dataframe thead th {\n",
       "        text-align: right;\n",
       "    }\n",
       "</style>\n",
       "<table border=\"1\" class=\"dataframe\">\n",
       "  <thead>\n",
       "    <tr style=\"text-align: right;\">\n",
       "      <th>Gender</th>\n",
       "      <th>F</th>\n",
       "      <th>M</th>\n",
       "    </tr>\n",
       "    <tr>\n",
       "      <th>Intelligence</th>\n",
       "      <th></th>\n",
       "      <th></th>\n",
       "    </tr>\n",
       "  </thead>\n",
       "  <tbody>\n",
       "    <tr>\n",
       "      <th>low</th>\n",
       "      <td>0</td>\n",
       "      <td>13</td>\n",
       "    </tr>\n",
       "    <tr>\n",
       "      <th>moderate</th>\n",
       "      <td>21</td>\n",
       "      <td>37</td>\n",
       "    </tr>\n",
       "    <tr>\n",
       "      <th>average</th>\n",
       "      <td>38</td>\n",
       "      <td>101</td>\n",
       "    </tr>\n",
       "    <tr>\n",
       "      <th>good</th>\n",
       "      <td>78</td>\n",
       "      <td>165</td>\n",
       "    </tr>\n",
       "    <tr>\n",
       "      <th>high</th>\n",
       "      <td>27</td>\n",
       "      <td>112</td>\n",
       "    </tr>\n",
       "  </tbody>\n",
       "</table>\n",
       "</div>"
      ],
      "text/plain": [
       "Gender         F    M\n",
       "Intelligence         \n",
       "low            0   13\n",
       "moderate      21   37\n",
       "average       38  101\n",
       "good          78  165\n",
       "high          27  112"
      ]
     },
     "execution_count": 155,
     "metadata": {},
     "output_type": "execute_result"
    }
   ],
   "source": [
    "int_gender_freq = pd.crosstab(index=heroes['Intelligence'], \n",
    "                              columns=heroes['Gender'])\n",
    "\n",
    "int_gender_freq = int_gender_freq.reindex(['low', 'moderate', 'average', 'good', 'high'])\n",
    "int_gender_freq"
   ]
  },
  {
   "cell_type": "markdown",
   "metadata": {},
   "source": [
    "Siccome `crosstab` produce dei dataframe, per riordinare le colonne è sufficiente accedere alla tabella tramite `loc` e specificando come secondo argomento una lista dei valori nell'ordine desiderato:"
   ]
  },
  {
   "cell_type": "code",
   "execution_count": 124,
   "metadata": {},
   "outputs": [
    {
     "data": {
      "text/html": [
       "<div>\n",
       "<style scoped>\n",
       "    .dataframe tbody tr th:only-of-type {\n",
       "        vertical-align: middle;\n",
       "    }\n",
       "\n",
       "    .dataframe tbody tr th {\n",
       "        vertical-align: top;\n",
       "    }\n",
       "\n",
       "    .dataframe thead th {\n",
       "        text-align: right;\n",
       "    }\n",
       "</style>\n",
       "<table border=\"1\" class=\"dataframe\">\n",
       "  <thead>\n",
       "    <tr style=\"text-align: right;\">\n",
       "      <th>Gender</th>\n",
       "      <th>M</th>\n",
       "      <th>F</th>\n",
       "    </tr>\n",
       "    <tr>\n",
       "      <th>Intelligence</th>\n",
       "      <th></th>\n",
       "      <th></th>\n",
       "    </tr>\n",
       "  </thead>\n",
       "  <tbody>\n",
       "    <tr>\n",
       "      <th>low</th>\n",
       "      <td>13</td>\n",
       "      <td>0</td>\n",
       "    </tr>\n",
       "    <tr>\n",
       "      <th>moderate</th>\n",
       "      <td>37</td>\n",
       "      <td>21</td>\n",
       "    </tr>\n",
       "    <tr>\n",
       "      <th>average</th>\n",
       "      <td>101</td>\n",
       "      <td>38</td>\n",
       "    </tr>\n",
       "    <tr>\n",
       "      <th>good</th>\n",
       "      <td>165</td>\n",
       "      <td>78</td>\n",
       "    </tr>\n",
       "    <tr>\n",
       "      <th>high</th>\n",
       "      <td>112</td>\n",
       "      <td>27</td>\n",
       "    </tr>\n",
       "  </tbody>\n",
       "</table>\n",
       "</div>"
      ],
      "text/plain": [
       "Gender          M   F\n",
       "Intelligence         \n",
       "low            13   0\n",
       "moderate       37  21\n",
       "average       101  38\n",
       "good          165  78\n",
       "high          112  27"
      ]
     },
     "execution_count": 124,
     "metadata": {},
     "output_type": "execute_result"
    }
   ],
   "source": [
    "int_gender_freq.loc[:,['M', 'F']]"
   ]
  },
  {
   "cell_type": "markdown",
   "metadata": {},
   "source": [
    "In modo analogo è possibile visualizzare solo alcune righe oppure solo alcune colonne della tabella, come nella cella seguente:"
   ]
  },
  {
   "cell_type": "code",
   "execution_count": 125,
   "metadata": {},
   "outputs": [
    {
     "data": {
      "text/html": [
       "<div>\n",
       "<style scoped>\n",
       "    .dataframe tbody tr th:only-of-type {\n",
       "        vertical-align: middle;\n",
       "    }\n",
       "\n",
       "    .dataframe tbody tr th {\n",
       "        vertical-align: top;\n",
       "    }\n",
       "\n",
       "    .dataframe thead th {\n",
       "        text-align: right;\n",
       "    }\n",
       "</style>\n",
       "<table border=\"1\" class=\"dataframe\">\n",
       "  <thead>\n",
       "    <tr style=\"text-align: right;\">\n",
       "      <th>Gender</th>\n",
       "      <th>F</th>\n",
       "      <th>M</th>\n",
       "    </tr>\n",
       "    <tr>\n",
       "      <th>Intelligence</th>\n",
       "      <th></th>\n",
       "      <th></th>\n",
       "    </tr>\n",
       "  </thead>\n",
       "  <tbody>\n",
       "    <tr>\n",
       "      <th>moderate</th>\n",
       "      <td>21</td>\n",
       "      <td>37</td>\n",
       "    </tr>\n",
       "    <tr>\n",
       "      <th>average</th>\n",
       "      <td>38</td>\n",
       "      <td>101</td>\n",
       "    </tr>\n",
       "    <tr>\n",
       "      <th>good</th>\n",
       "      <td>78</td>\n",
       "      <td>165</td>\n",
       "    </tr>\n",
       "  </tbody>\n",
       "</table>\n",
       "</div>"
      ],
      "text/plain": [
       "Gender         F    M\n",
       "Intelligence         \n",
       "moderate      21   37\n",
       "average       38  101\n",
       "good          78  165"
      ]
     },
     "execution_count": 125,
     "metadata": {},
     "output_type": "execute_result"
    }
   ],
   "source": [
    "int_gender_freq.loc['moderate':'good', :]"
   ]
  },
  {
   "cell_type": "markdown",
   "metadata": {},
   "source": [
    "<div class=\"alert alert-warning\">\n",
    "Va notato che quella appena ottenuta non è più una tabella delle frequenze, in quanto non fa riferimento a tutti i possibili valori in gioco.\n",
    "</div>\n",
    "\n",
    "Sempre ipotizzando che il numero di valori osservabili non sia troppo elevato, la visualizzazione grafica delle frequenze congiunte può essere effettuata estendendo il concetto di diagramma a barre in modo che visualizzi due caratteri al posto di uno, _raggruppando_ le barre che fanno riferimento a uno stesso valore per uno dei caratteri, e _colorandole_ in funzione del valore che queste assumono per l'altro carattere in gioco. Il posizionamento delle barre viene normalmente fatto in due possibili modi:\n",
    "\n",
    "- invocando il metodo `plot.bar` invocato sulla tabella, in modo che le barre relative a uno stesso valore risultino _affiancate_"
   ]
  },
  {
   "cell_type": "code",
   "execution_count": 156,
   "metadata": {},
   "outputs": [
    {
     "data": {
      "image/png": "[encoded data removed]",
      "text/plain": [
       "<Figure size 360x222.492 with 1 Axes>"
      ]
     },
     "metadata": {},
     "output_type": "display_data"
    }
   ],
   "source": [
    "int_gender_freq.plot.bar(color=['pink', 'blue'])\n",
    "plt.show()"
   ]
  },
  {
   "cell_type": "markdown",
   "metadata": {},
   "source": [
    "- specificando ulteriormente il valore `True` per l'argomento `stacked`, in modo da _sovrapporre_ le barre che si riferiscono a uno stesso valore:"
   ]
  },
  {
   "cell_type": "code",
   "execution_count": 157,
   "metadata": {},
   "outputs": [
    {
     "data": {
      "image/png": "[encoded data removed]",
      "text/plain": [
       "<Figure size 360x222.492 with 1 Axes>"
      ]
     },
     "metadata": {},
     "output_type": "display_data"
    }
   ],
   "source": [
    "int_gender_freq.plot.bar(color=['pink', 'blue'], stacked=True)\n",
    "plt.show()"
   ]
  },
  {
   "cell_type": "markdown",
   "metadata": {},
   "source": [
    "Nel caso in cui si volesse calcolare le frequenze relative e almeno uno dei caratteri fosse numerico, si rischierebbe di ricadere nello stesso problema descritto quando abbiamo parlato degli istogrammi: si consideri per esempio il tentativo di calcolare le frequenze congiunte di peso e genere:"
   ]
  },
  {
   "cell_type": "code",
   "execution_count": 158,
   "metadata": {},
   "outputs": [
    {
     "data": {
      "text/html": [
       "<div>\n",
       "<style scoped>\n",
       "    .dataframe tbody tr th:only-of-type {\n",
       "        vertical-align: middle;\n",
       "    }\n",
       "\n",
       "    .dataframe tbody tr th {\n",
       "        vertical-align: top;\n",
       "    }\n",
       "\n",
       "    .dataframe thead th {\n",
       "        text-align: right;\n",
       "    }\n",
       "</style>\n",
       "<table border=\"1\" class=\"dataframe\">\n",
       "  <thead>\n",
       "    <tr style=\"text-align: right;\">\n",
       "      <th>Gender</th>\n",
       "      <th>F</th>\n",
       "      <th>M</th>\n",
       "    </tr>\n",
       "    <tr>\n",
       "      <th>Weight</th>\n",
       "      <th></th>\n",
       "      <th></th>\n",
       "    </tr>\n",
       "  </thead>\n",
       "  <tbody>\n",
       "    <tr>\n",
       "      <th>2.34</th>\n",
       "      <td>0</td>\n",
       "      <td>1</td>\n",
       "    </tr>\n",
       "    <tr>\n",
       "      <th>4.82</th>\n",
       "      <td>0</td>\n",
       "      <td>1</td>\n",
       "    </tr>\n",
       "    <tr>\n",
       "      <th>9.79</th>\n",
       "      <td>0</td>\n",
       "      <td>1</td>\n",
       "    </tr>\n",
       "    <tr>\n",
       "      <th>14.67</th>\n",
       "      <td>0</td>\n",
       "      <td>1</td>\n",
       "    </tr>\n",
       "    <tr>\n",
       "      <th>16.20</th>\n",
       "      <td>0</td>\n",
       "      <td>1</td>\n",
       "    </tr>\n",
       "    <tr>\n",
       "      <th>17.01</th>\n",
       "      <td>0</td>\n",
       "      <td>1</td>\n",
       "    </tr>\n",
       "    <tr>\n",
       "      <th>18.11</th>\n",
       "      <td>0</td>\n",
       "      <td>1</td>\n",
       "    </tr>\n",
       "    <tr>\n",
       "      <th>18.45</th>\n",
       "      <td>0</td>\n",
       "      <td>1</td>\n",
       "    </tr>\n",
       "    <tr>\n",
       "      <th>19.00</th>\n",
       "      <td>0</td>\n",
       "      <td>1</td>\n",
       "    </tr>\n",
       "    <tr>\n",
       "      <th>25.73</th>\n",
       "      <td>0</td>\n",
       "      <td>1</td>\n",
       "    </tr>\n",
       "  </tbody>\n",
       "</table>\n",
       "</div>"
      ],
      "text/plain": [
       "Gender  F  M\n",
       "Weight      \n",
       "2.34    0  1\n",
       "4.82    0  1\n",
       "9.79    0  1\n",
       "14.67   0  1\n",
       "16.20   0  1\n",
       "17.01   0  1\n",
       "18.11   0  1\n",
       "18.45   0  1\n",
       "19.00   0  1\n",
       "25.73   0  1"
      ]
     },
     "execution_count": 158,
     "metadata": {},
     "output_type": "execute_result"
    }
   ],
   "source": [
    "pd.crosstab(index=heroes['Weight'], columns=[heroes['Gender']]).iloc[:10,:]"
   ]
  },
  {
   "cell_type": "markdown",
   "metadata": {},
   "source": [
    "Essenzialmente in ogni riga c'è un valore nullo e uno unitario, semplicemente perché succede quasi sempre che un particolare valore del peso specificato fino ai decigrammi occorra un'unica volta nelle osservazioni. È quindi opportuno raggruppare assieme pesi «vicini» tra loro. Ciò viene fatto utilizzando la funzione `pd.cut`, che converte una serie di valori numerici in una serie qualitativa i cui valori possibili sono gli intervalli di una partizione aventi per estremi i valori specificati in corrispondenza dell'argomento `bins`. Considerando questa nuova serie è possibile generare una tabella di frequenze congiunte più significativa."
   ]
  },
  {
   "cell_type": "code",
   "execution_count": 159,
   "metadata": {},
   "outputs": [
    {
     "data": {
      "text/html": [
       "<div>\n",
       "<style scoped>\n",
       "    .dataframe tbody tr th:only-of-type {\n",
       "        vertical-align: middle;\n",
       "    }\n",
       "\n",
       "    .dataframe tbody tr th {\n",
       "        vertical-align: top;\n",
       "    }\n",
       "\n",
       "    .dataframe thead th {\n",
       "        text-align: right;\n",
       "    }\n",
       "</style>\n",
       "<table border=\"1\" class=\"dataframe\">\n",
       "  <thead>\n",
       "    <tr style=\"text-align: right;\">\n",
       "      <th>Gender</th>\n",
       "      <th>F</th>\n",
       "      <th>M</th>\n",
       "    </tr>\n",
       "    <tr>\n",
       "      <th>Weight</th>\n",
       "      <th></th>\n",
       "      <th></th>\n",
       "    </tr>\n",
       "  </thead>\n",
       "  <tbody>\n",
       "    <tr>\n",
       "      <th>(200, 500]</th>\n",
       "      <td>4</td>\n",
       "      <td>4</td>\n",
       "    </tr>\n",
       "    <tr>\n",
       "      <th>NaN</th>\n",
       "      <td>116</td>\n",
       "      <td>88</td>\n",
       "    </tr>\n",
       "    <tr>\n",
       "      <th>(50, 80]</th>\n",
       "      <td>5</td>\n",
       "      <td>111</td>\n",
       "    </tr>\n",
       "    <tr>\n",
       "      <th>(100, 200]</th>\n",
       "      <td>11</td>\n",
       "      <td>84</td>\n",
       "    </tr>\n",
       "    <tr>\n",
       "      <th>(80, 100]</th>\n",
       "      <td>5</td>\n",
       "      <td>38</td>\n",
       "    </tr>\n",
       "    <tr>\n",
       "      <th>(30, 50]</th>\n",
       "      <td>1</td>\n",
       "      <td>5</td>\n",
       "    </tr>\n",
       "  </tbody>\n",
       "</table>\n",
       "</div>"
      ],
      "text/plain": [
       "Gender        F    M\n",
       "Weight              \n",
       "(200, 500]    4    4\n",
       "NaN         116   88\n",
       "(50, 80]      5  111\n",
       "(100, 200]   11   84\n",
       "(80, 100]     5   38\n",
       "(30, 50]      1    5"
      ]
     },
     "execution_count": 159,
     "metadata": {},
     "output_type": "execute_result"
    }
   ],
   "source": [
    "pd.crosstab(index=pd.cut(heroes['Weight'], bins=[30, 50, 80, 100, 200, 500, 1000]),\n",
    "            columns=[heroes['Gender']])"
   ]
  },
  {
   "cell_type": "markdown",
   "metadata": {},
   "source": [
    "Le impostazioni predefinite di `pd.cut` fanno riferimento a intervalli aperti a sinistra e chiusi a destra, ma è possibile invertire l'apertura e la chiusura degli estremi utilizzando l'argomento opzionale `right`:"
   ]
  },
  {
   "cell_type": "code",
   "execution_count": 130,
   "metadata": {},
   "outputs": [
    {
     "data": {
      "text/html": [
       "<div>\n",
       "<style scoped>\n",
       "    .dataframe tbody tr th:only-of-type {\n",
       "        vertical-align: middle;\n",
       "    }\n",
       "\n",
       "    .dataframe tbody tr th {\n",
       "        vertical-align: top;\n",
       "    }\n",
       "\n",
       "    .dataframe thead th {\n",
       "        text-align: right;\n",
       "    }\n",
       "</style>\n",
       "<table border=\"1\" class=\"dataframe\">\n",
       "  <thead>\n",
       "    <tr style=\"text-align: right;\">\n",
       "      <th>Gender</th>\n",
       "      <th>F</th>\n",
       "      <th>M</th>\n",
       "    </tr>\n",
       "    <tr>\n",
       "      <th>Weight</th>\n",
       "      <th></th>\n",
       "      <th></th>\n",
       "    </tr>\n",
       "  </thead>\n",
       "  <tbody>\n",
       "    <tr>\n",
       "      <th>[200, 500)</th>\n",
       "      <td>4</td>\n",
       "      <td>4</td>\n",
       "    </tr>\n",
       "    <tr>\n",
       "      <th>NaN</th>\n",
       "      <td>116</td>\n",
       "      <td>88</td>\n",
       "    </tr>\n",
       "    <tr>\n",
       "      <th>[50, 80)</th>\n",
       "      <td>5</td>\n",
       "      <td>111</td>\n",
       "    </tr>\n",
       "    <tr>\n",
       "      <th>[100, 200)</th>\n",
       "      <td>11</td>\n",
       "      <td>84</td>\n",
       "    </tr>\n",
       "    <tr>\n",
       "      <th>[80, 100)</th>\n",
       "      <td>5</td>\n",
       "      <td>38</td>\n",
       "    </tr>\n",
       "    <tr>\n",
       "      <th>[30, 50)</th>\n",
       "      <td>1</td>\n",
       "      <td>5</td>\n",
       "    </tr>\n",
       "  </tbody>\n",
       "</table>\n",
       "</div>"
      ],
      "text/plain": [
       "Gender        F    M\n",
       "Weight              \n",
       "[200, 500)    4    4\n",
       "NaN         116   88\n",
       "[50, 80)      5  111\n",
       "[100, 200)   11   84\n",
       "[80, 100)     5   38\n",
       "[30, 50)      1    5"
      ]
     },
     "execution_count": 130,
     "metadata": {},
     "output_type": "execute_result"
    }
   ],
   "source": [
    "pd.crosstab(index=pd.cut(heroes['Weight'], bins=[30, 50, 80, 100, 200, 500, 1000], right=False),\n",
    "            columns=[heroes['Gender']])"
   ]
  },
  {
   "cell_type": "markdown",
   "metadata": {},
   "source": [
    "Quando si genera una tabella di frequenze congiunte, è possibile specificare il valore `True` per l'argomento `margins` al fine di aggiungere una riga e una colonna che contengono i totali (calcolati rispettivamente sulle singole colonne e sulle singole righe). I valori ivi indicati prendono il nome di _frequenze marginali_, e corrispondono alle frequenze del carattere corrispondente. Per esempio, rigenerando la tabella delle frequenze congiunte di livello di intelligenza e genere con le colonne dei totali,"
   ]
  },
  {
   "cell_type": "code",
   "execution_count": 160,
   "metadata": {},
   "outputs": [
    {
     "data": {
      "text/html": [
       "<div>\n",
       "<style scoped>\n",
       "    .dataframe tbody tr th:only-of-type {\n",
       "        vertical-align: middle;\n",
       "    }\n",
       "\n",
       "    .dataframe tbody tr th {\n",
       "        vertical-align: top;\n",
       "    }\n",
       "\n",
       "    .dataframe thead th {\n",
       "        text-align: right;\n",
       "    }\n",
       "</style>\n",
       "<table border=\"1\" class=\"dataframe\">\n",
       "  <thead>\n",
       "    <tr style=\"text-align: right;\">\n",
       "      <th>Gender</th>\n",
       "      <th>F</th>\n",
       "      <th>M</th>\n",
       "      <th>All</th>\n",
       "    </tr>\n",
       "    <tr>\n",
       "      <th>Intelligence</th>\n",
       "      <th></th>\n",
       "      <th></th>\n",
       "      <th></th>\n",
       "    </tr>\n",
       "  </thead>\n",
       "  <tbody>\n",
       "    <tr>\n",
       "      <th>average</th>\n",
       "      <td>38</td>\n",
       "      <td>101</td>\n",
       "      <td>139</td>\n",
       "    </tr>\n",
       "    <tr>\n",
       "      <th>good</th>\n",
       "      <td>78</td>\n",
       "      <td>165</td>\n",
       "      <td>243</td>\n",
       "    </tr>\n",
       "    <tr>\n",
       "      <th>high</th>\n",
       "      <td>27</td>\n",
       "      <td>112</td>\n",
       "      <td>139</td>\n",
       "    </tr>\n",
       "    <tr>\n",
       "      <th>low</th>\n",
       "      <td>0</td>\n",
       "      <td>13</td>\n",
       "      <td>13</td>\n",
       "    </tr>\n",
       "    <tr>\n",
       "      <th>moderate</th>\n",
       "      <td>21</td>\n",
       "      <td>37</td>\n",
       "      <td>58</td>\n",
       "    </tr>\n",
       "    <tr>\n",
       "      <th>All</th>\n",
       "      <td>164</td>\n",
       "      <td>428</td>\n",
       "      <td>592</td>\n",
       "    </tr>\n",
       "  </tbody>\n",
       "</table>\n",
       "</div>"
      ],
      "text/plain": [
       "Gender          F    M  All\n",
       "Intelligence               \n",
       "average        38  101  139\n",
       "good           78  165  243\n",
       "high           27  112  139\n",
       "low             0   13   13\n",
       "moderate       21   37   58\n",
       "All           164  428  592"
      ]
     },
     "execution_count": 160,
     "metadata": {},
     "output_type": "execute_result"
    }
   ],
   "source": [
    "pd.crosstab(index=heroes['Intelligence'], \n",
    "            columns=heroes['Gender'], margins=True)"
   ]
  },
  {
   "cell_type": "markdown",
   "metadata": {},
   "source": [
    "la colonna `All` conterrà le frequenze assolute per il carattere Intelligence, e parimenti la righa `All` elencherà le frequenze assolute per il genere (escludendo ovviamente in entrambi i casi l'ultimo elemento che corrisponde al numero totale di osservazioni).\n",
    "\n",
    "Le frequenze congiunte a cui abbiamo fatto riferimento negli esempi visti finora erano frequenze assolute, ma è immediato estendere tale concetto a quello delle _frequenze congiunte relative_. Queste si possono calcolare dividendo le frequenze assolute per il numero totale di osservazioni, oppure utilizzando come in precedenza il parametro `normalize` in `pd.crosstab`, che però ora ha diversi valori possibili:\n",
    "\n",
    "- specificando `'all'` vengono effettivamente calcolate le frequenze relative"
   ]
  },
  {
   "cell_type": "code",
   "execution_count": 161,
   "metadata": {},
   "outputs": [
    {
     "data": {
      "text/html": [
       "<div>\n",
       "<style scoped>\n",
       "    .dataframe tbody tr th:only-of-type {\n",
       "        vertical-align: middle;\n",
       "    }\n",
       "\n",
       "    .dataframe tbody tr th {\n",
       "        vertical-align: top;\n",
       "    }\n",
       "\n",
       "    .dataframe thead th {\n",
       "        text-align: right;\n",
       "    }\n",
       "</style>\n",
       "<table border=\"1\" class=\"dataframe\">\n",
       "  <thead>\n",
       "    <tr style=\"text-align: right;\">\n",
       "      <th>Gender</th>\n",
       "      <th>F</th>\n",
       "      <th>M</th>\n",
       "      <th>All</th>\n",
       "    </tr>\n",
       "    <tr>\n",
       "      <th>Intelligence</th>\n",
       "      <th></th>\n",
       "      <th></th>\n",
       "      <th></th>\n",
       "    </tr>\n",
       "  </thead>\n",
       "  <tbody>\n",
       "    <tr>\n",
       "      <th>average</th>\n",
       "      <td>0.064189</td>\n",
       "      <td>0.170608</td>\n",
       "      <td>0.234797</td>\n",
       "    </tr>\n",
       "    <tr>\n",
       "      <th>good</th>\n",
       "      <td>0.131757</td>\n",
       "      <td>0.278716</td>\n",
       "      <td>0.410473</td>\n",
       "    </tr>\n",
       "    <tr>\n",
       "      <th>high</th>\n",
       "      <td>0.045608</td>\n",
       "      <td>0.189189</td>\n",
       "      <td>0.234797</td>\n",
       "    </tr>\n",
       "    <tr>\n",
       "      <th>low</th>\n",
       "      <td>0.000000</td>\n",
       "      <td>0.021959</td>\n",
       "      <td>0.021959</td>\n",
       "    </tr>\n",
       "    <tr>\n",
       "      <th>moderate</th>\n",
       "      <td>0.035473</td>\n",
       "      <td>0.062500</td>\n",
       "      <td>0.097973</td>\n",
       "    </tr>\n",
       "    <tr>\n",
       "      <th>All</th>\n",
       "      <td>0.277027</td>\n",
       "      <td>0.722973</td>\n",
       "      <td>1.000000</td>\n",
       "    </tr>\n",
       "  </tbody>\n",
       "</table>\n",
       "</div>"
      ],
      "text/plain": [
       "Gender               F         M       All\n",
       "Intelligence                              \n",
       "average       0.064189  0.170608  0.234797\n",
       "good          0.131757  0.278716  0.410473\n",
       "high          0.045608  0.189189  0.234797\n",
       "low           0.000000  0.021959  0.021959\n",
       "moderate      0.035473  0.062500  0.097973\n",
       "All           0.277027  0.722973  1.000000"
      ]
     },
     "execution_count": 161,
     "metadata": {},
     "output_type": "execute_result"
    }
   ],
   "source": [
    "pd.crosstab(index=heroes['Intelligence'], \n",
    "            columns=heroes['Gender'],\n",
    "            margins=True,\n",
    "            normalize='all')"
   ]
  },
  {
   "cell_type": "markdown",
   "metadata": {},
   "source": [
    "- usando `'index'` si otterrà una tabella in cui i valori su ogni riga sommano a 1"
   ]
  },
  {
   "cell_type": "code",
   "execution_count": 162,
   "metadata": {},
   "outputs": [
    {
     "data": {
      "text/html": [
       "<div>\n",
       "<style scoped>\n",
       "    .dataframe tbody tr th:only-of-type {\n",
       "        vertical-align: middle;\n",
       "    }\n",
       "\n",
       "    .dataframe tbody tr th {\n",
       "        vertical-align: top;\n",
       "    }\n",
       "\n",
       "    .dataframe thead th {\n",
       "        text-align: right;\n",
       "    }\n",
       "</style>\n",
       "<table border=\"1\" class=\"dataframe\">\n",
       "  <thead>\n",
       "    <tr style=\"text-align: right;\">\n",
       "      <th>Gender</th>\n",
       "      <th>F</th>\n",
       "      <th>M</th>\n",
       "    </tr>\n",
       "    <tr>\n",
       "      <th>Intelligence</th>\n",
       "      <th></th>\n",
       "      <th></th>\n",
       "    </tr>\n",
       "  </thead>\n",
       "  <tbody>\n",
       "    <tr>\n",
       "      <th>average</th>\n",
       "      <td>0.273381</td>\n",
       "      <td>0.726619</td>\n",
       "    </tr>\n",
       "    <tr>\n",
       "      <th>good</th>\n",
       "      <td>0.320988</td>\n",
       "      <td>0.679012</td>\n",
       "    </tr>\n",
       "    <tr>\n",
       "      <th>high</th>\n",
       "      <td>0.194245</td>\n",
       "      <td>0.805755</td>\n",
       "    </tr>\n",
       "    <tr>\n",
       "      <th>low</th>\n",
       "      <td>0.000000</td>\n",
       "      <td>1.000000</td>\n",
       "    </tr>\n",
       "    <tr>\n",
       "      <th>moderate</th>\n",
       "      <td>0.362069</td>\n",
       "      <td>0.637931</td>\n",
       "    </tr>\n",
       "    <tr>\n",
       "      <th>All</th>\n",
       "      <td>0.277027</td>\n",
       "      <td>0.722973</td>\n",
       "    </tr>\n",
       "  </tbody>\n",
       "</table>\n",
       "</div>"
      ],
      "text/plain": [
       "Gender               F         M\n",
       "Intelligence                    \n",
       "average       0.273381  0.726619\n",
       "good          0.320988  0.679012\n",
       "high          0.194245  0.805755\n",
       "low           0.000000  1.000000\n",
       "moderate      0.362069  0.637931\n",
       "All           0.277027  0.722973"
      ]
     },
     "execution_count": 162,
     "metadata": {},
     "output_type": "execute_result"
    }
   ],
   "source": [
    "pd.crosstab(index=heroes['Intelligence'], \n",
    "            columns=heroes['Gender'],\n",
    "            margins=True,\n",
    "            normalize='index')"
   ]
  },
  {
   "cell_type": "markdown",
   "metadata": {},
   "source": [
    "- indicando invece `columns` viene generata una tabella in cui tutte le colonne sommano al valore unitario"
   ]
  },
  {
   "cell_type": "code",
   "execution_count": 163,
   "metadata": {},
   "outputs": [
    {
     "data": {
      "text/html": [
       "<div>\n",
       "<style scoped>\n",
       "    .dataframe tbody tr th:only-of-type {\n",
       "        vertical-align: middle;\n",
       "    }\n",
       "\n",
       "    .dataframe tbody tr th {\n",
       "        vertical-align: top;\n",
       "    }\n",
       "\n",
       "    .dataframe thead th {\n",
       "        text-align: right;\n",
       "    }\n",
       "</style>\n",
       "<table border=\"1\" class=\"dataframe\">\n",
       "  <thead>\n",
       "    <tr style=\"text-align: right;\">\n",
       "      <th>Gender</th>\n",
       "      <th>F</th>\n",
       "      <th>M</th>\n",
       "      <th>All</th>\n",
       "    </tr>\n",
       "    <tr>\n",
       "      <th>Intelligence</th>\n",
       "      <th></th>\n",
       "      <th></th>\n",
       "      <th></th>\n",
       "    </tr>\n",
       "  </thead>\n",
       "  <tbody>\n",
       "    <tr>\n",
       "      <th>average</th>\n",
       "      <td>0.231707</td>\n",
       "      <td>0.235981</td>\n",
       "      <td>0.234797</td>\n",
       "    </tr>\n",
       "    <tr>\n",
       "      <th>good</th>\n",
       "      <td>0.475610</td>\n",
       "      <td>0.385514</td>\n",
       "      <td>0.410473</td>\n",
       "    </tr>\n",
       "    <tr>\n",
       "      <th>high</th>\n",
       "      <td>0.164634</td>\n",
       "      <td>0.261682</td>\n",
       "      <td>0.234797</td>\n",
       "    </tr>\n",
       "    <tr>\n",
       "      <th>low</th>\n",
       "      <td>0.000000</td>\n",
       "      <td>0.030374</td>\n",
       "      <td>0.021959</td>\n",
       "    </tr>\n",
       "    <tr>\n",
       "      <th>moderate</th>\n",
       "      <td>0.128049</td>\n",
       "      <td>0.086449</td>\n",
       "      <td>0.097973</td>\n",
       "    </tr>\n",
       "  </tbody>\n",
       "</table>\n",
       "</div>"
      ],
      "text/plain": [
       "Gender               F         M       All\n",
       "Intelligence                              \n",
       "average       0.231707  0.235981  0.234797\n",
       "good          0.475610  0.385514  0.410473\n",
       "high          0.164634  0.261682  0.234797\n",
       "low           0.000000  0.030374  0.021959\n",
       "moderate      0.128049  0.086449  0.097973"
      ]
     },
     "execution_count": 163,
     "metadata": {},
     "output_type": "execute_result"
    }
   ],
   "source": [
    "pd.crosstab(index=heroes['Intelligence'], \n",
    "            columns=heroes['Gender'],\n",
    "            margins=True,\n",
    "            normalize='columns')"
   ]
  },
  {
   "cell_type": "markdown",
   "metadata": {},
   "source": [
    "La normalizzazione per colonne permette di ottenere una tabella che contiene le frequenze relative di due sotto-popolazioni come nel caso precedentemente visto, relativo alla forza di supereroi e supereroine. Invocando `plot` o `plot.bar` su questa tabella si ottiene in modo semplice un grafico che permette di confrontare visualmente tali frequenze."
   ]
  },
  {
   "cell_type": "code",
   "execution_count": 164,
   "metadata": {},
   "outputs": [
    {
     "data": {
      "image/png": "[encoded data removed]",
      "text/plain": [
       "<Figure size 360x222.492 with 1 Axes>"
      ]
     },
     "metadata": {},
     "output_type": "display_data"
    }
   ],
   "source": [
    "pd.crosstab(index=heroes['Strength'],\n",
    "            columns=[heroes['Gender']],\n",
    "            normalize='columns').plot.bar(color=['pink', 'blue'], stacked=True)\n",
    "plt.show()"
   ]
  },
  {
   "cell_type": "markdown",
   "metadata": {},
   "source": [
    "Abbiamo visto in una lezione precedente come generare direttamente un grafico di una serie senza elaborarla (calcolando per esempio le sue frequenze) produce un risultato che non è normalmente informativo. Le cose sono diverse quando si considerano congiuntamente due serie con un medesimo indice: in tal caso per ogni elemento di questo indice (e dunque per ogni osservazione), i valori delle due serie possono essere utilizzati per individuare le coordinate di un punto nel piano. Visualizzando i punti corrispondenti a tutte le osservazioni si ottiene un _diagramma di dispersione_ (o _scatter plot_). In pandas questo tipo di grafico si genera invocando il metodo `plot.scatter` sul _dataframe_ che contiene le osservazioni, indicando come argomenti i nomi dei caratteri che devono essere considerati (il primo dei quali verrà visualizzato sull'asse delle ascisse, usando invece quello delle ordinate per il secondo). Per esempio nella cella seguente viene visualizzato il diagramma di dispersione dei caratteri relativi ad altezza e peso dei supereroi di genere maschile."
   ]
  },
  {
   "cell_type": "code",
   "execution_count": 165,
   "metadata": {},
   "outputs": [
    {
     "data": {
      "image/png": "[encoded data removed]",
      "text/plain": [
       "<Figure size 360x222.492 with 1 Axes>"
      ]
     },
     "metadata": {},
     "output_type": "display_data"
    }
   ],
   "source": [
    "heroes[heroes['Gender']=='M'].plot.scatter('Height', 'Weight')\n",
    "plt.show()"
   ]
  },
  {
   "cell_type": "markdown",
   "metadata": {},
   "source": [
    "I diagrammi di dispersione permettono di valutare visivamente se esistano delle relazioni che legano i due caratteri visualizzati. Per esempio nel grafico precedente si nota come tendenzialmente a un valore alto del peso corrisponda un valore alto per l'altezza e viceversa. Volendo è possibile aggiungere al grafico una retta che metta in evidenza tale tipo di relazione:"
   ]
  },
  {
   "cell_type": "code",
   "execution_count": 166,
   "metadata": {},
   "outputs": [
    {
     "data": {
      "image/png": "[encoded data removed]",
      "text/plain": [
       "<Figure size 360x222.492 with 1 Axes>"
      ]
     },
     "metadata": {},
     "output_type": "display_data"
    }
   ],
   "source": [
    "heroes[heroes['Gender']=='M'].plot.scatter('Height', 'Weight')\n",
    "\n",
    "trend = lambda x: -1200 + x * 7\n",
    "x_range = [170, 300]\n",
    "line, = plt.plot(x_range, list(map(trend, x_range)), color='black')\n",
    "line.set_dashes([3, 2])\n",
    "line.set_linewidth(2)\n",
    "plt.show()"
   ]
  },
  {
   "cell_type": "markdown",
   "metadata": {},
   "source": [
    "In questo caso la retta è stata posizionata «a mano»: esistono metodi che ci permettono di determinarla in funzione delle osservazioni. Per il momento mettiamo in evidenza la possibilità di definire in modo formale una retta scelta in modo da minimizzare una sua distanza da tutti i punti, utilizzando il cosiddetto _metodo dei minimi quadrati_. La cella seguente mostra come determinare tale retta, avendo cura di lavorare su una copia del _dataframe_ sulla quale invocare il metodo `dropna` che elimina le righe in cui è presente almeno un valore mancante."
   ]
  },
  {
   "cell_type": "code",
   "execution_count": 167,
   "metadata": {},
   "outputs": [
    {
     "data": {
      "image/png": "[encoded data removed]",
      "text/plain": [
       "<Figure size 360x222.492 with 1 Axes>"
      ]
     },
     "metadata": {},
     "output_type": "display_data"
    }
   ],
   "source": [
    "from sklearn import linear_model\n",
    "\n",
    "regr = linear_model.LinearRegression()\n",
    "\n",
    "heroes_with_data = heroes[heroes['Gender']=='M'].copy().dropna()\n",
    "\n",
    "X = heroes_with_data.loc[:, ['Height']]\n",
    "Y = heroes_with_data['Weight']\n",
    "\n",
    "regr.fit(X, Y)\n",
    "\n",
    "heroes[heroes['Gender']=='M'].plot.scatter('Height', 'Weight')\n",
    "\n",
    "line, = plt.plot([0, 1000], regr.predict([[0], [1000]]), color='black')\n",
    "line.set_dashes([3, 2])\n",
    "line.set_linewidth(2)\n",
    "\n",
    "plt.show()"
   ]
  },
  {
   "cell_type": "markdown",
   "metadata": {},
   "source": [
    "Anche in questo caso si rimanda alla [documentazione ufficiale](http://scikit-learn.org/stable/modules/generated/sklearn.linear_model.LinearRegression.html#sklearn.linear_model.LinearRegression) per gli approfondimenti del caso. Notiamo solo come la presenza dei tre valori estremi nella parte destra del grafico fa sì che la retta ottenuta sia sensibilmente diversa rispetto a quella tracciata a mano. Le cose cambiano se non si considerano questi tre valori."
   ]
  },
  {
   "cell_type": "code",
   "execution_count": 168,
   "metadata": {},
   "outputs": [
    {
     "data": {
      "image/png": "[encoded data removed]",
      "text/plain": [
       "<Figure size 360x222.492 with 1 Axes>"
      ]
     },
     "metadata": {},
     "output_type": "display_data"
    }
   ],
   "source": [
    "heroes_with_data = heroes_with_data[heroes_with_data['Height']<300]\n",
    "\n",
    "X = heroes_with_data.loc[:, ['Height']]\n",
    "Y = heroes_with_data['Weight']\n",
    "\n",
    "regr.fit(X, Y)\n",
    "\n",
    "heroes[heroes['Gender']=='M'].plot.scatter('Height', 'Weight')\n",
    "\n",
    "line, = plt.plot([150, 350], regr.predict([[150], [350]]), color='black')\n",
    "line.set_dashes([3, 2])\n",
    "line.set_linewidth(2)\n",
    "\n",
    "plt.show()"
   ]
  },
  {
   "cell_type": "markdown",
   "metadata": {},
   "source": [
    "Va infine notato che le relazioni tra due caratteri non necessariamente hanno una forma lineare, ma approfondire questo aspetto esula dal carattere introduttivo di questo corso."
   ]
  },
  {
   "cell_type": "code",
   "execution_count": 169,
   "metadata": {},
   "outputs": [
    {
     "data": {
      "text/plain": [
       "1817.2108845049506"
      ]
     },
     "execution_count": 169,
     "metadata": {},
     "output_type": "execute_result"
    }
   ],
   "source": [
    "male_heroes = heroes_with_data[heroes_with_data['Gender']=='M']\n",
    "male_heroes['Height'].cov(male_heroes['Weight'])"
   ]
  },
  {
   "cell_type": "code",
   "execution_count": 170,
   "metadata": {},
   "outputs": [
    {
     "data": {
      "text/plain": [
       "0.8268581935167995"
      ]
     },
     "execution_count": 170,
     "metadata": {},
     "output_type": "execute_result"
    }
   ],
   "source": [
    "male_heroes['Height'].corr(male_heroes['Weight'])"
   ]
  },
  {
   "cell_type": "markdown",
   "metadata": {},
   "source": [
    "\n",
    "\n",
    "\n",
    "\n",
    "<div id=\"h-8\"></div>\n",
    "\n",
    "## Alcuni approfondimenti sulla generazione dei grafici <sup>*</sup>\n",
    "\n",
    "<div class=\"alert alert-info\">\n",
    "I paragrafi contrassegnati con un asterisco sono opzionali. È dunque possibile saltarli a meno che non si voglia approfondire gli argomenti ivi contenuti.\n",
    "</div>\n",
    "\n",
    "Una cella grafica generata da matplotlib e visualizzata nel notebook contiene quella che viene definita una _figura_ (tecnicamente, un oggetto della classe `plt.Figure`). Ogni figura può contenere uno o più _sistemi cartesiani_ (oggetti della classe `plt.Axes`) i quali a loro volta contengono (nella maggior parte dei casi) due _assi cartesiani_ (oggetti della classe `plt.Axis`, da non confondere con `plt.Axes`). Tutte le figure che abbiamo generato finora contenevano un unico sistema di assi cartesiani, su cui venivano eventualmente sovrapposti tutti i grafici che venivano creati. È però possibile ottenere figure in cui più sistemi cartesiani vengono affiancati su una griglia bidimensionale. Ciò permette per esempio di affiancare grafici diversi. La gestione di tale griglia è di norma demandata alla funzione `plt.subplot`, che accetta tre argomenti interi: i primi due indicano rispettivamente il numero di righe e di colonne nella griglia, e il terzo specifica una posizione nella griglia stessa (con la convenzione che in una griglia di $n$ colonne 1 indica la posizione nella prima riga e nella prima colonna, 2 quella nella prima riga e nella seconda colonna e così via fino a $n$ che indica l'ultima posizione nella prima riga; procedendo oltre si passa alla riga successiva, così che $n+1$ individua la seconda riga e la prima colonna e via discorrendo. Una volta che `plt.subplot` è stato invocato, questo restituisce l'oggetto corrispondente al sistema cartesiano relativo, che conterrà (eventualmente sovrapponendoli) tutti i grafici generati fino alla successiva invocazione di `plt.subplot`. Questo è quello che succede per esempio quando si invocano i metodi di `plot` su una serie: nella cella seguente per esempio vengono affiancati i diagrammi a torta relativi alle frequenze di genere e livello di intelligenza."
   ]
  },
  {
   "cell_type": "code",
   "execution_count": 171,
   "metadata": {},
   "outputs": [
    {
     "data": {
      "image/png": "[encoded data removed]",
      "text/plain": [
       "<Figure size 432x216 with 2 Axes>"
      ]
     },
     "metadata": {},
     "output_type": "display_data"
    }
   ],
   "source": [
    "plt.figure(figsize=(6, 3))\n",
    "plt.subplot(1, 2, 1)\n",
    "gender_freq['Abs. frequence'].plot.pie(colors=['pink', 'blue'])\n",
    "plt.ylabel('')\n",
    "plt.xlabel('Gender')\n",
    "plt.subplot(1, 2, 2)\n",
    "heroes['Intelligence'].value_counts().plot.pie()\n",
    "plt.ylabel('')\n",
    "_ = plt.xlabel('Intelligence')"
   ]
  },
  {
   "cell_type": "markdown",
   "metadata": {},
   "source": [
    "Va notato che in questo caso l'invocazione di `plt.axis('equal')` non sortirebbe l'effetto desiderato di mostrare due cerchi, in quanto il metodo agisce sulla figura e non sui suoi assi. È quindi necessario impostare manualmente la dimensione della figura in modo che la base sia pari al doppio dell'altezza, così che entrambi i sistemi cartesiani risultino nei fatti essere dei quadrati. Ciò viene fatto grazie all'invocazione preliminare di `plt.figure`, che crea una figura di dimensioni specifiche piuttosto che ottenere una figura predefinita.\n",
    "\n",
    "<div class=\"alert alert-info\">\n",
    "Nella cella precedente va notata anche l'invocazione di `plt.xlabel` e `plt.ylabel` che spostano la descrizione dei diagrammi dall'asse delle ordinate a quello delle ascisse (per aumentare la leggibilità), inserendo nel contempo delle descrizioni più informative.\n",
    "</div>\n",
    "\n",
    "Vi sono però alcuni casi in cui la generazione di un grafico implica la creazione di un nuovo sistema cartesiano nella figura: un esempio di questo comportamento si ha quando vengono generati dei grafici invocando i metodi di `plot` su un _dataframe_ piuttosto che su una serie. I due diagrammi a barre non vengono sovrapposti, bensì affiancati uno sopra l'altro."
   ]
  },
  {
   "cell_type": "code",
   "execution_count": 172,
   "metadata": {},
   "outputs": [
    {
     "data": {
      "image/png": "[encoded data removed]",
      "text/plain": [
       "<Figure size 360x222.492 with 1 Axes>"
      ]
     },
     "metadata": {},
     "output_type": "display_data"
    },
    {
     "data": {
      "image/png": "[encoded data removed]",
      "text/plain": [
       "<Figure size 360x222.492 with 1 Axes>"
      ]
     },
     "metadata": {},
     "output_type": "display_data"
    }
   ],
   "source": [
    "male_strength_freq = (pd.crosstab(index=heroes.loc[heroes['Gender']=='M','Strength'],\n",
    "                                  columns='Abs. freq.',\n",
    "                                  normalize=True))\n",
    "\n",
    "female_strength_freq = (pd.crosstab(index=heroes.loc[heroes['Gender']=='F','Strength'],\n",
    "                                    columns='Abs. freq.',\n",
    "                                    normalize=True))\n",
    "\n",
    "male_strength_freq.plot.bar(color='blue', legend=False)\n",
    "female_strength_freq.plot.bar(color='pink', legend=False)\n",
    "plt.show()"
   ]
  },
  {
   "cell_type": "markdown",
   "metadata": {},
   "source": [
    "Se si volessero affiancare i due grafici in modo orizzontale (cosa che peraltro aiuterebbe il confronto) è quindi necessario agire in modo diverso, notando che `plt.subplot` restituisce l'oggetto relativo al sistema cartesiano creato e che le funzioni di matplotlib accettano generalmente un argomento `ax` a cui passare il sistema in cui il risultato deve essere inserito."
   ]
  },
  {
   "cell_type": "code",
   "execution_count": 173,
   "metadata": {},
   "outputs": [
    {
     "data": {
      "image/png": "[encoded data removed]",
      "text/plain": [
       "<Figure size 720x144 with 2 Axes>"
      ]
     },
     "metadata": {},
     "output_type": "display_data"
    }
   ],
   "source": [
    "ax = plt.subplot(1, 2, 1)\n",
    "male_strength_freq.plot.bar(color='blue', legend=False, ax=ax, figsize=(10, 2))\n",
    "plt.ylim((0, 0.4))\n",
    "ax = plt.subplot(1, 2, 2)\n",
    "female_strength_freq.plot.bar(color='pink', legend=False, ax=ax, figsize=(10, 2))\n",
    "_ = plt.ylim((0, 0.4))"
   ]
  },
  {
   "cell_type": "markdown",
   "metadata": {},
   "source": [
    "Va notato come nei due grafici a barre siano stati impostati i limiti degli assi delle ascisse a un valore comune: in caso contrario il confronto tra le due immagini sarebbe potuto risultare sfalsato.\n",
    "\n",
    "<div class=\"alert alert-info\">\n",
    "I più attenti avranno notato che python distingue automaticamente i nomi formali dei parametri dai corrispondenti valori effettivi, cosa che permette di scrivere `ax=ax` nelle precedenti invocazioni di `plot.bar`.\n",
    "</div>\n",
    "\n",
    "Infine, metodi come `plot` restituiscono il riferimento ai sistemi cartesiani su cui hanno operato: ciò permette di sovrapporre dei grafici anche invocando metodi il cui comportamento predefinito è quello di creare un nuovo sistema."
   ]
  },
  {
   "cell_type": "code",
   "execution_count": 145,
   "metadata": {},
   "outputs": [
    {
     "data": {
      "image/png": "[encoded data removed]",
      "text/plain": [
       "<Figure size 360x222.492 with 1 Axes>"
      ]
     },
     "metadata": {},
     "output_type": "display_data"
    }
   ],
   "source": [
    "ax = male_strength_freq.plot(marker='o', color='blue')\n",
    "female_strength_freq.plot(marker='o', color='pink', ax=ax, legend=False)\n",
    "ax.legend(['F', 'M'])\n",
    "plt.show()"
   ]
  },
  {
   "cell_type": "markdown",
   "metadata": {},
   "source": [
    "<div class=\"alert alert-info\">\n",
    "Nella cella precedente è stato utilizzando il metodo `legend` per modificare le etichette indicate nella legenda.\n",
    "</div>"
   ]
  },
  {
   "cell_type": "markdown",
   "metadata": {},
   "source": [
    "\n",
    "\n",
    "\n",
    "<div id=\"h-9\"></div>\n",
    "\n",
    "## I diagrammi stelo-foglia <sup>*</sup>\n",
    "Un _diagramma stelo-foglia_ (o _diagramma ramo-foglia_, o secondo la terminologia inglese _diagramma stem and leaf_) si ottiene considerando delle osservazioni a valori numerici, ordinandole e suddividendo ogni osservazione in una parte _meno significativa_ (rappresentata da un numero prefissato di cifre meno significative) e una parte _più significativa_ (rappresentata dalle rimanenti cifre più significative). Le osservazioni aventi la medesima parte più significativa vengono raggruppate in uno stesso _stelo_, costituito da questa parte significativa seguita da una barra verticale e poi da tutte le parti meno significative (le _foglie_) separate da virgola. Per esempio il diagramma seguente descrive gli anni di prima apparizione dei primi cinquanta eroi del nostro dataset, dove le foglie sono costruite considerando la cifra meno significativa di ogni anno.\n",
    "\n",
    "<pre style=\"margin-left:0; line-height:1em\">\n",
    "194|1\n",
    "195|9\n",
    "196|5, 4, 3, 8, 5, 3, 0, 1, 8, 4, 2\n",
    "197|9, 2, 5, 7, 2, 7, 5\n",
    "198|5, 0, 6, 1, 4, 4, 1, 1, 0, 6, 4, 5, 2\n",
    "199|3, 5, 6, 4\n",
    "200|8, 7, 1, 5, 4, 5, 5, 4, 3, 4, 1\n",
    "201|1, 1\n",
    "</pre>\n",
    "\n",
    "<div class=\"alert alert-warning\">\n",
    "Il resto di questo paragrafo richiede una discreta conoscenza della programmazione in python, per cui vale la pena tralasciarlo durante una lettura preliminare.\n",
    "</div>\n",
    "\n",
    "Per non complicarci troppo la vita, assumiamo di avere a disposizione dei dati interi: già così la costruzione di un diagramma stelo-foglie richiede una certa dose di perizia. Innanzitutto è necessario eliminare i valori mancanti dai dati:"
   ]
  },
  {
   "cell_type": "code",
   "execution_count": 146,
   "metadata": {},
   "outputs": [],
   "source": [
    "x = [s for s in heroes_with_year['First appearance'][:50] if not np.isnan(s)]"
   ]
  },
  {
   "cell_type": "markdown",
   "metadata": {},
   "source": [
    "È poi necessario indicare il numero di cifre significative che comporranno le foglie. Memorizziamo nelle variabili `d` e `signif`, rispettivamente, tale numero e la corrispondente potenza di dieci."
   ]
  },
  {
   "cell_type": "code",
   "execution_count": 147,
   "metadata": {},
   "outputs": [],
   "source": [
    "significant_digits = 1\n",
    "signif = 10**significant_digits"
   ]
  },
  {
   "cell_type": "markdown",
   "metadata": {},
   "source": [
    "Il passo successivo consiste nel costruire tutti i possibili valori per gli steli. In teoria, il più piccolo di questi valori corrisponde al minimo elemento considerato a cui va tolta la parte meno significativa. Questa operazione richiede di convertire l'elemento in un valore intero e poi dividerlo per la potenza di 10 memorizzata in `signif` (che equivale a eliminare le `d` cifre meno significative)."
   ]
  },
  {
   "cell_type": "code",
   "execution_count": 148,
   "metadata": {},
   "outputs": [],
   "source": [
    "r = np.arange(int(min(x))/signif, (int(max(x))/signif + 1))"
   ]
  },
  {
   "cell_type": "markdown",
   "metadata": {},
   "source": [
    "Risulta ora possibile eliminare da `r` tutti i valori che non rappresentano uno stelo, che sono quelli in corrispondenza dei quali non vi è alcuna foglia. "
   ]
  },
  {
   "cell_type": "code",
   "execution_count": 149,
   "metadata": {},
   "outputs": [],
   "source": [
    "start = [s for s in r\n",
    "         if len([e for e in x if s*signif <= e < (s+1)*signif])]"
   ]
  },
  {
   "cell_type": "markdown",
   "metadata": {},
   "source": [
    "Il diagramma vero e proprio si ottiene costruendo per ogni stelo una coppia contenente il valore dello stelo e una lista di tutte le foglie corrispondenti. Per comodità, convertiremo già le foglie in stringhe, avendo cura di aggiungere eventuali zeri iniziali."
   ]
  },
  {
   "cell_type": "code",
   "execution_count": 150,
   "metadata": {},
   "outputs": [],
   "source": [
    "stem = [(s, ['{:0{width}d}'.format(int(i%(s*signif)), width=significant_digits) if s\n",
    "                                                                                else str(int(i))\n",
    "             for i in x if signif*s <= i < signif*s+signif])\n",
    "        for s in start]"
   ]
  },
  {
   "cell_type": "markdown",
   "metadata": {},
   "source": [
    "La visualizzazione del diagramma richiede di convertire in stringa le coppie generate. Ciò può essere fatto invocando la funzione `format` su un'opportuna stringa di formattazione che ci permette di ottenere i vari rami nel formato richiesto e di inserirli in una lista, per poi concatenare gli elementi di quest'ultima separandoli tramite un carattere di `a capo`."
   ]
  },
  {
   "cell_type": "code",
   "execution_count": 151,
   "metadata": {},
   "outputs": [
    {
     "name": "stdout",
     "output_type": "stream",
     "text": [
      "194.1|0\n",
      "195.1|8, 9\n",
      "196.1|4, 3, 2, 7, 4, 2, 0, 7, 3, 1\n",
      "197.1|9, 8, 9, 1, 4, 6, 1, 6, 4\n",
      "198.1|4, 5, 0, 3, 3, 0, 0, 5, 3, 4, 1\n",
      "199.1|2, 4, 5, 3\n",
      "200.1|7, 6, 0, 4, 3, 4, 4, 3, 2, 3, 0\n",
      "201.1|0, 0\n"
     ]
    }
   ],
   "source": [
    "import math\n",
    "print('\\n'.join(list(map(lambda e: '{:>{width}}|{}'.format(e[0],\n",
    "                                                           ', '.join(e[1]),\n",
    "                                                           width=int(1+math.log10(max(start)))),\n",
    "                         stem))))"
   ]
  },
  {
   "cell_type": "markdown",
   "metadata": {},
   "source": [
    "Per poter generare velocemente altri diagrammi stelo-foglia, è opportuno riscrivere il codice qui sopra organizzandolo all'interno di una funzione."
   ]
  },
  {
   "cell_type": "code",
   "execution_count": 152,
   "metadata": {},
   "outputs": [],
   "source": [
    "def stem_leaf(data, significant_digits=1):\n",
    "    x = [s for s in data if not np.isnan(s)]\n",
    "    signif = 10**significant_digits\n",
    "\n",
    "    r = np.arange(int(min(x))/signif, int(max(x))/signif + 1)\n",
    "    start = [s for s in r if len([e for e in x if s*signif <= e < (s+1)*signif])]\n",
    "    stem = [(s, ['{:0{width}d}'.format(int(i%(s*signif)), width=significant_digits) if s\n",
    "                                                                                    else str(int(i))\n",
    "                 for i in x if signif*s <= i < signif*s+signif])\n",
    "            for s in start]\n",
    "\n",
    "    return '\\n'.join(list(map(lambda e: '{:>{width}}|{}'.format(e[0],\n",
    "                                                                ', '.join(e[1]),\n",
    "                                                                width=int(1+math.log10(max(start)))),\n",
    "                              stem)))"
   ]
  },
  {
   "cell_type": "markdown",
   "metadata": {},
   "source": [
    "Ciò ci permette, per esempio, di calcolare il diagramma per un numero maggiore di osservazioni."
   ]
  },
  {
   "cell_type": "code",
   "execution_count": 153,
   "metadata": {},
   "outputs": [
    {
     "name": "stdout",
     "output_type": "stream",
     "text": [
      "193.9|2, 1, 5, 1, 2, 9, 1, 2, 2, 0, 8\n",
      "194.9|6\n",
      "195.9|0, 6, 5, 4, 9, 6, 4, 1, 2, 9, 5, 3, 7, 6, 5, 5, 5, 4, 0, 6, 8, 5, 4, 9, 4, 4, 4, 4, 5, 6, 0, 4, 6, 5\n",
      "196.9|3, 6, 8, 3, 8, 6, 7, 8, 4, 8, 7, 3, 2, 7, 7, 6, 3, 6, 6, 6, 2, 2, 1\n",
      "197.9|6, 1, 7, 2, 5, 0, 5, 2, 2, 1, 7, 5, 6, 3, 1, 1, 0, 7, 2, 1, 2, 7, 8, 0, 6, 8, 6, 8, 8, 5\n",
      "198.9|4, 6, 7, 5, 4, 4, 4, 9, 3, 9, 3, 9, 6, 5, 0, 0, 1, 0, 7, 6, 8\n",
      "199.9|9, 8, 2, 6, 5, 6, 6, 5, 4, 5, 2, 0, 1, 0, 1, 9, 8, 5, 8, 5, 2, 1, 7, 5\n",
      "200.9|2, 2, 1, 2, 3, 6\n"
     ]
    }
   ],
   "source": [
    "print(stem_leaf(heroes_with_year['First appearance'][:150]))"
   ]
  },
  {
   "cell_type": "markdown",
   "metadata": {},
   "source": [
    "<div class=\"alert alert-info\">\n",
    "Il codice sopra prodotto è basato su alcune funzionalità avanzate della funzione `format` invocabile sulle stringhe. In particolare, viene formattato dell'output forzando la conversione da numeri in stringhe in modo da garantire che il risultato contenga un numero minimo (ma variabile) di caratteri, aggiungendo ove necessario in un caso degli spazi e in un altro degli zeri. Per approfondire la tematica della formattazione dell'output si rimanda alla  [documentazione ufficiale](https://docs.python.org/2/tutorial/inputoutput.html).\n",
    "</div>"
   ]
  },
  {
   "cell_type": "markdown",
   "metadata": {
    "footer": true
   },
   "source": [
    "<hr style=\"width: 90%;\" align=\"left\" />\n",
    "<span style=\"font-size: 0.8rem;\">D. Malchiodi, Superhero data science. Vol 1: probabilità e statistica: Dati e frequenze, 2017.</span>\n",
    "<br>\n",
    "<span style=\"font-size: 0.8rem;\">Powered by <img src=\"img/jupyter-logo.png\" style=\"height: 1rem; display: inline; margin-left: 0.5ex; margin-top: 0;\" alt=\"Jupyter Notebook\"></span>\n",
    "<div style=\"float: left; margin-top: 1ex;\">\n",
    "<img src=\"http://mirrors.creativecommons.org/presskit/icons/cc.large.png\" style=\"width: 1.5em; float: left; margin-right: 0.6ex; margin-top: 0;\">\n",
    "<img src=\"http://mirrors.creativecommons.org/presskit/icons/by.large.png\" style=\"width: 1.5em; float: left; margin-right: 0.6ex; margin-top: 0;\">\n",
    "<img src=\"http://mirrors.creativecommons.org/presskit/icons/nc.large.png\" style=\"width: 1.5em; float: left; margin-right: 0.6ex; margin-top: 0;\">\n",
    "<img src=\"http://mirrors.creativecommons.org/presskit/icons/nd.large.png\" style=\"width: 1.5em; float: left; margin-right: 0.6ex; margin-top: 0;\">\n",
    "<span style=\"font-size: 0.7rem; line-height: 0.7rem; vertical-align: middle;\">Quest'opera è distribuita con Licenza <a rel=\"license\" href=\"http://creativecommons.org/licenses/by-nc-nd/4.0/\">Creative Commons Attribuzione - Non commerciale - Non opere derivate 4.0 Internazionale</a></span>.\n",
    "</div>"
   ]
  }
 ],
 "metadata": {
  "kernelspec": {
   "display_name": "Python 3",
   "language": "python",
   "name": "python3"
  },
  "language_info": {
   "codemirror_mode": {
    "name": "ipython",
    "version": 3
   },
   "file_extension": ".py",
   "mimetype": "text/x-python",
   "name": "python",
   "nbconvert_exporter": "python",
   "pygments_lexer": "ipython3",
   "version": "3.7.3"
  },
  "latex_envs": {
   "LaTeX_envs_menu_present": true,
   "autoclose": true,
   "autocomplete": true,
   "bibliofile": "biblio.bib",
   "cite_by": "apalike",
   "current_citInitial": 1,
   "eqLabelWithNumbers": true,
   "eqNumInitial": 1,
   "hotkeys": {
    "equation": "Ctrl-E",
    "itemize": "Ctrl-I"
   },
   "labels_anchors": false,
   "latex_user_defs": false,
   "report_style_numbering": false,
   "user_envs_cfg": false
  },
  "toc": {
   "base_numbering": 1,
   "nav_menu": {},
   "number_sections": true,
   "sideBar": false,
   "skip_h1_title": false,
   "title_cell": "Table of Contents",
   "title_sidebar": "Contents",
   "toc_cell": true,
   "toc_position": {},
   "toc_section_display": true,
   "toc_window_display": false
  }
 },
 "nbformat": 4,
 "nbformat_minor": 2
}
